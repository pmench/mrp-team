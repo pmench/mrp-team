{
 "cells": [
  {
   "cell_type": "markdown",
   "id": "5599cc5a",
   "metadata": {},
   "source": [
    "<h1>Process & the ML Agenda</h1>\n",
    "\n",
    "Process info from Monmouth University 2020 national poll\n",
    "\n",
    "- courtesy of your mom"
   ]
  },
  {
   "cell_type": "code",
   "execution_count": 110,
   "id": "d578c7ee",
   "metadata": {},
   "outputs": [],
   "source": [
    "import os\n",
    "import numpy as np\n",
    "import pandas as pd\n",
    "\n",
    "from sklearn.model_selection import train_test_split"
   ]
  },
  {
   "cell_type": "markdown",
   "id": "3f2abcfd",
   "metadata": {},
   "source": [
    "<h2>Rename Columns</h2>"
   ]
  },
  {
   "cell_type": "code",
   "execution_count": 111,
   "id": "e434c511",
   "metadata": {},
   "outputs": [],
   "source": [
    "nat_2020 = pd.read_csv(\"../data/national_march_2020/MUP213_NATL_archive.tab\", sep = \"\\t\")"
   ]
  },
  {
   "cell_type": "code",
   "execution_count": 112,
   "id": "fc0fbaa4",
   "metadata": {},
   "outputs": [
    {
     "data": {
      "text/plain": [
       "Index(['RESPID', 'PHTYPE', 'Q1', 'Q2', 'Q3', 'Q4', 'Q5', 'Q6A', 'Q6B', 'Q6C',\n",
       "       'Q6D', 'Q6E', 'Q6F', 'Q7', 'Q8', 'Q9', 'Q9A.1', 'Q9A.2', 'Q9A.3',\n",
       "       'Q10A', 'Q10B', 'Q10C', 'Q10D', 'Q10E', 'Q10F', 'Q10G', 'QD1', 'Q11',\n",
       "       'Q12', 'Q12B', 'Q13', 'Q14', 'Q15', 'Q16', 'Q17', 'Q18', 'Q19', 'QD2',\n",
       "       'QD2A', 'QD3', 'QD4', 'QD5', 'QD5A', 'QD6', 'QD7', 'QD8', 'QD9', 'QD10',\n",
       "       'QD11', 'FINALWGT'],\n",
       "      dtype='object')"
      ]
     },
     "execution_count": 112,
     "metadata": {},
     "output_type": "execute_result"
    }
   ],
   "source": [
    "nat_2020.columns"
   ]
  },
  {
   "cell_type": "code",
   "execution_count": 113,
   "id": "6a7e83c7",
   "metadata": {},
   "outputs": [],
   "source": [
    "nat_2020 = nat_2020.rename(columns = {\n",
    "        'Q3': 'top_household_concern',\n",
    "        'QD1': 'registered_vote',\n",
    "        'Q11': 'likely_to_vote',\n",
    "        'Q12': 'vote_choice',\n",
    "        'Q12B': 'vote_choice_undecided',\n",
    "        'Q13': 'approve_trump',\n",
    "        'Q14': 'approve_biden',\n",
    "        'Q15': 'optimistic',\n",
    "        'Q16': 'elec_enthusiasm',\n",
    "        'Q17': 'economic_situation',\n",
    "        'Q19': 'focused_imp_issues',\n",
    "        'QD2': 'party',\n",
    "        'QD2A': 'party_unaffiliated',\n",
    "        'QD3': 'political_leaning',\n",
    "        'QD4': 'education',\n",
    "        'QD5': 'age',\n",
    "        'QD5A': 'age_bin',\n",
    "        'QD7': 'latino',\n",
    "        'QD8': 'race',\n",
    "        'QD10': 'gender',\n",
    "        'QD11': 'state'\n",
    "})"
   ]
  },
  {
   "cell_type": "code",
   "execution_count": 114,
   "id": "0b15a08c",
   "metadata": {},
   "outputs": [],
   "source": [
    "nat_2020 = nat_2020.drop(columns = [c for c in nat_2020.columns if 'Q' in c])"
   ]
  },
  {
   "cell_type": "code",
   "execution_count": 115,
   "id": "0de62aec",
   "metadata": {},
   "outputs": [
    {
     "data": {
      "text/plain": [
       "2.0    358\n",
       "1.0    320\n",
       "8.0     39\n",
       "6.0     21\n",
       "9.0     12\n",
       "7.0      3\n",
       "Name: vote_choice, dtype: int64"
      ]
     },
     "execution_count": 115,
     "metadata": {},
     "output_type": "execute_result"
    }
   ],
   "source": [
    "nat_2020['vote_choice'].value_counts()"
   ]
  },
  {
   "cell_type": "code",
   "execution_count": 116,
   "id": "23d91512",
   "metadata": {},
   "outputs": [
    {
     "data": {
      "text/plain": [
       "Index(['RESPID', 'PHTYPE', 'top_household_concern', 'registered_vote',\n",
       "       'likely_to_vote', 'vote_choice', 'vote_choice_undecided',\n",
       "       'approve_trump', 'approve_biden', 'optimistic', 'elec_enthusiasm',\n",
       "       'economic_situation', 'focused_imp_issues', 'party',\n",
       "       'party_unaffiliated', 'political_leaning', 'education', 'age',\n",
       "       'age_bin', 'latino', 'race', 'gender', 'state', 'FINALWGT'],\n",
       "      dtype='object')"
      ]
     },
     "execution_count": 116,
     "metadata": {},
     "output_type": "execute_result"
    }
   ],
   "source": [
    "nat_2020.columns"
   ]
  },
  {
   "cell_type": "markdown",
   "id": "0aaf7645",
   "metadata": {},
   "source": [
    "<h2>Recode Variables</h2>\n",
    "\n",
    "<h3>Vote Choice</h3>"
   ]
  },
  {
   "cell_type": "code",
   "execution_count": 117,
   "id": "7c394a55",
   "metadata": {},
   "outputs": [],
   "source": [
    "nat_2020['vote_choice_recoded'] = nat_2020.apply(lambda s: np.where(s['vote_choice'] in [6.0, 8.0, 9.0, 7.0], s['vote_choice_undecided'], s['vote_choice']), axis = 1)\n",
    "nat_2020['vote_choice_recoded'] = nat_2020['vote_choice_recoded'].apply(lambda s: np.where(s in [3.0, 9.0], 3.0, s))"
   ]
  },
  {
   "cell_type": "markdown",
   "id": "e1765f1b",
   "metadata": {},
   "source": [
    "<h3>Party Leaning</h3>"
   ]
  },
  {
   "cell_type": "code",
   "execution_count": 118,
   "id": "5f512311",
   "metadata": {},
   "outputs": [],
   "source": [
    "nat_2020['party_recoded'] = nat_2020.apply(lambda s: np.where(s['party'] in [4.0, 9.0], s['party_unaffiliated'], s['party']), axis = 1)\n",
    "nat_2020['party_recoded'] = nat_2020['party_recoded'].apply(lambda s: np.where(s in [3.0, 9.0], 3.0, s))"
   ]
  },
  {
   "cell_type": "markdown",
   "id": "615bb87d",
   "metadata": {},
   "source": [
    "<h3>Age</h3>\n",
    "\n",
    "Convert so they're all in bins"
   ]
  },
  {
   "cell_type": "code",
   "execution_count": 119,
   "id": "3a52d1ea",
   "metadata": {},
   "outputs": [],
   "source": [
    "nat_2020['age_recoded'] = nat_2020.apply(lambda s: np.where(not pd.isnull(s['age_bin']), s['age_bin'], s['age']), axis = 1)\n",
    "\n",
    "nat_2020['age_recoded'] = nat_2020['age_recoded'].apply(lambda s: np.where(s >= 18 and s <= 34 and not pd.isnull(s), 1.0, \n",
    "                                                        np.where(s >= 35 and s <= 54, 2.0, 3.0)))"
   ]
  },
  {
   "cell_type": "markdown",
   "id": "3836f219",
   "metadata": {},
   "source": [
    "<h3>Approval Ratings</h3>"
   ]
  },
  {
   "cell_type": "code",
   "execution_count": 120,
   "id": "c1f9a30b",
   "metadata": {},
   "outputs": [],
   "source": [
    "nat_2020['approve_trump'] = nat_2020['approve_trump'] == 1\n",
    "nat_2020['approve_biden'] = nat_2020['approve_biden'] == 1"
   ]
  },
  {
   "cell_type": "markdown",
   "id": "a9cedc1d",
   "metadata": {},
   "source": [
    "<h3>Race</h3>\n",
    "\n",
    "Overwrite if hispanic/latino"
   ]
  },
  {
   "cell_type": "code",
   "execution_count": 121,
   "id": "79fc03e5",
   "metadata": {},
   "outputs": [],
   "source": [
    "nat_2020['latino'] = nat_2020['latino'] == 1"
   ]
  },
  {
   "cell_type": "code",
   "execution_count": 122,
   "id": "7b18965c",
   "metadata": {},
   "outputs": [],
   "source": [
    "def recode_race(s):\n",
    "    if s['latino'] == 1 or s['race'] == 4: \n",
    "        return 4\n",
    "    elif s['race'] != 5 and s['race'] != 9:\n",
    "        return s['race']\n",
    "    else:\n",
    "        return 9"
   ]
  },
  {
   "cell_type": "code",
   "execution_count": 123,
   "id": "f07cfa7c",
   "metadata": {},
   "outputs": [],
   "source": [
    "nat_2020['race_recoded'] = nat_2020.apply(recode_race, axis = 1)"
   ]
  },
  {
   "cell_type": "markdown",
   "id": "9571dfd4",
   "metadata": {},
   "source": [
    "<h3>Gender</h3>"
   ]
  },
  {
   "cell_type": "code",
   "execution_count": 124,
   "id": "ce9bf84e",
   "metadata": {},
   "outputs": [],
   "source": [
    "nat_2020['male'] = nat_2020['gender'] == 1"
   ]
  },
  {
   "cell_type": "code",
   "execution_count": 125,
   "id": "c056db91",
   "metadata": {},
   "outputs": [],
   "source": [
    "# nat_2020.to_csv(\"../data/nat_2020_cleaned_no_dummies.csv\", index = False)"
   ]
  },
  {
   "cell_type": "code",
   "execution_count": 126,
   "id": "ca52bad0",
   "metadata": {},
   "outputs": [
    {
     "data": {
      "text/plain": [
       "1    754\n",
       "2     94\n",
       "9      3\n",
       "Name: registered_vote, dtype: int64"
      ]
     },
     "execution_count": 126,
     "metadata": {},
     "output_type": "execute_result"
    }
   ],
   "source": [
    "nat_2020['registered_vote'].value_counts()"
   ]
  },
  {
   "cell_type": "code",
   "execution_count": 127,
   "id": "a6d0009c",
   "metadata": {},
   "outputs": [
    {
     "data": {
      "text/plain": [
       "2    399\n",
       "1    394\n",
       "9     58\n",
       "Name: focused_imp_issues, dtype: int64"
      ]
     },
     "execution_count": 127,
     "metadata": {},
     "output_type": "execute_result"
    }
   ],
   "source": [
    "nat_2020['focused_imp_issues'].value_counts()"
   ]
  },
  {
   "cell_type": "code",
   "execution_count": 128,
   "id": "eff2cf9f",
   "metadata": {},
   "outputs": [
    {
     "data": {
      "text/plain": [
       "3.0    357\n",
       "2.0    304\n",
       "1.0    190\n",
       "Name: age_recoded, dtype: int64"
      ]
     },
     "execution_count": 128,
     "metadata": {},
     "output_type": "execute_result"
    }
   ],
   "source": [
    "nat_2020['age_recoded'].value_counts()"
   ]
  },
  {
   "cell_type": "code",
   "execution_count": 129,
   "id": "7ca868f3",
   "metadata": {},
   "outputs": [
    {
     "data": {
      "text/plain": [
       "2    548\n",
       "1    202\n",
       "3     93\n",
       "9      8\n",
       "Name: economic_situation, dtype: int64"
      ]
     },
     "execution_count": 129,
     "metadata": {},
     "output_type": "execute_result"
    }
   ],
   "source": [
    "nat_2020['economic_situation'].value_counts()"
   ]
  },
  {
   "cell_type": "markdown",
   "id": "b124947d",
   "metadata": {},
   "source": [
    "<h3>Registered to Vote</h3>"
   ]
  },
  {
   "cell_type": "code",
   "execution_count": 130,
   "id": "fe15d870",
   "metadata": {},
   "outputs": [],
   "source": [
    "# True if they're registered to vote, false otherwise\n",
    "nat_2020['registered_vote'] = nat_2020['registered_vote'] == 1"
   ]
  },
  {
   "cell_type": "markdown",
   "id": "404c9f3e",
   "metadata": {},
   "source": [
    "<h3>Focused on Important Issues</h3>"
   ]
  },
  {
   "cell_type": "code",
   "execution_count": 131,
   "id": "02669f23",
   "metadata": {},
   "outputs": [],
   "source": [
    "# True if they think Trump is focused on important issues, False otherwise\n",
    "nat_2020['focused_imp_issues'] = nat_2020['focused_imp_issues'] == 1"
   ]
  },
  {
   "cell_type": "code",
   "execution_count": 132,
   "id": "18539002",
   "metadata": {},
   "outputs": [
    {
     "data": {
      "text/plain": [
       "False    457\n",
       "True     394\n",
       "Name: focused_imp_issues, dtype: int64"
      ]
     },
     "execution_count": 132,
     "metadata": {},
     "output_type": "execute_result"
    }
   ],
   "source": [
    "nat_2020['focused_imp_issues'].value_counts()"
   ]
  },
  {
   "cell_type": "markdown",
   "id": "747aab2f",
   "metadata": {},
   "source": [
    "<h3>Combine Concerns</h3>"
   ]
  },
  {
   "cell_type": "code",
   "execution_count": 133,
   "id": "9b8d41a1",
   "metadata": {},
   "outputs": [],
   "source": [
    "# combine some of the similar household concern categories \n",
    "nat_2020['top_household_concern'] = nat_2020['top_household_concern'].apply(lambda s: np.where(s in [6.0, 7.0], 6.0, s))\n",
    "nat_2020['top_household_concern'] = nat_2020['top_household_concern'].apply(lambda s: np.where(s in [10.0, 11.0], 10.0, s))"
   ]
  },
  {
   "cell_type": "markdown",
   "id": "38b3d4e7",
   "metadata": {},
   "source": [
    "<h3>Education</h3>"
   ]
  },
  {
   "cell_type": "code",
   "execution_count": 134,
   "id": "64e62616",
   "metadata": {},
   "outputs": [],
   "source": [
    "# turn into no high school, some college or vocational, college or others \n",
    "def recode_education(s):\n",
    "    if s <= 3:\n",
    "        return 1\n",
    "    elif s > 4 and s <=6:\n",
    "        return 2\n",
    "    elif s >= 7:\n",
    "        return 3\n",
    "    else:\n",
    "        return 9"
   ]
  },
  {
   "cell_type": "code",
   "execution_count": 135,
   "id": "afe74806",
   "metadata": {},
   "outputs": [],
   "source": [
    "nat_2020['education_recoded'] = nat_2020['education'].apply(recode_education)"
   ]
  },
  {
   "cell_type": "markdown",
   "id": "74797d5b",
   "metadata": {},
   "source": [
    "<h3>Political Leaning</h3>"
   ]
  },
  {
   "cell_type": "code",
   "execution_count": 136,
   "id": "6b094523",
   "metadata": {},
   "outputs": [],
   "source": [
    "# combine into liberal, conservative, moderate, or other\n",
    "def recode_political_leaning(s):\n",
    "    if s <= 2:\n",
    "        return 1\n",
    "    elif s == 4 or s == 9:\n",
    "        return 2\n",
    "    elif s == 3:\n",
    "        return 3\n",
    "    else:\n",
    "        return 4"
   ]
  },
  {
   "cell_type": "code",
   "execution_count": 137,
   "id": "6a4c990f",
   "metadata": {},
   "outputs": [],
   "source": [
    "nat_2020['political_leaning'] = nat_2020['political_leaning'].apply(recode_political_leaning)"
   ]
  },
  {
   "cell_type": "markdown",
   "id": "fddc6bc0",
   "metadata": {},
   "source": [
    "<h3>Optimistic</h3>"
   ]
  },
  {
   "cell_type": "code",
   "execution_count": 138,
   "id": "34e273aa",
   "metadata": {},
   "outputs": [],
   "source": [
    "# true if optimistic about website, false otherwise\n",
    "nat_2020['optimistic'] = nat_2020['optimistic'] <= 2"
   ]
  },
  {
   "cell_type": "markdown",
   "id": "afb7048c",
   "metadata": {},
   "source": [
    "<h3>Region</h3>"
   ]
  },
  {
   "cell_type": "code",
   "execution_count": 139,
   "id": "5c6d9548",
   "metadata": {},
   "outputs": [],
   "source": [
    "### https://www2.census.gov/geo/pdfs/maps-data/maps/reference/us_regdiv.pdf\n",
    "def recode_region(s):\n",
    "    new_england = [9.0, 23.0, 25.0, 33.0, 44.0, 50.0, 34.0, 36.0, 42.0]\n",
    "    midwest = [18.0, 17.0, 26.0, 39.0, 55.0, 19.0, 20.0, 27.0, 29.0, 31.0, 38.0, 46.0]\n",
    "    south = [10.0, 11.0, 12.0, 13.0, 24.0, 37.0, 45.0, 51.0, 54.0, 1.0, 21.0, 28.0, 47.0, 5.0, 22.0, 40.0, 48.0]\n",
    "    west = [4.0, 8.0, 16.0, 35.0, 30.0, 49.0, 32.0, 56.0, 2.0, 6.0, 15.0, 41.0, 53.0]\n",
    "    \n",
    "    if s in new_england:\n",
    "        return 1\n",
    "    elif s in midwest:\n",
    "        return 2 \n",
    "    elif s in south:\n",
    "        return 3\n",
    "    elif s in west:\n",
    "        return 4\n",
    "    \n",
    "    "
   ]
  },
  {
   "cell_type": "code",
   "execution_count": 140,
   "id": "c10bba18",
   "metadata": {},
   "outputs": [],
   "source": [
    "nat_2020['region'] = nat_2020['state'].apply(recode_region)"
   ]
  },
  {
   "cell_type": "markdown",
   "id": "934ec72c",
   "metadata": {},
   "source": [
    "<h2>Add Dummy Variables</h2>"
   ]
  },
  {
   "cell_type": "code",
   "execution_count": 141,
   "id": "69ed090a",
   "metadata": {},
   "outputs": [],
   "source": [
    "# categoricals = ['top_household_concern', 'registered_vote', 'region',\n",
    "#                 'likely_to_vote', 'vote_choice', 'vote_choice_undecided', \n",
    "#                 'elec_enthusiasm', 'political_leaning', 'race_recoded', 'party_recoded', 'age_recoded', 'economic_situation', 'education_recoded']\n",
    "\n",
    "categoricals = ['top_household_concern', 'registered_vote', 'region','economic_situation','likely_to_vote', 'vote_choice', 'vote_choice_undecided', 'education_recoded','elec_enthusiasm', 'political_leaning', 'race_recoded', 'party_recoded', 'age_recoded']"
   ]
  },
  {
   "cell_type": "code",
   "execution_count": 142,
   "id": "c3e6cdbf",
   "metadata": {},
   "outputs": [],
   "source": [
    "for category in categoricals:\n",
    "    nat_2020[category] = nat_2020[category].astype('category')\n",
    "\n",
    "\n",
    "dummies = pd.get_dummies(nat_2020[categoricals], drop_first=True)"
   ]
  },
  {
   "cell_type": "code",
   "execution_count": 87,
   "id": "61cbc154",
   "metadata": {},
   "outputs": [
    {
     "data": {
      "text/html": [
       "<div>\n",
       "<style scoped>\n",
       "    .dataframe tbody tr th:only-of-type {\n",
       "        vertical-align: middle;\n",
       "    }\n",
       "\n",
       "    .dataframe tbody tr th {\n",
       "        vertical-align: top;\n",
       "    }\n",
       "\n",
       "    .dataframe thead th {\n",
       "        text-align: right;\n",
       "    }\n",
       "</style>\n",
       "<table border=\"1\" class=\"dataframe\">\n",
       "  <thead>\n",
       "    <tr style=\"text-align: right;\">\n",
       "      <th></th>\n",
       "      <th>top_household_concern_2.0</th>\n",
       "      <th>top_household_concern_3.0</th>\n",
       "      <th>top_household_concern_4.0</th>\n",
       "      <th>top_household_concern_5.0</th>\n",
       "      <th>top_household_concern_6.0</th>\n",
       "      <th>top_household_concern_8.0</th>\n",
       "      <th>top_household_concern_9.0</th>\n",
       "      <th>top_household_concern_10.0</th>\n",
       "      <th>top_household_concern_12.0</th>\n",
       "      <th>top_household_concern_13.0</th>\n",
       "      <th>...</th>\n",
       "      <th>political_leaning_3</th>\n",
       "      <th>political_leaning_4</th>\n",
       "      <th>race_recoded_2</th>\n",
       "      <th>race_recoded_3</th>\n",
       "      <th>race_recoded_4</th>\n",
       "      <th>race_recoded_9</th>\n",
       "      <th>party_recoded_2.0</th>\n",
       "      <th>party_recoded_3.0</th>\n",
       "      <th>age_recoded_2.0</th>\n",
       "      <th>age_recoded_3.0</th>\n",
       "    </tr>\n",
       "  </thead>\n",
       "  <tbody>\n",
       "    <tr>\n",
       "      <th>0</th>\n",
       "      <td>0</td>\n",
       "      <td>0</td>\n",
       "      <td>0</td>\n",
       "      <td>0</td>\n",
       "      <td>0</td>\n",
       "      <td>0</td>\n",
       "      <td>0</td>\n",
       "      <td>0</td>\n",
       "      <td>0</td>\n",
       "      <td>0</td>\n",
       "      <td>...</td>\n",
       "      <td>0</td>\n",
       "      <td>0</td>\n",
       "      <td>0</td>\n",
       "      <td>0</td>\n",
       "      <td>0</td>\n",
       "      <td>0</td>\n",
       "      <td>0</td>\n",
       "      <td>0</td>\n",
       "      <td>1</td>\n",
       "      <td>0</td>\n",
       "    </tr>\n",
       "    <tr>\n",
       "      <th>1</th>\n",
       "      <td>0</td>\n",
       "      <td>0</td>\n",
       "      <td>0</td>\n",
       "      <td>0</td>\n",
       "      <td>0</td>\n",
       "      <td>0</td>\n",
       "      <td>0</td>\n",
       "      <td>0</td>\n",
       "      <td>0</td>\n",
       "      <td>0</td>\n",
       "      <td>...</td>\n",
       "      <td>0</td>\n",
       "      <td>1</td>\n",
       "      <td>0</td>\n",
       "      <td>0</td>\n",
       "      <td>0</td>\n",
       "      <td>0</td>\n",
       "      <td>0</td>\n",
       "      <td>1</td>\n",
       "      <td>0</td>\n",
       "      <td>0</td>\n",
       "    </tr>\n",
       "    <tr>\n",
       "      <th>2</th>\n",
       "      <td>0</td>\n",
       "      <td>0</td>\n",
       "      <td>0</td>\n",
       "      <td>0</td>\n",
       "      <td>0</td>\n",
       "      <td>0</td>\n",
       "      <td>0</td>\n",
       "      <td>0</td>\n",
       "      <td>0</td>\n",
       "      <td>0</td>\n",
       "      <td>...</td>\n",
       "      <td>1</td>\n",
       "      <td>0</td>\n",
       "      <td>0</td>\n",
       "      <td>0</td>\n",
       "      <td>0</td>\n",
       "      <td>0</td>\n",
       "      <td>0</td>\n",
       "      <td>0</td>\n",
       "      <td>0</td>\n",
       "      <td>1</td>\n",
       "    </tr>\n",
       "    <tr>\n",
       "      <th>3</th>\n",
       "      <td>0</td>\n",
       "      <td>0</td>\n",
       "      <td>0</td>\n",
       "      <td>0</td>\n",
       "      <td>0</td>\n",
       "      <td>0</td>\n",
       "      <td>0</td>\n",
       "      <td>0</td>\n",
       "      <td>0</td>\n",
       "      <td>0</td>\n",
       "      <td>...</td>\n",
       "      <td>1</td>\n",
       "      <td>0</td>\n",
       "      <td>0</td>\n",
       "      <td>0</td>\n",
       "      <td>0</td>\n",
       "      <td>0</td>\n",
       "      <td>1</td>\n",
       "      <td>0</td>\n",
       "      <td>0</td>\n",
       "      <td>1</td>\n",
       "    </tr>\n",
       "    <tr>\n",
       "      <th>4</th>\n",
       "      <td>0</td>\n",
       "      <td>0</td>\n",
       "      <td>0</td>\n",
       "      <td>0</td>\n",
       "      <td>0</td>\n",
       "      <td>0</td>\n",
       "      <td>0</td>\n",
       "      <td>0</td>\n",
       "      <td>0</td>\n",
       "      <td>0</td>\n",
       "      <td>...</td>\n",
       "      <td>0</td>\n",
       "      <td>0</td>\n",
       "      <td>0</td>\n",
       "      <td>0</td>\n",
       "      <td>0</td>\n",
       "      <td>1</td>\n",
       "      <td>0</td>\n",
       "      <td>0</td>\n",
       "      <td>1</td>\n",
       "      <td>0</td>\n",
       "    </tr>\n",
       "    <tr>\n",
       "      <th>...</th>\n",
       "      <td>...</td>\n",
       "      <td>...</td>\n",
       "      <td>...</td>\n",
       "      <td>...</td>\n",
       "      <td>...</td>\n",
       "      <td>...</td>\n",
       "      <td>...</td>\n",
       "      <td>...</td>\n",
       "      <td>...</td>\n",
       "      <td>...</td>\n",
       "      <td>...</td>\n",
       "      <td>...</td>\n",
       "      <td>...</td>\n",
       "      <td>...</td>\n",
       "      <td>...</td>\n",
       "      <td>...</td>\n",
       "      <td>...</td>\n",
       "      <td>...</td>\n",
       "      <td>...</td>\n",
       "      <td>...</td>\n",
       "      <td>...</td>\n",
       "    </tr>\n",
       "    <tr>\n",
       "      <th>846</th>\n",
       "      <td>0</td>\n",
       "      <td>0</td>\n",
       "      <td>0</td>\n",
       "      <td>0</td>\n",
       "      <td>0</td>\n",
       "      <td>0</td>\n",
       "      <td>0</td>\n",
       "      <td>1</td>\n",
       "      <td>0</td>\n",
       "      <td>0</td>\n",
       "      <td>...</td>\n",
       "      <td>1</td>\n",
       "      <td>0</td>\n",
       "      <td>0</td>\n",
       "      <td>0</td>\n",
       "      <td>0</td>\n",
       "      <td>0</td>\n",
       "      <td>0</td>\n",
       "      <td>1</td>\n",
       "      <td>1</td>\n",
       "      <td>0</td>\n",
       "    </tr>\n",
       "    <tr>\n",
       "      <th>847</th>\n",
       "      <td>0</td>\n",
       "      <td>0</td>\n",
       "      <td>0</td>\n",
       "      <td>0</td>\n",
       "      <td>0</td>\n",
       "      <td>0</td>\n",
       "      <td>0</td>\n",
       "      <td>0</td>\n",
       "      <td>0</td>\n",
       "      <td>0</td>\n",
       "      <td>...</td>\n",
       "      <td>0</td>\n",
       "      <td>0</td>\n",
       "      <td>0</td>\n",
       "      <td>0</td>\n",
       "      <td>0</td>\n",
       "      <td>0</td>\n",
       "      <td>1</td>\n",
       "      <td>0</td>\n",
       "      <td>0</td>\n",
       "      <td>0</td>\n",
       "    </tr>\n",
       "    <tr>\n",
       "      <th>848</th>\n",
       "      <td>0</td>\n",
       "      <td>0</td>\n",
       "      <td>0</td>\n",
       "      <td>0</td>\n",
       "      <td>0</td>\n",
       "      <td>0</td>\n",
       "      <td>0</td>\n",
       "      <td>0</td>\n",
       "      <td>0</td>\n",
       "      <td>0</td>\n",
       "      <td>...</td>\n",
       "      <td>0</td>\n",
       "      <td>1</td>\n",
       "      <td>0</td>\n",
       "      <td>0</td>\n",
       "      <td>0</td>\n",
       "      <td>0</td>\n",
       "      <td>1</td>\n",
       "      <td>0</td>\n",
       "      <td>0</td>\n",
       "      <td>1</td>\n",
       "    </tr>\n",
       "    <tr>\n",
       "      <th>849</th>\n",
       "      <td>0</td>\n",
       "      <td>0</td>\n",
       "      <td>0</td>\n",
       "      <td>0</td>\n",
       "      <td>0</td>\n",
       "      <td>0</td>\n",
       "      <td>0</td>\n",
       "      <td>0</td>\n",
       "      <td>0</td>\n",
       "      <td>0</td>\n",
       "      <td>...</td>\n",
       "      <td>1</td>\n",
       "      <td>0</td>\n",
       "      <td>1</td>\n",
       "      <td>0</td>\n",
       "      <td>0</td>\n",
       "      <td>0</td>\n",
       "      <td>1</td>\n",
       "      <td>0</td>\n",
       "      <td>1</td>\n",
       "      <td>0</td>\n",
       "    </tr>\n",
       "    <tr>\n",
       "      <th>850</th>\n",
       "      <td>0</td>\n",
       "      <td>0</td>\n",
       "      <td>0</td>\n",
       "      <td>0</td>\n",
       "      <td>0</td>\n",
       "      <td>0</td>\n",
       "      <td>1</td>\n",
       "      <td>0</td>\n",
       "      <td>0</td>\n",
       "      <td>0</td>\n",
       "      <td>...</td>\n",
       "      <td>0</td>\n",
       "      <td>0</td>\n",
       "      <td>0</td>\n",
       "      <td>0</td>\n",
       "      <td>1</td>\n",
       "      <td>0</td>\n",
       "      <td>0</td>\n",
       "      <td>0</td>\n",
       "      <td>0</td>\n",
       "      <td>0</td>\n",
       "    </tr>\n",
       "  </tbody>\n",
       "</table>\n",
       "<p>851 rows × 56 columns</p>\n",
       "</div>"
      ],
      "text/plain": [
       "     top_household_concern_2.0  top_household_concern_3.0  \\\n",
       "0                            0                          0   \n",
       "1                            0                          0   \n",
       "2                            0                          0   \n",
       "3                            0                          0   \n",
       "4                            0                          0   \n",
       "..                         ...                        ...   \n",
       "846                          0                          0   \n",
       "847                          0                          0   \n",
       "848                          0                          0   \n",
       "849                          0                          0   \n",
       "850                          0                          0   \n",
       "\n",
       "     top_household_concern_4.0  top_household_concern_5.0  \\\n",
       "0                            0                          0   \n",
       "1                            0                          0   \n",
       "2                            0                          0   \n",
       "3                            0                          0   \n",
       "4                            0                          0   \n",
       "..                         ...                        ...   \n",
       "846                          0                          0   \n",
       "847                          0                          0   \n",
       "848                          0                          0   \n",
       "849                          0                          0   \n",
       "850                          0                          0   \n",
       "\n",
       "     top_household_concern_6.0  top_household_concern_8.0  \\\n",
       "0                            0                          0   \n",
       "1                            0                          0   \n",
       "2                            0                          0   \n",
       "3                            0                          0   \n",
       "4                            0                          0   \n",
       "..                         ...                        ...   \n",
       "846                          0                          0   \n",
       "847                          0                          0   \n",
       "848                          0                          0   \n",
       "849                          0                          0   \n",
       "850                          0                          0   \n",
       "\n",
       "     top_household_concern_9.0  top_household_concern_10.0  \\\n",
       "0                            0                           0   \n",
       "1                            0                           0   \n",
       "2                            0                           0   \n",
       "3                            0                           0   \n",
       "4                            0                           0   \n",
       "..                         ...                         ...   \n",
       "846                          0                           1   \n",
       "847                          0                           0   \n",
       "848                          0                           0   \n",
       "849                          0                           0   \n",
       "850                          1                           0   \n",
       "\n",
       "     top_household_concern_12.0  top_household_concern_13.0  ...  \\\n",
       "0                             0                           0  ...   \n",
       "1                             0                           0  ...   \n",
       "2                             0                           0  ...   \n",
       "3                             0                           0  ...   \n",
       "4                             0                           0  ...   \n",
       "..                          ...                         ...  ...   \n",
       "846                           0                           0  ...   \n",
       "847                           0                           0  ...   \n",
       "848                           0                           0  ...   \n",
       "849                           0                           0  ...   \n",
       "850                           0                           0  ...   \n",
       "\n",
       "     political_leaning_3  political_leaning_4  race_recoded_2  race_recoded_3  \\\n",
       "0                      0                    0               0               0   \n",
       "1                      0                    1               0               0   \n",
       "2                      1                    0               0               0   \n",
       "3                      1                    0               0               0   \n",
       "4                      0                    0               0               0   \n",
       "..                   ...                  ...             ...             ...   \n",
       "846                    1                    0               0               0   \n",
       "847                    0                    0               0               0   \n",
       "848                    0                    1               0               0   \n",
       "849                    1                    0               1               0   \n",
       "850                    0                    0               0               0   \n",
       "\n",
       "     race_recoded_4  race_recoded_9  party_recoded_2.0  party_recoded_3.0  \\\n",
       "0                 0               0                  0                  0   \n",
       "1                 0               0                  0                  1   \n",
       "2                 0               0                  0                  0   \n",
       "3                 0               0                  1                  0   \n",
       "4                 0               1                  0                  0   \n",
       "..              ...             ...                ...                ...   \n",
       "846               0               0                  0                  1   \n",
       "847               0               0                  1                  0   \n",
       "848               0               0                  1                  0   \n",
       "849               0               0                  1                  0   \n",
       "850               1               0                  0                  0   \n",
       "\n",
       "     age_recoded_2.0  age_recoded_3.0  \n",
       "0                  1                0  \n",
       "1                  0                0  \n",
       "2                  0                1  \n",
       "3                  0                1  \n",
       "4                  1                0  \n",
       "..               ...              ...  \n",
       "846                1                0  \n",
       "847                0                0  \n",
       "848                0                1  \n",
       "849                1                0  \n",
       "850                0                0  \n",
       "\n",
       "[851 rows x 56 columns]"
      ]
     },
     "execution_count": 87,
     "metadata": {},
     "output_type": "execute_result"
    }
   ],
   "source": [
    "dummies\n"
   ]
  },
  {
   "cell_type": "code",
   "execution_count": 88,
   "id": "bb678cb9",
   "metadata": {},
   "outputs": [],
   "source": [
    "nat_2020 = nat_2020[[c for c in nat_2020.columns if c not in categoricals]]"
   ]
  },
  {
   "cell_type": "code",
   "execution_count": 89,
   "id": "07ed0459",
   "metadata": {},
   "outputs": [],
   "source": [
    "nat_2020 = pd.concat([nat_2020, dummies], axis = 1)"
   ]
  },
  {
   "cell_type": "code",
   "execution_count": 90,
   "id": "b6643c72",
   "metadata": {},
   "outputs": [],
   "source": [
    "nat_2020 = nat_2020[(nat_2020['vote_choice_recoded'] != 3.0) | \n",
    "                    (nat_2020['vote_choice_recoded'] != 7.0) |\n",
    "                    (pd.isnull(nat_2020['vote_choice_recoded']) == False)]\n",
    "\n",
    "\n",
    "\n",
    "\n"
   ]
  },
  {
   "cell_type": "code",
   "execution_count": 91,
   "id": "564f1cdc",
   "metadata": {},
   "outputs": [
    {
     "data": {
      "text/plain": [
       "Index(['RESPID', 'PHTYPE', 'approve_trump', 'approve_biden', 'optimistic',\n",
       "       'focused_imp_issues', 'party', 'party_unaffiliated', 'education', 'age',\n",
       "       'age_bin', 'latino', 'race', 'gender', 'state', 'FINALWGT',\n",
       "       'vote_choice_recoded', 'male', 'top_household_concern_2.0',\n",
       "       'top_household_concern_3.0', 'top_household_concern_4.0',\n",
       "       'top_household_concern_5.0', 'top_household_concern_6.0',\n",
       "       'top_household_concern_8.0', 'top_household_concern_9.0',\n",
       "       'top_household_concern_10.0', 'top_household_concern_12.0',\n",
       "       'top_household_concern_13.0', 'top_household_concern_14.0',\n",
       "       'top_household_concern_15.0', 'top_household_concern_16.0',\n",
       "       'top_household_concern_17.0', 'top_household_concern_18.0',\n",
       "       'top_household_concern_19.0', 'top_household_concern_20.0',\n",
       "       'top_household_concern_28.0', 'top_household_concern_29.0',\n",
       "       'top_household_concern_30.0', 'registered_vote_True', 'region_2.0',\n",
       "       'region_3.0', 'region_4.0', 'economic_situation_2',\n",
       "       'economic_situation_3', 'economic_situation_9', 'likely_to_vote_2.0',\n",
       "       'likely_to_vote_3.0', 'likely_to_vote_4.0', 'likely_to_vote_5.0',\n",
       "       'vote_choice_2.0', 'vote_choice_6.0', 'vote_choice_7.0',\n",
       "       'vote_choice_8.0', 'vote_choice_9.0', 'vote_choice_undecided_2.0',\n",
       "       'vote_choice_undecided_3.0', 'vote_choice_undecided_9.0',\n",
       "       'education_recoded_2', 'education_recoded_3', 'education_recoded_9',\n",
       "       'elec_enthusiasm_2', 'elec_enthusiasm_3', 'elec_enthusiasm_9',\n",
       "       'political_leaning_2', 'political_leaning_3', 'political_leaning_4',\n",
       "       'race_recoded_2', 'race_recoded_3', 'race_recoded_4', 'race_recoded_9',\n",
       "       'party_recoded_2.0', 'party_recoded_3.0', 'age_recoded_2.0',\n",
       "       'age_recoded_3.0'],\n",
       "      dtype='object')"
      ]
     },
     "execution_count": 91,
     "metadata": {},
     "output_type": "execute_result"
    }
   ],
   "source": [
    "nat_2020.columns"
   ]
  },
  {
   "cell_type": "markdown",
   "id": "eb772f6f",
   "metadata": {},
   "source": [
    "<h2>Train Test Split</h2>"
   ]
  },
  {
   "cell_type": "code",
   "execution_count": 92,
   "id": "4b5b8606",
   "metadata": {},
   "outputs": [],
   "source": [
    "X_train, X_test = train_test_split(nat_2020, test_size = 0.2, random_state = 42)"
   ]
  },
  {
   "cell_type": "code",
   "execution_count": 93,
   "id": "49d4090b",
   "metadata": {},
   "outputs": [],
   "source": [
    "# X_train.to_csv('../data/nat_2020_train.csv', index = False)\n",
    "# X_test.to_csv('../data/nat_2020_test.csv', index = False)"
   ]
  },
  {
   "cell_type": "code",
   "execution_count": 94,
   "id": "df8ea0bb",
   "metadata": {},
   "outputs": [
    {
     "data": {
      "text/plain": [
       "Index(['RESPID', 'PHTYPE', 'approve_trump', 'approve_biden', 'optimistic',\n",
       "       'focused_imp_issues', 'party', 'party_unaffiliated', 'education', 'age',\n",
       "       'age_bin', 'latino', 'race', 'gender', 'state', 'FINALWGT',\n",
       "       'vote_choice_recoded', 'male', 'top_household_concern_2.0',\n",
       "       'top_household_concern_3.0', 'top_household_concern_4.0',\n",
       "       'top_household_concern_5.0', 'top_household_concern_6.0',\n",
       "       'top_household_concern_8.0', 'top_household_concern_9.0',\n",
       "       'top_household_concern_10.0', 'top_household_concern_12.0',\n",
       "       'top_household_concern_13.0', 'top_household_concern_14.0',\n",
       "       'top_household_concern_15.0', 'top_household_concern_16.0',\n",
       "       'top_household_concern_17.0', 'top_household_concern_18.0',\n",
       "       'top_household_concern_19.0', 'top_household_concern_20.0',\n",
       "       'top_household_concern_28.0', 'top_household_concern_29.0',\n",
       "       'top_household_concern_30.0', 'registered_vote_True', 'region_2.0',\n",
       "       'region_3.0', 'region_4.0', 'economic_situation_2',\n",
       "       'economic_situation_3', 'economic_situation_9', 'likely_to_vote_2.0',\n",
       "       'likely_to_vote_3.0', 'likely_to_vote_4.0', 'likely_to_vote_5.0',\n",
       "       'vote_choice_2.0', 'vote_choice_6.0', 'vote_choice_7.0',\n",
       "       'vote_choice_8.0', 'vote_choice_9.0', 'vote_choice_undecided_2.0',\n",
       "       'vote_choice_undecided_3.0', 'vote_choice_undecided_9.0',\n",
       "       'education_recoded_2', 'education_recoded_3', 'education_recoded_9',\n",
       "       'elec_enthusiasm_2', 'elec_enthusiasm_3', 'elec_enthusiasm_9',\n",
       "       'political_leaning_2', 'political_leaning_3', 'political_leaning_4',\n",
       "       'race_recoded_2', 'race_recoded_3', 'race_recoded_4', 'race_recoded_9',\n",
       "       'party_recoded_2.0', 'party_recoded_3.0', 'age_recoded_2.0',\n",
       "       'age_recoded_3.0'],\n",
       "      dtype='object')"
      ]
     },
     "execution_count": 94,
     "metadata": {},
     "output_type": "execute_result"
    }
   ],
   "source": [
    "X_train.columns"
   ]
  },
  {
   "cell_type": "code",
   "execution_count": 95,
   "id": "d96cc108",
   "metadata": {},
   "outputs": [
    {
     "data": {
      "text/plain": [
       "2.0    381\n",
       "1.0    334\n",
       "3.0     38\n",
       "Name: vote_choice_recoded, dtype: int64"
      ]
     },
     "execution_count": 95,
     "metadata": {},
     "output_type": "execute_result"
    }
   ],
   "source": [
    "nat_2020['vote_choice_recoded']\n",
    "# 1 is trump, 2 is biden, 3 is other/undecided/none\n",
    "nat_2020['vote_choice_recoded'].value_counts()"
   ]
  },
  {
   "cell_type": "code",
   "execution_count": 96,
   "id": "f091cf6d",
   "metadata": {},
   "outputs": [
    {
     "data": {
      "text/plain": [
       "Index(['RESPID', 'PHTYPE', 'approve_trump', 'approve_biden', 'optimistic',\n",
       "       'focused_imp_issues', 'party', 'party_unaffiliated', 'education', 'age',\n",
       "       'age_bin', 'latino', 'race', 'gender', 'state', 'FINALWGT',\n",
       "       'vote_choice_recoded', 'male', 'top_household_concern_2.0',\n",
       "       'top_household_concern_3.0', 'top_household_concern_4.0',\n",
       "       'top_household_concern_5.0', 'top_household_concern_6.0',\n",
       "       'top_household_concern_8.0', 'top_household_concern_9.0',\n",
       "       'top_household_concern_10.0', 'top_household_concern_12.0',\n",
       "       'top_household_concern_13.0', 'top_household_concern_14.0',\n",
       "       'top_household_concern_15.0', 'top_household_concern_16.0',\n",
       "       'top_household_concern_17.0', 'top_household_concern_18.0',\n",
       "       'top_household_concern_19.0', 'top_household_concern_20.0',\n",
       "       'top_household_concern_28.0', 'top_household_concern_29.0',\n",
       "       'top_household_concern_30.0', 'registered_vote_True', 'region_2.0',\n",
       "       'region_3.0', 'region_4.0', 'economic_situation_2',\n",
       "       'economic_situation_3', 'economic_situation_9', 'likely_to_vote_2.0',\n",
       "       'likely_to_vote_3.0', 'likely_to_vote_4.0', 'likely_to_vote_5.0',\n",
       "       'vote_choice_2.0', 'vote_choice_6.0', 'vote_choice_7.0',\n",
       "       'vote_choice_8.0', 'vote_choice_9.0', 'vote_choice_undecided_2.0',\n",
       "       'vote_choice_undecided_3.0', 'vote_choice_undecided_9.0',\n",
       "       'education_recoded_2', 'education_recoded_3', 'education_recoded_9',\n",
       "       'elec_enthusiasm_2', 'elec_enthusiasm_3', 'elec_enthusiasm_9',\n",
       "       'political_leaning_2', 'political_leaning_3', 'political_leaning_4',\n",
       "       'race_recoded_2', 'race_recoded_3', 'race_recoded_4', 'race_recoded_9',\n",
       "       'party_recoded_2.0', 'party_recoded_3.0', 'age_recoded_2.0',\n",
       "       'age_recoded_3.0'],\n",
       "      dtype='object')"
      ]
     },
     "execution_count": 96,
     "metadata": {},
     "output_type": "execute_result"
    }
   ],
   "source": [
    "nat_2020.columns"
   ]
  },
  {
   "cell_type": "markdown",
   "id": "97a4a47f",
   "metadata": {},
   "source": [
    "## drop columns that made voter choice recoded column"
   ]
  },
  {
   "cell_type": "code",
   "execution_count": 97,
   "id": "bad3ff8c",
   "metadata": {},
   "outputs": [
    {
     "data": {
      "text/plain": [
       "Index(['approve_trump', 'approve_biden', 'optimistic', 'focused_imp_issues',\n",
       "       'FINALWGT', 'vote_choice_recoded', 'male', 'top_household_concern_2.0',\n",
       "       'top_household_concern_3.0', 'top_household_concern_4.0',\n",
       "       'top_household_concern_5.0', 'top_household_concern_6.0',\n",
       "       'top_household_concern_8.0', 'top_household_concern_9.0',\n",
       "       'top_household_concern_10.0', 'top_household_concern_12.0',\n",
       "       'top_household_concern_13.0', 'top_household_concern_14.0',\n",
       "       'top_household_concern_15.0', 'top_household_concern_16.0',\n",
       "       'top_household_concern_17.0', 'top_household_concern_18.0',\n",
       "       'top_household_concern_19.0', 'top_household_concern_20.0',\n",
       "       'top_household_concern_28.0', 'top_household_concern_29.0',\n",
       "       'top_household_concern_30.0', 'registered_vote_True', 'region_2.0',\n",
       "       'region_3.0', 'region_4.0', 'economic_situation_2',\n",
       "       'economic_situation_3', 'economic_situation_9', 'likely_to_vote_2.0',\n",
       "       'likely_to_vote_3.0', 'likely_to_vote_4.0', 'likely_to_vote_5.0',\n",
       "       'education_recoded_2', 'education_recoded_3', 'education_recoded_9',\n",
       "       'elec_enthusiasm_2', 'elec_enthusiasm_3', 'elec_enthusiasm_9',\n",
       "       'political_leaning_2', 'political_leaning_3', 'political_leaning_4',\n",
       "       'race_recoded_2', 'race_recoded_3', 'race_recoded_4', 'race_recoded_9',\n",
       "       'party_recoded_2.0', 'party_recoded_3.0', 'age_recoded_2.0',\n",
       "       'age_recoded_3.0'],\n",
       "      dtype='object')"
      ]
     },
     "execution_count": 97,
     "metadata": {},
     "output_type": "execute_result"
    }
   ],
   "source": [
    "nat_2020_clean = nat_2020.drop(columns=[\n",
    "       'vote_choice_2.0', 'vote_choice_6.0',\n",
    "       'vote_choice_7.0', 'vote_choice_8.0', 'vote_choice_9.0',\n",
    "       'vote_choice_undecided_2.0', 'vote_choice_undecided_3.0',\n",
    "       'vote_choice_undecided_9.0',\n",
    "       'RESPID', 'PHTYPE', 'age', 'age_bin', 'party', 'party_unaffiliated', 'gender', 'latino', 'race', 'education', 'state'])\n",
    "\n",
    "nat_2020_clean.columns\n",
    "\n",
    "# keep or or drop FINALWGT?\n",
    "# use state? income? education? -> not in data rn, keep in mind for future\n",
    "\n",
    "\n",
    "# nat_2020_clean.to_csv('yeet.csv', index = False)"
   ]
  },
  {
   "cell_type": "code",
   "execution_count": 98,
   "id": "2c796863",
   "metadata": {},
   "outputs": [
    {
     "data": {
      "text/plain": [
       "Index(['approve_trump', 'approve_biden', 'optimistic', 'focused_imp_issues',\n",
       "       'FINALWGT', 'vote_choice_recoded', 'male', 'top_household_concern_2.0',\n",
       "       'top_household_concern_3.0', 'top_household_concern_4.0',\n",
       "       'top_household_concern_5.0', 'top_household_concern_6.0',\n",
       "       'top_household_concern_8.0', 'top_household_concern_9.0',\n",
       "       'top_household_concern_10.0', 'top_household_concern_12.0',\n",
       "       'top_household_concern_13.0', 'top_household_concern_14.0',\n",
       "       'top_household_concern_15.0', 'top_household_concern_16.0',\n",
       "       'top_household_concern_17.0', 'top_household_concern_18.0',\n",
       "       'top_household_concern_19.0', 'top_household_concern_20.0',\n",
       "       'top_household_concern_28.0', 'top_household_concern_29.0',\n",
       "       'top_household_concern_30.0', 'registered_vote_True', 'region_2.0',\n",
       "       'region_3.0', 'region_4.0', 'economic_situation_2',\n",
       "       'economic_situation_3', 'economic_situation_9', 'likely_to_vote_2.0',\n",
       "       'likely_to_vote_3.0', 'likely_to_vote_4.0', 'likely_to_vote_5.0',\n",
       "       'education_recoded_2', 'education_recoded_3', 'education_recoded_9',\n",
       "       'elec_enthusiasm_2', 'elec_enthusiasm_3', 'elec_enthusiasm_9',\n",
       "       'political_leaning_2', 'political_leaning_3', 'political_leaning_4',\n",
       "       'race_recoded_2', 'race_recoded_3', 'race_recoded_4', 'race_recoded_9',\n",
       "       'party_recoded_2.0', 'party_recoded_3.0', 'age_recoded_2.0',\n",
       "       'age_recoded_3.0'],\n",
       "      dtype='object')"
      ]
     },
     "execution_count": 98,
     "metadata": {},
     "output_type": "execute_result"
    }
   ],
   "source": [
    "# pull up column focused_imp_issues_2\n",
    "\n",
    "nat_2020_clean.columns"
   ]
  },
  {
   "cell_type": "code",
   "execution_count": 99,
   "id": "d8198e53",
   "metadata": {},
   "outputs": [],
   "source": [
    "# get propensity scores, use those as a column in the data, then train on data + that then \n"
   ]
  },
  {
   "cell_type": "code",
   "execution_count": 100,
   "id": "630ce15c",
   "metadata": {},
   "outputs": [
    {
     "data": {
      "text/plain": [
       "98"
      ]
     },
     "execution_count": 100,
     "metadata": {},
     "output_type": "execute_result"
    }
   ],
   "source": [
    "nat_2020_clean['vote_choice_recoded'].value_counts()\n",
    "# if vote choice recorded is 7, make the value 3\n",
    "nat_2020_clean['vote_choice_recoded'] = nat_2020_clean['vote_choice_recoded'].apply(lambda s: np.where(s == 7, 3, s))\n",
    "nat_2020_clean['vote_choice_recoded'].isna().sum()"
   ]
  },
  {
   "cell_type": "code",
   "execution_count": 101,
   "id": "a5780600",
   "metadata": {},
   "outputs": [
    {
     "data": {
      "text/plain": [
       "753"
      ]
     },
     "execution_count": 101,
     "metadata": {},
     "output_type": "execute_result"
    }
   ],
   "source": [
    "nat_2020_clean['vote_choice_recoded'].value_counts().sum()"
   ]
  },
  {
   "cell_type": "code",
   "execution_count": 102,
   "id": "0c73ba4c",
   "metadata": {},
   "outputs": [],
   "source": [
    "# drop if vote choice recorded is null\n",
    "nat_2020_clean = nat_2020_clean.dropna(subset = ['vote_choice_recoded'])\n",
    "# vote choice recoded to int\n",
    "nat_2020_clean['vote_choice_recoded'] = nat_2020_clean['vote_choice_recoded'].astype(int)"
   ]
  },
  {
   "cell_type": "code",
   "execution_count": 103,
   "id": "23c4ff80",
   "metadata": {},
   "outputs": [],
   "source": [
    "X = nat_2020_clean.drop(columns = ['vote_choice_recoded'])\n",
    "y = nat_2020_clean['vote_choice_recoded']\n",
    "# train test split\n",
    "# TODO: consider stratifying by anything???? \n",
    "\n",
    "X_train, X_test, y_train, y_test = train_test_split(X, y, test_size = 0.2, random_state = 13)"
   ]
  },
  {
   "cell_type": "code",
   "execution_count": 104,
   "id": "e732c7ff",
   "metadata": {},
   "outputs": [
    {
     "data": {
      "text/plain": [
       "2    82\n",
       "1    64\n",
       "3     5\n",
       "Name: vote_choice_recoded, dtype: int64"
      ]
     },
     "execution_count": 104,
     "metadata": {},
     "output_type": "execute_result"
    }
   ],
   "source": [
    "y_test.value_counts()"
   ]
  },
  {
   "cell_type": "code",
   "execution_count": 105,
   "id": "5ff5c4e7",
   "metadata": {},
   "outputs": [
    {
     "data": {
      "text/plain": [
       "2    299\n",
       "1    270\n",
       "3     33\n",
       "Name: vote_choice_recoded, dtype: int64"
      ]
     },
     "execution_count": 105,
     "metadata": {},
     "output_type": "execute_result"
    }
   ],
   "source": [
    "y_train.value_counts()"
   ]
  },
  {
   "cell_type": "code",
   "execution_count": 147,
   "id": "f6e69dd9",
   "metadata": {},
   "outputs": [],
   "source": [
    "from sklearn.decomposition import PCA\n",
    "from sklearn.preprocessing import StandardScaler\n",
    "from sklearn.model_selection import train_test_split\n",
    "from sklearn.linear_model import LogisticRegression\n",
    "from sklearn.metrics import accuracy_score"
   ]
  },
  {
   "cell_type": "code",
   "execution_count": null,
   "id": "b36fe138",
   "metadata": {},
   "outputs": [],
   "source": []
  }
 ],
 "metadata": {
  "kernelspec": {
   "display_name": "Python 3 (ipykernel)",
   "language": "python",
   "name": "python3"
  },
  "language_info": {
   "codemirror_mode": {
    "name": "ipython",
    "version": 3
   },
   "file_extension": ".py",
   "mimetype": "text/x-python",
   "name": "python",
   "nbconvert_exporter": "python",
   "pygments_lexer": "ipython3",
   "version": "3.9.17"
  }
 },
 "nbformat": 4,
 "nbformat_minor": 5
}
