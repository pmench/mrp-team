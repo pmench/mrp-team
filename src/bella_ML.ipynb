{
 "cells": [
  {
   "cell_type": "markdown",
   "id": "5599cc5a",
   "metadata": {},
   "source": [
    "<h1>Process & the ML Agenda</h1>\n",
    "\n",
    "Process info from Monmouth University 2020 national poll\n",
    "\n",
    "- courtesy of your mom"
   ]
  },
  {
   "cell_type": "code",
   "execution_count": 316,
   "id": "d578c7ee",
   "metadata": {},
   "outputs": [],
   "source": [
    "import os \n",
    "import numpy as np\n",
    "import pandas as pd \n",
    "\n",
    "from sklearn.model_selection import train_test_split"
   ]
  },
  {
   "cell_type": "markdown",
   "id": "3f2abcfd",
   "metadata": {},
   "source": [
    "<h2>Rename Columns</h2>"
   ]
  },
  {
   "cell_type": "code",
   "execution_count": 317,
   "id": "e434c511",
   "metadata": {},
   "outputs": [],
   "source": [
    "nat_2020 = pd.read_csv(\"../data/national_march_2020/MUP213_NATL_archive.tab\", sep = \"\\t\")"
   ]
  },
  {
   "cell_type": "code",
   "execution_count": 318,
   "id": "fc0fbaa4",
   "metadata": {},
   "outputs": [
    {
     "data": {
      "text/plain": [
       "Index(['RESPID', 'PHTYPE', 'Q1', 'Q2', 'Q3', 'Q4', 'Q5', 'Q6A', 'Q6B', 'Q6C',\n",
       "       'Q6D', 'Q6E', 'Q6F', 'Q7', 'Q8', 'Q9', 'Q9A.1', 'Q9A.2', 'Q9A.3',\n",
       "       'Q10A', 'Q10B', 'Q10C', 'Q10D', 'Q10E', 'Q10F', 'Q10G', 'QD1', 'Q11',\n",
       "       'Q12', 'Q12B', 'Q13', 'Q14', 'Q15', 'Q16', 'Q17', 'Q18', 'Q19', 'QD2',\n",
       "       'QD2A', 'QD3', 'QD4', 'QD5', 'QD5A', 'QD6', 'QD7', 'QD8', 'QD9', 'QD10',\n",
       "       'QD11', 'FINALWGT'],\n",
       "      dtype='object')"
      ]
     },
     "execution_count": 318,
     "metadata": {},
     "output_type": "execute_result"
    }
   ],
   "source": [
    "nat_2020.columns"
   ]
  },
  {
   "cell_type": "code",
   "execution_count": 319,
   "id": "6a7e83c7",
   "metadata": {},
   "outputs": [],
   "source": [
    "nat_2020 = nat_2020.rename(columns = {\n",
    "        'Q3': 'top_household_concern',\n",
    "        'QD1': 'registered_vote',\n",
    "        'Q11': 'likely_to_vote', \n",
    "        'Q12': 'vote_choice', \n",
    "        'Q12B': 'vote_choice_undecided', \n",
    "        'Q13': 'approve_trump',\n",
    "        'Q14': 'approve_biden',\n",
    "        'Q15': 'optimistic',\n",
    "        'Q16': 'elec_enthusiasm',\n",
    "        'Q17': 'economic_situation',\n",
    "        'Q19': 'focused_imp_issues',\n",
    "        'QD2': 'party',\n",
    "        'QD2A': 'party_unaffiliated', \n",
    "        'QD3': 'political_leaning', \n",
    "        'QD4': 'education',\n",
    "        'QD5': 'age', \n",
    "        'QD5A': 'age_bin', \n",
    "        'QD7': 'latino', \n",
    "        'QD8': 'race', \n",
    "        'QD10': 'gender', \n",
    "        'QD11': 'state'\n",
    "})"
   ]
  },
  {
   "cell_type": "code",
   "execution_count": 320,
   "id": "0b15a08c",
   "metadata": {},
   "outputs": [],
   "source": [
    "nat_2020 = nat_2020.drop(columns = [c for c in nat_2020.columns if 'Q' in c])"
   ]
  },
  {
   "cell_type": "code",
   "execution_count": 321,
   "id": "0de62aec",
   "metadata": {},
   "outputs": [
    {
     "data": {
      "text/plain": [
       "vote_choice\n",
       "2.0    358\n",
       "1.0    320\n",
       "8.0     39\n",
       "6.0     21\n",
       "9.0     12\n",
       "7.0      3\n",
       "Name: count, dtype: int64"
      ]
     },
     "execution_count": 321,
     "metadata": {},
     "output_type": "execute_result"
    }
   ],
   "source": [
    "nat_2020['vote_choice'].value_counts()"
   ]
  },
  {
   "cell_type": "code",
   "execution_count": 322,
   "id": "23d91512",
   "metadata": {},
   "outputs": [
    {
     "data": {
      "text/plain": [
       "Index(['RESPID', 'PHTYPE', 'top_household_concern', 'registered_vote',\n",
       "       'likely_to_vote', 'vote_choice', 'vote_choice_undecided',\n",
       "       'approve_trump', 'approve_biden', 'optimistic', 'elec_enthusiasm',\n",
       "       'economic_situation', 'focused_imp_issues', 'party',\n",
       "       'party_unaffiliated', 'political_leaning', 'education', 'age',\n",
       "       'age_bin', 'latino', 'race', 'gender', 'state', 'FINALWGT'],\n",
       "      dtype='object')"
      ]
     },
     "execution_count": 322,
     "metadata": {},
     "output_type": "execute_result"
    }
   ],
   "source": [
    "nat_2020.columns"
   ]
  },
  {
   "cell_type": "markdown",
   "id": "0aaf7645",
   "metadata": {},
   "source": [
    "<h2>Recode Variables</h2>\n",
    "\n",
    "<h3>Vote Choice</h3>"
   ]
  },
  {
   "cell_type": "code",
   "execution_count": 323,
   "id": "7c394a55",
   "metadata": {},
   "outputs": [],
   "source": [
    "nat_2020['vote_choice_recoded'] = nat_2020.apply(lambda s: np.where(s['vote_choice'] in [6.0, 8.0, 9.0, 7.0], s['vote_choice_undecided'], s['vote_choice']), axis = 1)\n",
    "nat_2020['vote_choice_recoded'] = nat_2020['vote_choice_recoded'].apply(lambda s: np.where(s in [3.0, 9.0], 3.0, s))"
   ]
  },
  {
   "cell_type": "markdown",
   "id": "e1765f1b",
   "metadata": {},
   "source": [
    "<h3>Party Leaning</h3>"
   ]
  },
  {
   "cell_type": "code",
   "execution_count": 324,
   "id": "5f512311",
   "metadata": {},
   "outputs": [],
   "source": [
    "nat_2020['party_recoded'] = nat_2020.apply(lambda s: np.where(s['party'] in [4.0, 9.0], s['party_unaffiliated'], s['party']), axis = 1)\n",
    "nat_2020['party_recoded'] = nat_2020['party_recoded'].apply(lambda s: np.where(s in [3.0, 9.0], 3.0, s))"
   ]
  },
  {
   "cell_type": "markdown",
   "id": "615bb87d",
   "metadata": {},
   "source": [
    "<h3>Age</h3>\n",
    "\n",
    "Convert so they're all in bins"
   ]
  },
  {
   "cell_type": "code",
   "execution_count": 325,
   "id": "3a52d1ea",
   "metadata": {},
   "outputs": [],
   "source": [
    "nat_2020['age_recoded'] = nat_2020.apply(lambda s: np.where(not pd.isnull(s['age_bin']), s['age_bin'], s['age']), axis = 1)\n",
    "\n",
    "nat_2020['age_recoded'] = nat_2020['age_recoded'].apply(lambda s: np.where(s >= 18 and s <= 34 and not pd.isnull(s), 1.0, \n",
    "                                                        np.where(s >= 35 and s <= 54, 2.0, 3.0)))"
   ]
  },
  {
   "cell_type": "markdown",
   "id": "3836f219",
   "metadata": {},
   "source": [
    "<h3>Approval Ratings</h3>"
   ]
  },
  {
   "cell_type": "code",
   "execution_count": 326,
   "id": "c1f9a30b",
   "metadata": {},
   "outputs": [],
   "source": [
    "nat_2020['approve_trump'] = nat_2020['approve_trump'] == 1\n",
    "nat_2020['approve_biden'] = nat_2020['approve_biden'] == 1"
   ]
  },
  {
   "cell_type": "markdown",
   "id": "a9cedc1d",
   "metadata": {},
   "source": [
    "<h3>Race</h3>\n",
    "\n",
    "Overwrite if hispanic/latino"
   ]
  },
  {
   "cell_type": "code",
   "execution_count": 327,
   "id": "79fc03e5",
   "metadata": {},
   "outputs": [],
   "source": [
    "nat_2020['latino'] = nat_2020['latino'] == 1"
   ]
  },
  {
   "cell_type": "code",
   "execution_count": 328,
   "id": "7b18965c",
   "metadata": {},
   "outputs": [],
   "source": [
    "def recode_race(s):\n",
    "    if s['latino'] == 1 or s['race'] == 4: \n",
    "        return 4\n",
    "    elif s['race'] != 5 and s['race'] != 9:\n",
    "        return s['race']\n",
    "    else:\n",
    "        return 9"
   ]
  },
  {
   "cell_type": "code",
   "execution_count": 329,
   "id": "f07cfa7c",
   "metadata": {},
   "outputs": [],
   "source": [
    "nat_2020['race_recoded'] = nat_2020.apply(recode_race, axis = 1)"
   ]
  },
  {
   "cell_type": "markdown",
   "id": "9571dfd4",
   "metadata": {},
   "source": [
    "<h3>Gender</h3>"
   ]
  },
  {
   "cell_type": "code",
   "execution_count": 330,
   "id": "ce9bf84e",
   "metadata": {},
   "outputs": [],
   "source": [
    "nat_2020['male'] = nat_2020['gender'] == 1"
   ]
  },
  {
   "cell_type": "code",
   "execution_count": 331,
   "id": "c056db91",
   "metadata": {},
   "outputs": [],
   "source": [
    "# nat_2020.to_csv(\"../data/nat_2020_cleaned_no_dummies.csv\", index = False)"
   ]
  },
  {
   "cell_type": "code",
   "execution_count": 332,
   "id": "ca52bad0",
   "metadata": {},
   "outputs": [
    {
     "data": {
      "text/plain": [
       "registered_vote\n",
       "1    754\n",
       "2     94\n",
       "9      3\n",
       "Name: count, dtype: int64"
      ]
     },
     "execution_count": 332,
     "metadata": {},
     "output_type": "execute_result"
    }
   ],
   "source": [
    "nat_2020['registered_vote'].value_counts()"
   ]
  },
  {
   "cell_type": "code",
   "execution_count": 333,
   "id": "a6d0009c",
   "metadata": {},
   "outputs": [
    {
     "data": {
      "text/plain": [
       "focused_imp_issues\n",
       "2    399\n",
       "1    394\n",
       "9     58\n",
       "Name: count, dtype: int64"
      ]
     },
     "execution_count": 333,
     "metadata": {},
     "output_type": "execute_result"
    }
   ],
   "source": [
    "nat_2020['focused_imp_issues'].value_counts()"
   ]
  },
  {
   "cell_type": "code",
   "execution_count": 334,
   "id": "eff2cf9f",
   "metadata": {},
   "outputs": [
    {
     "data": {
      "text/plain": [
       "age_recoded\n",
       "3.0    357\n",
       "2.0    304\n",
       "1.0    190\n",
       "Name: count, dtype: int64"
      ]
     },
     "execution_count": 334,
     "metadata": {},
     "output_type": "execute_result"
    }
   ],
   "source": [
    "nat_2020['age_recoded'].value_counts()"
   ]
  },
  {
   "cell_type": "code",
   "execution_count": 335,
   "id": "7ca868f3",
   "metadata": {},
   "outputs": [
    {
     "data": {
      "text/plain": [
       "economic_situation\n",
       "2    548\n",
       "1    202\n",
       "3     93\n",
       "9      8\n",
       "Name: count, dtype: int64"
      ]
     },
     "execution_count": 335,
     "metadata": {},
     "output_type": "execute_result"
    }
   ],
   "source": [
    "nat_2020['economic_situation'].value_counts()"
   ]
  },
  {
   "cell_type": "markdown",
   "id": "b124947d",
   "metadata": {},
   "source": [
    "<h3>Registered to Vote</h3>"
   ]
  },
  {
   "cell_type": "code",
   "execution_count": 336,
   "id": "fe15d870",
   "metadata": {},
   "outputs": [],
   "source": [
    "# True if they're registered to vote, false otherwise\n",
    "nat_2020['registered_vote'] = nat_2020['registered_vote'] == 1"
   ]
  },
  {
   "cell_type": "markdown",
   "id": "404c9f3e",
   "metadata": {},
   "source": [
    "<h3>Focused on Important Issues</h3>"
   ]
  },
  {
   "cell_type": "code",
   "execution_count": 337,
   "id": "02669f23",
   "metadata": {},
   "outputs": [],
   "source": [
    "# True if they think Trump is focused on important issues, False otherwise\n",
    "nat_2020['focused_imp_issues'] = nat_2020['focused_imp_issues'] == 1"
   ]
  },
  {
   "cell_type": "code",
   "execution_count": 338,
   "id": "18539002",
   "metadata": {},
   "outputs": [
    {
     "data": {
      "text/plain": [
       "focused_imp_issues\n",
       "False    457\n",
       "True     394\n",
       "Name: count, dtype: int64"
      ]
     },
     "execution_count": 338,
     "metadata": {},
     "output_type": "execute_result"
    }
   ],
   "source": [
    "nat_2020['focused_imp_issues'].value_counts()"
   ]
  },
  {
   "cell_type": "markdown",
   "id": "747aab2f",
   "metadata": {},
   "source": [
    "<h3>Combine Concerns</h3>"
   ]
  },
  {
   "cell_type": "code",
   "execution_count": 339,
   "id": "9b8d41a1",
   "metadata": {},
   "outputs": [],
   "source": [
    "# combine some of the similar household concern categories \n",
    "nat_2020['top_household_concern'] = nat_2020['top_household_concern'].apply(lambda s: np.where(s in [6.0, 7.0], 6.0, s))\n",
    "nat_2020['top_household_concern'] = nat_2020['top_household_concern'].apply(lambda s: np.where(s in [10.0, 11.0], 10.0, s))"
   ]
  },
  {
   "cell_type": "markdown",
   "id": "38b3d4e7",
   "metadata": {},
   "source": [
    "<h3>Education</h3>"
   ]
  },
  {
   "cell_type": "code",
   "execution_count": 340,
   "id": "64e62616",
   "metadata": {},
   "outputs": [],
   "source": [
    "# turn into no high school, some college or vocational, college or others \n",
    "def recode_education(s):\n",
    "    if s <= 3:\n",
    "        return 1\n",
    "    elif s > 4 and s <=6:\n",
    "        return 2\n",
    "    elif s >= 7:\n",
    "        return 3\n",
    "    else:\n",
    "        return 9"
   ]
  },
  {
   "cell_type": "code",
   "execution_count": 341,
   "id": "afe74806",
   "metadata": {},
   "outputs": [],
   "source": [
    "nat_2020['education_recoded'] = nat_2020['education'].apply(recode_education)"
   ]
  },
  {
   "cell_type": "markdown",
   "id": "74797d5b",
   "metadata": {},
   "source": [
    "<h3>Political Leaning</h3>"
   ]
  },
  {
   "cell_type": "code",
   "execution_count": 342,
   "id": "6b094523",
   "metadata": {},
   "outputs": [],
   "source": [
    "# combine into liberal, conservative, moderate, or other\n",
    "def recode_political_leaning(s):\n",
    "    if s <= 2:\n",
    "        return 1\n",
    "    elif s == 4 or s == 9:\n",
    "        return 2\n",
    "    elif s == 3:\n",
    "        return 3\n",
    "    else:\n",
    "        return 4"
   ]
  },
  {
   "cell_type": "code",
   "execution_count": 343,
   "id": "6a4c990f",
   "metadata": {},
   "outputs": [],
   "source": [
    "nat_2020['political_leaning'] = nat_2020['political_leaning'].apply(recode_political_leaning)"
   ]
  },
  {
   "cell_type": "markdown",
   "id": "fddc6bc0",
   "metadata": {},
   "source": [
    "<h3>Optimistic</h3>"
   ]
  },
  {
   "cell_type": "code",
   "execution_count": 344,
   "id": "34e273aa",
   "metadata": {},
   "outputs": [],
   "source": [
    "# true if optimistic about website, false otherwise\n",
    "nat_2020['optimistic'] = nat_2020['optimistic'] <= 2"
   ]
  },
  {
   "cell_type": "markdown",
   "id": "afb7048c",
   "metadata": {},
   "source": [
    "<h3>Region</h3>"
   ]
  },
  {
   "cell_type": "code",
   "execution_count": 345,
   "id": "5c6d9548",
   "metadata": {},
   "outputs": [],
   "source": [
    "### https://www2.census.gov/geo/pdfs/maps-data/maps/reference/us_regdiv.pdf\n",
    "def recode_region(s):\n",
    "    new_england = [9.0, 23.0, 25.0, 33.0, 44.0, 50.0, 34.0, 36.0, 42.0]\n",
    "    midwest = [18.0, 17.0, 26.0, 39.0, 55.0, 19.0, 20.0, 27.0, 29.0, 31.0, 38.0, 46.0]\n",
    "    south = [10.0, 11.0, 12.0, 13.0, 24.0, 37.0, 45.0, 51.0, 54.0, 1.0, 21.0, 28.0, 47.0, 5.0, 22.0, 40.0, 48.0]\n",
    "    west = [4.0, 8.0, 16.0, 35.0, 30.0, 49.0, 32.0, 56.0, 2.0, 6.0, 15.0, 41.0, 53.0]\n",
    "    \n",
    "    if s in new_england:\n",
    "        return 1\n",
    "    elif s in midwest:\n",
    "        return 2 \n",
    "    elif s in south:\n",
    "        return 3\n",
    "    elif s in west:\n",
    "        return 4\n",
    "    \n",
    "    "
   ]
  },
  {
   "cell_type": "code",
   "execution_count": 346,
   "id": "c10bba18",
   "metadata": {},
   "outputs": [],
   "source": [
    "nat_2020['region'] = nat_2020['state'].apply(recode_region)"
   ]
  },
  {
   "cell_type": "markdown",
   "id": "934ec72c",
   "metadata": {},
   "source": [
    "<h2>Add Dummy Variables</h2>"
   ]
  },
  {
   "cell_type": "code",
   "execution_count": 347,
   "id": "69ed090a",
   "metadata": {},
   "outputs": [],
   "source": [
    "# categoricals = ['top_household_concern', 'registered_vote', 'region',\n",
    "#                 'likely_to_vote', 'vote_choice', 'vote_choice_undecided', \n",
    "#                 'elec_enthusiasm', 'political_leaning', 'race_recoded', 'party_recoded', 'age_recoded', 'economic_situation', 'education_recoded']\n",
    "\n",
    "categoricals = ['top_household_concern', 'registered_vote', 'region','economic_situation','likely_to_vote', 'vote_choice', 'vote_choice_undecided', 'education_recoded','elec_enthusiasm', 'political_leaning', 'race_recoded', 'party_recoded', 'age_recoded']"
   ]
  },
  {
   "cell_type": "code",
   "execution_count": 348,
   "id": "c3e6cdbf",
   "metadata": {},
   "outputs": [],
   "source": [
    "for category in categoricals:\n",
    "    nat_2020[category] = nat_2020[category].astype('category')\n",
    "\n",
    "\n",
    "dummies = pd.get_dummies(nat_2020[categoricals], drop_first=True)"
   ]
  },
  {
   "cell_type": "code",
   "execution_count": 349,
   "id": "61cbc154",
   "metadata": {},
   "outputs": [
    {
     "data": {
      "text/html": [
       "<div>\n",
       "<style scoped>\n",
       "    .dataframe tbody tr th:only-of-type {\n",
       "        vertical-align: middle;\n",
       "    }\n",
       "\n",
       "    .dataframe tbody tr th {\n",
       "        vertical-align: top;\n",
       "    }\n",
       "\n",
       "    .dataframe thead th {\n",
       "        text-align: right;\n",
       "    }\n",
       "</style>\n",
       "<table border=\"1\" class=\"dataframe\">\n",
       "  <thead>\n",
       "    <tr style=\"text-align: right;\">\n",
       "      <th></th>\n",
       "      <th>top_household_concern_2.0</th>\n",
       "      <th>top_household_concern_3.0</th>\n",
       "      <th>top_household_concern_4.0</th>\n",
       "      <th>top_household_concern_5.0</th>\n",
       "      <th>top_household_concern_6.0</th>\n",
       "      <th>top_household_concern_8.0</th>\n",
       "      <th>top_household_concern_9.0</th>\n",
       "      <th>top_household_concern_10.0</th>\n",
       "      <th>top_household_concern_12.0</th>\n",
       "      <th>top_household_concern_13.0</th>\n",
       "      <th>...</th>\n",
       "      <th>political_leaning_3</th>\n",
       "      <th>political_leaning_4</th>\n",
       "      <th>race_recoded_2</th>\n",
       "      <th>race_recoded_3</th>\n",
       "      <th>race_recoded_4</th>\n",
       "      <th>race_recoded_9</th>\n",
       "      <th>party_recoded_2.0</th>\n",
       "      <th>party_recoded_3.0</th>\n",
       "      <th>age_recoded_2.0</th>\n",
       "      <th>age_recoded_3.0</th>\n",
       "    </tr>\n",
       "  </thead>\n",
       "  <tbody>\n",
       "    <tr>\n",
       "      <th>0</th>\n",
       "      <td>False</td>\n",
       "      <td>False</td>\n",
       "      <td>False</td>\n",
       "      <td>False</td>\n",
       "      <td>False</td>\n",
       "      <td>False</td>\n",
       "      <td>False</td>\n",
       "      <td>False</td>\n",
       "      <td>False</td>\n",
       "      <td>False</td>\n",
       "      <td>...</td>\n",
       "      <td>False</td>\n",
       "      <td>False</td>\n",
       "      <td>False</td>\n",
       "      <td>False</td>\n",
       "      <td>False</td>\n",
       "      <td>False</td>\n",
       "      <td>False</td>\n",
       "      <td>False</td>\n",
       "      <td>True</td>\n",
       "      <td>False</td>\n",
       "    </tr>\n",
       "    <tr>\n",
       "      <th>1</th>\n",
       "      <td>False</td>\n",
       "      <td>False</td>\n",
       "      <td>False</td>\n",
       "      <td>False</td>\n",
       "      <td>False</td>\n",
       "      <td>False</td>\n",
       "      <td>False</td>\n",
       "      <td>False</td>\n",
       "      <td>False</td>\n",
       "      <td>False</td>\n",
       "      <td>...</td>\n",
       "      <td>False</td>\n",
       "      <td>True</td>\n",
       "      <td>False</td>\n",
       "      <td>False</td>\n",
       "      <td>False</td>\n",
       "      <td>False</td>\n",
       "      <td>False</td>\n",
       "      <td>True</td>\n",
       "      <td>False</td>\n",
       "      <td>False</td>\n",
       "    </tr>\n",
       "    <tr>\n",
       "      <th>2</th>\n",
       "      <td>False</td>\n",
       "      <td>False</td>\n",
       "      <td>False</td>\n",
       "      <td>False</td>\n",
       "      <td>False</td>\n",
       "      <td>False</td>\n",
       "      <td>False</td>\n",
       "      <td>False</td>\n",
       "      <td>False</td>\n",
       "      <td>False</td>\n",
       "      <td>...</td>\n",
       "      <td>True</td>\n",
       "      <td>False</td>\n",
       "      <td>False</td>\n",
       "      <td>False</td>\n",
       "      <td>False</td>\n",
       "      <td>False</td>\n",
       "      <td>False</td>\n",
       "      <td>False</td>\n",
       "      <td>False</td>\n",
       "      <td>True</td>\n",
       "    </tr>\n",
       "    <tr>\n",
       "      <th>3</th>\n",
       "      <td>False</td>\n",
       "      <td>False</td>\n",
       "      <td>False</td>\n",
       "      <td>False</td>\n",
       "      <td>False</td>\n",
       "      <td>False</td>\n",
       "      <td>False</td>\n",
       "      <td>False</td>\n",
       "      <td>False</td>\n",
       "      <td>False</td>\n",
       "      <td>...</td>\n",
       "      <td>True</td>\n",
       "      <td>False</td>\n",
       "      <td>False</td>\n",
       "      <td>False</td>\n",
       "      <td>False</td>\n",
       "      <td>False</td>\n",
       "      <td>True</td>\n",
       "      <td>False</td>\n",
       "      <td>False</td>\n",
       "      <td>True</td>\n",
       "    </tr>\n",
       "    <tr>\n",
       "      <th>4</th>\n",
       "      <td>False</td>\n",
       "      <td>False</td>\n",
       "      <td>False</td>\n",
       "      <td>False</td>\n",
       "      <td>False</td>\n",
       "      <td>False</td>\n",
       "      <td>False</td>\n",
       "      <td>False</td>\n",
       "      <td>False</td>\n",
       "      <td>False</td>\n",
       "      <td>...</td>\n",
       "      <td>False</td>\n",
       "      <td>False</td>\n",
       "      <td>False</td>\n",
       "      <td>False</td>\n",
       "      <td>False</td>\n",
       "      <td>True</td>\n",
       "      <td>False</td>\n",
       "      <td>False</td>\n",
       "      <td>True</td>\n",
       "      <td>False</td>\n",
       "    </tr>\n",
       "    <tr>\n",
       "      <th>...</th>\n",
       "      <td>...</td>\n",
       "      <td>...</td>\n",
       "      <td>...</td>\n",
       "      <td>...</td>\n",
       "      <td>...</td>\n",
       "      <td>...</td>\n",
       "      <td>...</td>\n",
       "      <td>...</td>\n",
       "      <td>...</td>\n",
       "      <td>...</td>\n",
       "      <td>...</td>\n",
       "      <td>...</td>\n",
       "      <td>...</td>\n",
       "      <td>...</td>\n",
       "      <td>...</td>\n",
       "      <td>...</td>\n",
       "      <td>...</td>\n",
       "      <td>...</td>\n",
       "      <td>...</td>\n",
       "      <td>...</td>\n",
       "      <td>...</td>\n",
       "    </tr>\n",
       "    <tr>\n",
       "      <th>846</th>\n",
       "      <td>False</td>\n",
       "      <td>False</td>\n",
       "      <td>False</td>\n",
       "      <td>False</td>\n",
       "      <td>False</td>\n",
       "      <td>False</td>\n",
       "      <td>False</td>\n",
       "      <td>True</td>\n",
       "      <td>False</td>\n",
       "      <td>False</td>\n",
       "      <td>...</td>\n",
       "      <td>True</td>\n",
       "      <td>False</td>\n",
       "      <td>False</td>\n",
       "      <td>False</td>\n",
       "      <td>False</td>\n",
       "      <td>False</td>\n",
       "      <td>False</td>\n",
       "      <td>True</td>\n",
       "      <td>True</td>\n",
       "      <td>False</td>\n",
       "    </tr>\n",
       "    <tr>\n",
       "      <th>847</th>\n",
       "      <td>False</td>\n",
       "      <td>False</td>\n",
       "      <td>False</td>\n",
       "      <td>False</td>\n",
       "      <td>False</td>\n",
       "      <td>False</td>\n",
       "      <td>False</td>\n",
       "      <td>False</td>\n",
       "      <td>False</td>\n",
       "      <td>False</td>\n",
       "      <td>...</td>\n",
       "      <td>False</td>\n",
       "      <td>False</td>\n",
       "      <td>False</td>\n",
       "      <td>False</td>\n",
       "      <td>False</td>\n",
       "      <td>False</td>\n",
       "      <td>True</td>\n",
       "      <td>False</td>\n",
       "      <td>False</td>\n",
       "      <td>False</td>\n",
       "    </tr>\n",
       "    <tr>\n",
       "      <th>848</th>\n",
       "      <td>False</td>\n",
       "      <td>False</td>\n",
       "      <td>False</td>\n",
       "      <td>False</td>\n",
       "      <td>False</td>\n",
       "      <td>False</td>\n",
       "      <td>False</td>\n",
       "      <td>False</td>\n",
       "      <td>False</td>\n",
       "      <td>False</td>\n",
       "      <td>...</td>\n",
       "      <td>False</td>\n",
       "      <td>True</td>\n",
       "      <td>False</td>\n",
       "      <td>False</td>\n",
       "      <td>False</td>\n",
       "      <td>False</td>\n",
       "      <td>True</td>\n",
       "      <td>False</td>\n",
       "      <td>False</td>\n",
       "      <td>True</td>\n",
       "    </tr>\n",
       "    <tr>\n",
       "      <th>849</th>\n",
       "      <td>False</td>\n",
       "      <td>False</td>\n",
       "      <td>False</td>\n",
       "      <td>False</td>\n",
       "      <td>False</td>\n",
       "      <td>False</td>\n",
       "      <td>False</td>\n",
       "      <td>False</td>\n",
       "      <td>False</td>\n",
       "      <td>False</td>\n",
       "      <td>...</td>\n",
       "      <td>True</td>\n",
       "      <td>False</td>\n",
       "      <td>True</td>\n",
       "      <td>False</td>\n",
       "      <td>False</td>\n",
       "      <td>False</td>\n",
       "      <td>True</td>\n",
       "      <td>False</td>\n",
       "      <td>True</td>\n",
       "      <td>False</td>\n",
       "    </tr>\n",
       "    <tr>\n",
       "      <th>850</th>\n",
       "      <td>False</td>\n",
       "      <td>False</td>\n",
       "      <td>False</td>\n",
       "      <td>False</td>\n",
       "      <td>False</td>\n",
       "      <td>False</td>\n",
       "      <td>True</td>\n",
       "      <td>False</td>\n",
       "      <td>False</td>\n",
       "      <td>False</td>\n",
       "      <td>...</td>\n",
       "      <td>False</td>\n",
       "      <td>False</td>\n",
       "      <td>False</td>\n",
       "      <td>False</td>\n",
       "      <td>True</td>\n",
       "      <td>False</td>\n",
       "      <td>False</td>\n",
       "      <td>False</td>\n",
       "      <td>False</td>\n",
       "      <td>False</td>\n",
       "    </tr>\n",
       "  </tbody>\n",
       "</table>\n",
       "<p>851 rows × 56 columns</p>\n",
       "</div>"
      ],
      "text/plain": [
       "     top_household_concern_2.0  top_household_concern_3.0  \\\n",
       "0                        False                      False   \n",
       "1                        False                      False   \n",
       "2                        False                      False   \n",
       "3                        False                      False   \n",
       "4                        False                      False   \n",
       "..                         ...                        ...   \n",
       "846                      False                      False   \n",
       "847                      False                      False   \n",
       "848                      False                      False   \n",
       "849                      False                      False   \n",
       "850                      False                      False   \n",
       "\n",
       "     top_household_concern_4.0  top_household_concern_5.0  \\\n",
       "0                        False                      False   \n",
       "1                        False                      False   \n",
       "2                        False                      False   \n",
       "3                        False                      False   \n",
       "4                        False                      False   \n",
       "..                         ...                        ...   \n",
       "846                      False                      False   \n",
       "847                      False                      False   \n",
       "848                      False                      False   \n",
       "849                      False                      False   \n",
       "850                      False                      False   \n",
       "\n",
       "     top_household_concern_6.0  top_household_concern_8.0  \\\n",
       "0                        False                      False   \n",
       "1                        False                      False   \n",
       "2                        False                      False   \n",
       "3                        False                      False   \n",
       "4                        False                      False   \n",
       "..                         ...                        ...   \n",
       "846                      False                      False   \n",
       "847                      False                      False   \n",
       "848                      False                      False   \n",
       "849                      False                      False   \n",
       "850                      False                      False   \n",
       "\n",
       "     top_household_concern_9.0  top_household_concern_10.0  \\\n",
       "0                        False                       False   \n",
       "1                        False                       False   \n",
       "2                        False                       False   \n",
       "3                        False                       False   \n",
       "4                        False                       False   \n",
       "..                         ...                         ...   \n",
       "846                      False                        True   \n",
       "847                      False                       False   \n",
       "848                      False                       False   \n",
       "849                      False                       False   \n",
       "850                       True                       False   \n",
       "\n",
       "     top_household_concern_12.0  top_household_concern_13.0  ...  \\\n",
       "0                         False                       False  ...   \n",
       "1                         False                       False  ...   \n",
       "2                         False                       False  ...   \n",
       "3                         False                       False  ...   \n",
       "4                         False                       False  ...   \n",
       "..                          ...                         ...  ...   \n",
       "846                       False                       False  ...   \n",
       "847                       False                       False  ...   \n",
       "848                       False                       False  ...   \n",
       "849                       False                       False  ...   \n",
       "850                       False                       False  ...   \n",
       "\n",
       "     political_leaning_3  political_leaning_4  race_recoded_2  race_recoded_3  \\\n",
       "0                  False                False           False           False   \n",
       "1                  False                 True           False           False   \n",
       "2                   True                False           False           False   \n",
       "3                   True                False           False           False   \n",
       "4                  False                False           False           False   \n",
       "..                   ...                  ...             ...             ...   \n",
       "846                 True                False           False           False   \n",
       "847                False                False           False           False   \n",
       "848                False                 True           False           False   \n",
       "849                 True                False            True           False   \n",
       "850                False                False           False           False   \n",
       "\n",
       "     race_recoded_4  race_recoded_9  party_recoded_2.0  party_recoded_3.0  \\\n",
       "0             False           False              False              False   \n",
       "1             False           False              False               True   \n",
       "2             False           False              False              False   \n",
       "3             False           False               True              False   \n",
       "4             False            True              False              False   \n",
       "..              ...             ...                ...                ...   \n",
       "846           False           False              False               True   \n",
       "847           False           False               True              False   \n",
       "848           False           False               True              False   \n",
       "849           False           False               True              False   \n",
       "850            True           False              False              False   \n",
       "\n",
       "     age_recoded_2.0  age_recoded_3.0  \n",
       "0               True            False  \n",
       "1              False            False  \n",
       "2              False             True  \n",
       "3              False             True  \n",
       "4               True            False  \n",
       "..               ...              ...  \n",
       "846             True            False  \n",
       "847            False            False  \n",
       "848            False             True  \n",
       "849             True            False  \n",
       "850            False            False  \n",
       "\n",
       "[851 rows x 56 columns]"
      ]
     },
     "execution_count": 349,
     "metadata": {},
     "output_type": "execute_result"
    }
   ],
   "source": [
    "dummies\n"
   ]
  },
  {
   "cell_type": "code",
   "execution_count": 350,
   "id": "bb678cb9",
   "metadata": {},
   "outputs": [],
   "source": [
    "nat_2020 = nat_2020[[c for c in nat_2020.columns if c not in categoricals]]"
   ]
  },
  {
   "cell_type": "code",
   "execution_count": 351,
   "id": "07ed0459",
   "metadata": {},
   "outputs": [],
   "source": [
    "nat_2020 = pd.concat([nat_2020, dummies], axis = 1)"
   ]
  },
  {
   "cell_type": "code",
   "execution_count": 352,
   "id": "b6643c72",
   "metadata": {},
   "outputs": [],
   "source": [
    "nat_2020 = nat_2020[(nat_2020['vote_choice_recoded'] != 3.0) | \n",
    "                    (nat_2020['vote_choice_recoded'] != 7.0) |\n",
    "                    (pd.isnull(nat_2020['vote_choice_recoded']) == False)]\n",
    "\n",
    "\n",
    "\n",
    "\n"
   ]
  },
  {
   "cell_type": "code",
   "execution_count": 353,
   "id": "564f1cdc",
   "metadata": {},
   "outputs": [
    {
     "data": {
      "text/plain": [
       "Index(['RESPID', 'PHTYPE', 'approve_trump', 'approve_biden', 'optimistic',\n",
       "       'focused_imp_issues', 'party', 'party_unaffiliated', 'education', 'age',\n",
       "       'age_bin', 'latino', 'race', 'gender', 'state', 'FINALWGT',\n",
       "       'vote_choice_recoded', 'male', 'top_household_concern_2.0',\n",
       "       'top_household_concern_3.0', 'top_household_concern_4.0',\n",
       "       'top_household_concern_5.0', 'top_household_concern_6.0',\n",
       "       'top_household_concern_8.0', 'top_household_concern_9.0',\n",
       "       'top_household_concern_10.0', 'top_household_concern_12.0',\n",
       "       'top_household_concern_13.0', 'top_household_concern_14.0',\n",
       "       'top_household_concern_15.0', 'top_household_concern_16.0',\n",
       "       'top_household_concern_17.0', 'top_household_concern_18.0',\n",
       "       'top_household_concern_19.0', 'top_household_concern_20.0',\n",
       "       'top_household_concern_28.0', 'top_household_concern_29.0',\n",
       "       'top_household_concern_30.0', 'registered_vote_True', 'region_2.0',\n",
       "       'region_3.0', 'region_4.0', 'economic_situation_2',\n",
       "       'economic_situation_3', 'economic_situation_9', 'likely_to_vote_2.0',\n",
       "       'likely_to_vote_3.0', 'likely_to_vote_4.0', 'likely_to_vote_5.0',\n",
       "       'vote_choice_2.0', 'vote_choice_6.0', 'vote_choice_7.0',\n",
       "       'vote_choice_8.0', 'vote_choice_9.0', 'vote_choice_undecided_2.0',\n",
       "       'vote_choice_undecided_3.0', 'vote_choice_undecided_9.0',\n",
       "       'education_recoded_2', 'education_recoded_3', 'education_recoded_9',\n",
       "       'elec_enthusiasm_2', 'elec_enthusiasm_3', 'elec_enthusiasm_9',\n",
       "       'political_leaning_2', 'political_leaning_3', 'political_leaning_4',\n",
       "       'race_recoded_2', 'race_recoded_3', 'race_recoded_4', 'race_recoded_9',\n",
       "       'party_recoded_2.0', 'party_recoded_3.0', 'age_recoded_2.0',\n",
       "       'age_recoded_3.0'],\n",
       "      dtype='object')"
      ]
     },
     "execution_count": 353,
     "metadata": {},
     "output_type": "execute_result"
    }
   ],
   "source": [
    "nat_2020.columns"
   ]
  },
  {
   "cell_type": "markdown",
   "id": "eb772f6f",
   "metadata": {},
   "source": [
    "<h2>Train Test Split</h2>"
   ]
  },
  {
   "cell_type": "code",
   "execution_count": 354,
   "id": "4b5b8606",
   "metadata": {},
   "outputs": [],
   "source": [
    "X_train, X_test = train_test_split(nat_2020, test_size = 0.2, random_state = 42)"
   ]
  },
  {
   "cell_type": "code",
   "execution_count": 355,
   "id": "49d4090b",
   "metadata": {},
   "outputs": [],
   "source": [
    "# X_train.to_csv('../data/nat_2020_train.csv', index = False)\n",
    "# X_test.to_csv('../data/nat_2020_test.csv', index = False)"
   ]
  },
  {
   "cell_type": "code",
   "execution_count": 356,
   "id": "df8ea0bb",
   "metadata": {},
   "outputs": [
    {
     "data": {
      "text/plain": [
       "Index(['RESPID', 'PHTYPE', 'approve_trump', 'approve_biden', 'optimistic',\n",
       "       'focused_imp_issues', 'party', 'party_unaffiliated', 'education', 'age',\n",
       "       'age_bin', 'latino', 'race', 'gender', 'state', 'FINALWGT',\n",
       "       'vote_choice_recoded', 'male', 'top_household_concern_2.0',\n",
       "       'top_household_concern_3.0', 'top_household_concern_4.0',\n",
       "       'top_household_concern_5.0', 'top_household_concern_6.0',\n",
       "       'top_household_concern_8.0', 'top_household_concern_9.0',\n",
       "       'top_household_concern_10.0', 'top_household_concern_12.0',\n",
       "       'top_household_concern_13.0', 'top_household_concern_14.0',\n",
       "       'top_household_concern_15.0', 'top_household_concern_16.0',\n",
       "       'top_household_concern_17.0', 'top_household_concern_18.0',\n",
       "       'top_household_concern_19.0', 'top_household_concern_20.0',\n",
       "       'top_household_concern_28.0', 'top_household_concern_29.0',\n",
       "       'top_household_concern_30.0', 'registered_vote_True', 'region_2.0',\n",
       "       'region_3.0', 'region_4.0', 'economic_situation_2',\n",
       "       'economic_situation_3', 'economic_situation_9', 'likely_to_vote_2.0',\n",
       "       'likely_to_vote_3.0', 'likely_to_vote_4.0', 'likely_to_vote_5.0',\n",
       "       'vote_choice_2.0', 'vote_choice_6.0', 'vote_choice_7.0',\n",
       "       'vote_choice_8.0', 'vote_choice_9.0', 'vote_choice_undecided_2.0',\n",
       "       'vote_choice_undecided_3.0', 'vote_choice_undecided_9.0',\n",
       "       'education_recoded_2', 'education_recoded_3', 'education_recoded_9',\n",
       "       'elec_enthusiasm_2', 'elec_enthusiasm_3', 'elec_enthusiasm_9',\n",
       "       'political_leaning_2', 'political_leaning_3', 'political_leaning_4',\n",
       "       'race_recoded_2', 'race_recoded_3', 'race_recoded_4', 'race_recoded_9',\n",
       "       'party_recoded_2.0', 'party_recoded_3.0', 'age_recoded_2.0',\n",
       "       'age_recoded_3.0'],\n",
       "      dtype='object')"
      ]
     },
     "execution_count": 356,
     "metadata": {},
     "output_type": "execute_result"
    }
   ],
   "source": [
    "X_train.columns"
   ]
  },
  {
   "cell_type": "code",
   "execution_count": 357,
   "id": "d96cc108",
   "metadata": {},
   "outputs": [
    {
     "data": {
      "text/plain": [
       "vote_choice_recoded\n",
       "2.0    381\n",
       "1.0    334\n",
       "3.0     38\n",
       "Name: count, dtype: int64"
      ]
     },
     "execution_count": 357,
     "metadata": {},
     "output_type": "execute_result"
    }
   ],
   "source": [
    "nat_2020['vote_choice_recoded']\n",
    "# 1 is trump, 2 is biden, 3 is other/undecided/none\n",
    "nat_2020['vote_choice_recoded'].value_counts()"
   ]
  },
  {
   "cell_type": "code",
   "execution_count": 358,
   "id": "f091cf6d",
   "metadata": {},
   "outputs": [
    {
     "data": {
      "text/plain": [
       "Index(['RESPID', 'PHTYPE', 'approve_trump', 'approve_biden', 'optimistic',\n",
       "       'focused_imp_issues', 'party', 'party_unaffiliated', 'education', 'age',\n",
       "       'age_bin', 'latino', 'race', 'gender', 'state', 'FINALWGT',\n",
       "       'vote_choice_recoded', 'male', 'top_household_concern_2.0',\n",
       "       'top_household_concern_3.0', 'top_household_concern_4.0',\n",
       "       'top_household_concern_5.0', 'top_household_concern_6.0',\n",
       "       'top_household_concern_8.0', 'top_household_concern_9.0',\n",
       "       'top_household_concern_10.0', 'top_household_concern_12.0',\n",
       "       'top_household_concern_13.0', 'top_household_concern_14.0',\n",
       "       'top_household_concern_15.0', 'top_household_concern_16.0',\n",
       "       'top_household_concern_17.0', 'top_household_concern_18.0',\n",
       "       'top_household_concern_19.0', 'top_household_concern_20.0',\n",
       "       'top_household_concern_28.0', 'top_household_concern_29.0',\n",
       "       'top_household_concern_30.0', 'registered_vote_True', 'region_2.0',\n",
       "       'region_3.0', 'region_4.0', 'economic_situation_2',\n",
       "       'economic_situation_3', 'economic_situation_9', 'likely_to_vote_2.0',\n",
       "       'likely_to_vote_3.0', 'likely_to_vote_4.0', 'likely_to_vote_5.0',\n",
       "       'vote_choice_2.0', 'vote_choice_6.0', 'vote_choice_7.0',\n",
       "       'vote_choice_8.0', 'vote_choice_9.0', 'vote_choice_undecided_2.0',\n",
       "       'vote_choice_undecided_3.0', 'vote_choice_undecided_9.0',\n",
       "       'education_recoded_2', 'education_recoded_3', 'education_recoded_9',\n",
       "       'elec_enthusiasm_2', 'elec_enthusiasm_3', 'elec_enthusiasm_9',\n",
       "       'political_leaning_2', 'political_leaning_3', 'political_leaning_4',\n",
       "       'race_recoded_2', 'race_recoded_3', 'race_recoded_4', 'race_recoded_9',\n",
       "       'party_recoded_2.0', 'party_recoded_3.0', 'age_recoded_2.0',\n",
       "       'age_recoded_3.0'],\n",
       "      dtype='object')"
      ]
     },
     "execution_count": 358,
     "metadata": {},
     "output_type": "execute_result"
    }
   ],
   "source": [
    "nat_2020.columns"
   ]
  },
  {
   "cell_type": "markdown",
   "id": "97a4a47f",
   "metadata": {},
   "source": [
    "## drop columns that made voter choice recoded column"
   ]
  },
  {
   "cell_type": "code",
   "execution_count": 359,
   "id": "bad3ff8c",
   "metadata": {},
   "outputs": [
    {
     "data": {
      "text/plain": [
       "Index(['approve_trump', 'approve_biden', 'optimistic', 'focused_imp_issues',\n",
       "       'FINALWGT', 'vote_choice_recoded', 'male', 'top_household_concern_2.0',\n",
       "       'top_household_concern_3.0', 'top_household_concern_4.0',\n",
       "       'top_household_concern_5.0', 'top_household_concern_6.0',\n",
       "       'top_household_concern_8.0', 'top_household_concern_9.0',\n",
       "       'top_household_concern_10.0', 'top_household_concern_12.0',\n",
       "       'top_household_concern_13.0', 'top_household_concern_14.0',\n",
       "       'top_household_concern_15.0', 'top_household_concern_16.0',\n",
       "       'top_household_concern_17.0', 'top_household_concern_18.0',\n",
       "       'top_household_concern_19.0', 'top_household_concern_20.0',\n",
       "       'top_household_concern_28.0', 'top_household_concern_29.0',\n",
       "       'top_household_concern_30.0', 'registered_vote_True', 'region_2.0',\n",
       "       'region_3.0', 'region_4.0', 'economic_situation_2',\n",
       "       'economic_situation_3', 'economic_situation_9', 'likely_to_vote_2.0',\n",
       "       'likely_to_vote_3.0', 'likely_to_vote_4.0', 'likely_to_vote_5.0',\n",
       "       'education_recoded_2', 'education_recoded_3', 'education_recoded_9',\n",
       "       'elec_enthusiasm_2', 'elec_enthusiasm_3', 'elec_enthusiasm_9',\n",
       "       'political_leaning_2', 'political_leaning_3', 'political_leaning_4',\n",
       "       'race_recoded_2', 'race_recoded_3', 'race_recoded_4', 'race_recoded_9',\n",
       "       'party_recoded_2.0', 'party_recoded_3.0', 'age_recoded_2.0',\n",
       "       'age_recoded_3.0'],\n",
       "      dtype='object')"
      ]
     },
     "execution_count": 359,
     "metadata": {},
     "output_type": "execute_result"
    }
   ],
   "source": [
    "nat_2020_clean = nat_2020.drop(columns=[\n",
    "       'vote_choice_2.0', 'vote_choice_6.0',\n",
    "       'vote_choice_7.0', 'vote_choice_8.0', 'vote_choice_9.0',\n",
    "       'vote_choice_undecided_2.0', 'vote_choice_undecided_3.0',\n",
    "       'vote_choice_undecided_9.0',\n",
    "       'RESPID', 'PHTYPE', 'age', 'age_bin', 'party', 'party_unaffiliated', 'gender', 'latino', 'race', 'education', 'state'])\n",
    "\n",
    "nat_2020_clean.columns\n",
    "\n",
    "# keep or or drop FINALWGT?\n",
    "# use state? income? education? -> not in data rn, keep in mind for future\n",
    "\n",
    "\n",
    "# nat_2020_clean.to_csv('yeet.csv', index = False)"
   ]
  },
  {
   "cell_type": "code",
   "execution_count": 360,
   "id": "2c796863",
   "metadata": {},
   "outputs": [
    {
     "data": {
      "text/plain": [
       "Index(['approve_trump', 'approve_biden', 'optimistic', 'focused_imp_issues',\n",
       "       'FINALWGT', 'vote_choice_recoded', 'male', 'top_household_concern_2.0',\n",
       "       'top_household_concern_3.0', 'top_household_concern_4.0',\n",
       "       'top_household_concern_5.0', 'top_household_concern_6.0',\n",
       "       'top_household_concern_8.0', 'top_household_concern_9.0',\n",
       "       'top_household_concern_10.0', 'top_household_concern_12.0',\n",
       "       'top_household_concern_13.0', 'top_household_concern_14.0',\n",
       "       'top_household_concern_15.0', 'top_household_concern_16.0',\n",
       "       'top_household_concern_17.0', 'top_household_concern_18.0',\n",
       "       'top_household_concern_19.0', 'top_household_concern_20.0',\n",
       "       'top_household_concern_28.0', 'top_household_concern_29.0',\n",
       "       'top_household_concern_30.0', 'registered_vote_True', 'region_2.0',\n",
       "       'region_3.0', 'region_4.0', 'economic_situation_2',\n",
       "       'economic_situation_3', 'economic_situation_9', 'likely_to_vote_2.0',\n",
       "       'likely_to_vote_3.0', 'likely_to_vote_4.0', 'likely_to_vote_5.0',\n",
       "       'education_recoded_2', 'education_recoded_3', 'education_recoded_9',\n",
       "       'elec_enthusiasm_2', 'elec_enthusiasm_3', 'elec_enthusiasm_9',\n",
       "       'political_leaning_2', 'political_leaning_3', 'political_leaning_4',\n",
       "       'race_recoded_2', 'race_recoded_3', 'race_recoded_4', 'race_recoded_9',\n",
       "       'party_recoded_2.0', 'party_recoded_3.0', 'age_recoded_2.0',\n",
       "       'age_recoded_3.0'],\n",
       "      dtype='object')"
      ]
     },
     "execution_count": 360,
     "metadata": {},
     "output_type": "execute_result"
    }
   ],
   "source": [
    "# pull up column focused_imp_issues_2\n",
    "\n",
    "nat_2020_clean.columns"
   ]
  },
  {
   "cell_type": "code",
   "execution_count": 361,
   "id": "d8198e53",
   "metadata": {},
   "outputs": [],
   "source": [
    "# get propensity scores, use those as a column in the data, then train on data + that then \n"
   ]
  },
  {
   "cell_type": "code",
   "execution_count": 362,
   "id": "630ce15c",
   "metadata": {},
   "outputs": [
    {
     "data": {
      "text/plain": [
       "98"
      ]
     },
     "execution_count": 362,
     "metadata": {},
     "output_type": "execute_result"
    }
   ],
   "source": [
    "nat_2020_clean['vote_choice_recoded'].value_counts()\n",
    "# if vote choice recorded is 7, make the value 3\n",
    "nat_2020_clean['vote_choice_recoded'] = nat_2020_clean['vote_choice_recoded'].apply(lambda s: np.where(s == 7, 3, s))\n",
    "nat_2020_clean['vote_choice_recoded'].isna().sum()"
   ]
  },
  {
   "cell_type": "code",
   "execution_count": 363,
   "id": "a5780600",
   "metadata": {},
   "outputs": [
    {
     "data": {
      "text/plain": [
       "753"
      ]
     },
     "execution_count": 363,
     "metadata": {},
     "output_type": "execute_result"
    }
   ],
   "source": [
    "nat_2020_clean['vote_choice_recoded'].value_counts().sum()"
   ]
  },
  {
   "cell_type": "code",
   "execution_count": 364,
   "id": "0c73ba4c",
   "metadata": {},
   "outputs": [],
   "source": [
    "# drop if vote choice recorded is null\n",
    "nat_2020_clean = nat_2020_clean.dropna(subset = ['vote_choice_recoded'])\n",
    "# vote choice recoded to int\n",
    "nat_2020_clean['vote_choice_recoded'] = nat_2020_clean['vote_choice_recoded'].astype(int)"
   ]
  },
  {
   "cell_type": "code",
   "execution_count": 365,
   "id": "23c4ff80",
   "metadata": {},
   "outputs": [],
   "source": [
    "X = nat_2020_clean.drop(columns = ['vote_choice_recoded'])\n",
    "y = nat_2020_clean['vote_choice_recoded']\n",
    "# train test split\n",
    "# TODO: consider stratifying by anything???? \n",
    "\n",
    "X_train, X_test, y_train, y_test = train_test_split(X, y, test_size = 0.2, random_state = 13)"
   ]
  },
  {
   "cell_type": "code",
   "execution_count": 366,
   "id": "e732c7ff",
   "metadata": {},
   "outputs": [
    {
     "data": {
      "text/plain": [
       "vote_choice_recoded\n",
       "2    82\n",
       "1    64\n",
       "3     5\n",
       "Name: count, dtype: int64"
      ]
     },
     "execution_count": 366,
     "metadata": {},
     "output_type": "execute_result"
    }
   ],
   "source": [
    "y_test.value_counts()"
   ]
  },
  {
   "cell_type": "code",
   "execution_count": 367,
   "id": "5ff5c4e7",
   "metadata": {},
   "outputs": [
    {
     "data": {
      "text/plain": [
       "vote_choice_recoded\n",
       "2    299\n",
       "1    270\n",
       "3     33\n",
       "Name: count, dtype: int64"
      ]
     },
     "execution_count": 367,
     "metadata": {},
     "output_type": "execute_result"
    }
   ],
   "source": [
    "y_train.value_counts()"
   ]
  },
  {
   "cell_type": "code",
   "execution_count": 368,
   "id": "c727b964",
   "metadata": {},
   "outputs": [],
   "source": [
    "import os\n",
    "import numpy as np\n",
    "import pandas as pd\n",
    "\n",
    "from utils import * \n",
    "from sklearn.svm import SVC\n",
    "from sklearn.metrics import classification_report, f1_score, auc, roc_auc_score, roc_curve, precision_recall_curve, precision_score, recall_score, accuracy_score, confusion_matrix, RocCurveDisplay, PrecisionRecallDisplay, average_precision_score\n",
    "from sklearn.preprocessing import StandardScaler\n",
    "import pandas as pd\n",
    "import numpy as np \n",
    "import os \n",
    "from sklearn.model_selection import train_test_split\n",
    "from sklearn.ensemble import RandomForestClassifier, GradientBoostingClassifier\n",
    "from sklearn.metrics import classification_report, accuracy_score\n",
    "import numpy as np\n",
    "import matplotlib.pyplot as plt\n",
    "import seaborn as sns\n",
    "import pandas as pd\n",
    "\n",
    "from sklearn.datasets import load_iris, make_classification\n",
    "from sklearn.model_selection import train_test_split\n",
    "from sklearn.impute import SimpleImputer\n",
    "from sklearn.preprocessing import StandardScaler, MinMaxScaler, OneHotEncoder\n",
    "from sklearn.model_selection import cross_validate\n",
    "from sklearn import svm\n",
    "from sklearn.svm import SVC\n",
    "from sklearn.tree import DecisionTreeClassifier\n",
    "\n",
    "from sklearn.metrics import accuracy_score, precision_score, recall_score, f1_score, confusion_matrix, classification_report\n",
    "from sklearn.model_selection import GridSearchCV, cross_val_score, KFold, StratifiedKFold\n",
    "from sklearn.linear_model import LogisticRegression\n",
    "from sklearn.linear_model import LinearRegression, Ridge, Lasso, ElasticNet\n",
    "from sklearn.svm import SVR\n",
    "from sklearn.tree import DecisionTreeRegressor\n",
    "from sklearn.ensemble import RandomForestRegressor, GradientBoostingRegressor\n",
    "from sklearn.neighbors import KNeighborsRegressor, KNeighborsClassifier\n",
    "from sklearn.neural_network import MLPRegressor, MLPClassifier\n",
    "from sklearn.gaussian_process import GaussianProcessRegressor\n",
    "from sklearn.ensemble import VotingRegressor\n",
    "from sklearn.metrics import mean_squared_error\n",
    "import numpy as np\n",
    "from xgboost import XGBRegressor, XGBClassifier\n",
    "\n",
    "from catboost import CatBoostRegressor\n",
    "from sklearn.ensemble import RandomForestRegressor\n",
    "\n",
    "from sklearn.preprocessing import PolynomialFeatures\n",
    "from sklearn.pipeline import Pipeline\n",
    "\n",
    "from sklearn.compose import ColumnTransformer"
   ]
  },
  {
   "cell_type": "code",
   "execution_count": 376,
   "id": "4f57d2a8",
   "metadata": {},
   "outputs": [],
   "source": [
    "models = [\n",
    "  \n",
    "\n",
    "    (\"Logistic Regression Classification\", LogisticRegression(), {'C': [1, 2]}),\n",
    "    # (\"SVC\", SVC(C = 10), {'C': [0.1, 1, 10], 'gamma': ['scale', 'auto']}),\n",
    "    # (\"Decision Tree Regression\", DecisionTreeClassifier(), {'max_depth':[0,2, 5]}),\n",
    "    (\"Random Forest Classification\", RandomForestClassifier(), {'n_estimators': [100,150,200]}),\n",
    "    (\"Random Forest Classification2\", RandomForestClassifier(min_samples_split = 3,  n_estimators=75), {'n_estimators': [100,150,200]}), \n",
    "    (\"Gradient Boosting Classification\", GradientBoostingClassifier(criterion='squared_error', n_estimators=440, max_depth=5, learning_rate=0.012, random_state=0, max_features='sqrt'), {'n_estimators': [100,150,200]}),\n",
    "    (\"Gradient Boosting Classification2\", GradientBoostingClassifier(criterion='squared_error', n_estimators=100, max_depth=7, learning_rate=0.2, random_state=0, max_features='sqrt'), {'n_estimators': [100,150,200]}),\n",
    "    (\"Gradient Boosting Classification3\", GradientBoostingClassifier( n_estimators=375, max_depth=3, learning_rate=0.02, random_state=0, max_features=2), {'n_estimators': [100,150,200]}),\n",
    "    # ('xgb', XGBClassifier(), {'n_estimators': [100,150,200]}),\n",
    "\n",
    "    # (\"K-Nearest Neighbors Classification\", KNeighborsClassifier(), {'n_neighbors': [3,5]}),\n",
    "    # (\"Neural Network Classification\", MLPClassifier(max_iter=1000)),  # Specify appropriate hyperparameters\n",
    "\n",
    "    \n",
    "]"
   ]
  },
  {
   "cell_type": "code",
   "execution_count": 377,
   "id": "a0f23b24",
   "metadata": {},
   "outputs": [
    {
     "name": "stdout",
     "output_type": "stream",
     "text": [
      "Logistic Regression Classification\n",
      "0.8843163372006174\n",
      "Random Forest Classification\n",
      "0.8919470416980227\n",
      "Random Forest Classification2\n",
      "0.8884206301424845\n",
      "Gradient Boosting Classification\n",
      "0.8883275552578048\n",
      "Gradient Boosting Classification2\n",
      "0.885422287629793\n",
      "Gradient Boosting Classification3\n",
      "0.9050353699122387\n",
      "Neural Network Classification\n",
      "0.8661056615047552\n"
     ]
    }
   ],
   "source": [
    "for model in models:\n",
    "  \n",
    "    name = model[0]\n",
    "    print(model[0])\n",
    "    clf = model[1]\n",
    "    # print(model[2])\n",
    "    pipe = Pipeline([('scaler', StandardScaler()), (name, clf)])\n",
    "    #model.fit(trainX_prepared, trainY)\n",
    "    grids =  GridSearchCV(pipe, param_grid={}, scoring='f1_weighted' ,cv=3)\n",
    "    grids.fit(X_train, y_train)\n",
    "    if name == 'Gradient Boosting Classification':\n",
    "        new_model = clf\n",
    "    #print('train result', result['test_score'])\n",
    "    grids.best_score_\n",
    "    # print('mean_score:', -np.mean(result['test_score']))\n",
    "    y_preds = grids.best_estimator_.predict(X_test)\n",
    "\n",
    "    print(f1_score(y_test, y_preds, average='weighted'))\n",
    "    \n",
    "   "
   ]
  },
  {
   "cell_type": "code",
   "execution_count": 378,
   "id": "d016bbd2",
   "metadata": {},
   "outputs": [
    {
     "name": "stdout",
     "output_type": "stream",
     "text": [
      "0.9072017509103603\n",
      "              precision    recall  f1-score   support\n",
      "\n",
      "           1       0.92      0.95      0.94        64\n",
      "           2       0.94      0.91      0.93        82\n",
      "           3       0.20      0.20      0.20         5\n",
      "\n",
      "    accuracy                           0.91       151\n",
      "   macro avg       0.69      0.69      0.69       151\n",
      "weighted avg       0.91      0.91      0.91       151\n",
      "\n"
     ]
    }
   ],
   "source": [
    "logreg = LogisticRegression().fit(X_train, y_train)\n",
    "y_preds_logreg = logreg.predict(X_test)\n",
    "print(f1_score(y_test, y_preds_logreg, average='weighted'))\n",
    "print(classification_report(y_test, y_preds_logreg))\n",
    "# precision: how many did you guess right out of all the ones you guessed right for that class\n",
    "# recall: how many did you guess right out of all the ones that were actually that class"
   ]
  },
  {
   "cell_type": "code",
   "execution_count": 383,
   "id": "38b91418",
   "metadata": {},
   "outputs": [
    {
     "name": "stdout",
     "output_type": "stream",
     "text": [
      "0.9050353699122387\n",
      "              precision    recall  f1-score   support\n",
      "\n",
      "           1       0.92      0.95      0.94        64\n",
      "           2       0.92      0.95      0.93        82\n",
      "           3       0.00      0.00      0.00         5\n",
      "\n",
      "    accuracy                           0.92       151\n",
      "   macro avg       0.61      0.63      0.62       151\n",
      "weighted avg       0.89      0.92      0.91       151\n",
      "\n"
     ]
    },
    {
     "name": "stderr",
     "output_type": "stream",
     "text": [
      "/opt/homebrew/lib/python3.11/site-packages/sklearn/metrics/_classification.py:1469: UndefinedMetricWarning: Precision and F-score are ill-defined and being set to 0.0 in labels with no predicted samples. Use `zero_division` parameter to control this behavior.\n",
      "  _warn_prf(average, modifier, msg_start, len(result))\n",
      "/opt/homebrew/lib/python3.11/site-packages/sklearn/metrics/_classification.py:1469: UndefinedMetricWarning: Precision and F-score are ill-defined and being set to 0.0 in labels with no predicted samples. Use `zero_division` parameter to control this behavior.\n",
      "  _warn_prf(average, modifier, msg_start, len(result))\n",
      "/opt/homebrew/lib/python3.11/site-packages/sklearn/metrics/_classification.py:1469: UndefinedMetricWarning: Precision and F-score are ill-defined and being set to 0.0 in labels with no predicted samples. Use `zero_division` parameter to control this behavior.\n",
      "  _warn_prf(average, modifier, msg_start, len(result))\n"
     ]
    },
    {
     "data": {
      "text/plain": [
       "<Axes: >"
      ]
     },
     "execution_count": 383,
     "metadata": {},
     "output_type": "execute_result"
    },
    {
     "data": {
      "image/png": "[encoded data removed]",
      "text/plain": [
       "<Figure size 640x480 with 1 Axes>"
      ]
     },
     "metadata": {},
     "output_type": "display_data"
    }
   ],
   "source": [
    "rf = RandomForestClassifier().fit(X_train, y_train)\n",
    "y_preds_rf = rf.predict(X_test)\n",
    "print(f1_score(y_test, y_preds_rf, average='weighted'))\n",
    "print(classification_report(y_test, y_preds_rf))\n",
    "features=X_train.columns\n",
    "importances = rf.feature_importances_\n",
    "indices = np.argsort(importances)\n",
    "\n",
    "# plt.figure(1)\n",
    "# plt.title('Feature Importances')\n",
    "# plt.barh(range(len(indices)), importances[indices], color='b', align='center')\n",
    "# plt.yticks(range(len(indices)), features[indices])\n",
    "# plt.xlabel('Relative Importance')\n",
    "feat_importances = pd.Series(rf.feature_importances_, index=X_train.columns)\n",
    "feat_importances.nlargest(15).plot(kind='barh')"
   ]
  },
  {
   "cell_type": "code",
   "execution_count": 380,
   "id": "a586ffc6",
   "metadata": {},
   "outputs": [
    {
     "name": "stdout",
     "output_type": "stream",
     "text": [
      "0.8883275552578048\n",
      "              precision    recall  f1-score   support\n",
      "\n",
      "           1       0.89      0.97      0.93        64\n",
      "           2       0.93      0.90      0.91        82\n",
      "           3       0.00      0.00      0.00         5\n",
      "\n",
      "    accuracy                           0.90       151\n",
      "   macro avg       0.60      0.62      0.61       151\n",
      "weighted avg       0.88      0.90      0.89       151\n",
      "\n"
     ]
    }
   ],
   "source": [
    "new_model.fit(X_train, y_train)\n",
    "y_preds = new_model.predict(X_test)\n",
    "print(f1_score(y_test, y_preds, average='weighted'))\n",
    "print(classification_report(y_test, y_preds))"
   ]
  },
  {
   "cell_type": "code",
   "execution_count": 381,
   "id": "9b75d825",
   "metadata": {},
   "outputs": [
    {
     "data": {
      "text/plain": [
       "array([1, 1, 1, 2, 2, 2, 2, 1, 1, 2, 2, 2, 1, 1, 2, 1, 1, 1, 2, 1, 2, 2,\n",
       "       2, 1, 2, 2, 1, 2, 2, 1, 2, 1, 1, 1, 2, 1, 2, 2, 1, 2, 1, 1, 1, 2,\n",
       "       2, 1, 2, 2, 1, 1, 2, 1, 2, 2, 3, 1, 2, 1, 1, 2, 2, 1, 1, 2, 2, 2,\n",
       "       1, 2, 1, 1, 1, 2, 2, 1, 2, 1, 2, 1, 1, 2, 2, 2, 2, 1, 2, 1, 2, 2,\n",
       "       1, 2, 2, 2, 1, 1, 2, 1, 1, 1, 2, 1, 2, 2, 2, 2, 2, 1, 3, 1, 2, 3,\n",
       "       1, 2, 1, 2, 1, 2, 2, 2, 2, 1, 1, 1, 3, 1, 2, 2, 2, 2, 2, 1, 2, 2,\n",
       "       1, 2, 2, 1, 2, 2, 1, 1, 1, 2, 2, 3, 1, 2, 2, 2, 2, 2, 2])"
      ]
     },
     "execution_count": 381,
     "metadata": {},
     "output_type": "execute_result"
    }
   ],
   "source": [
    "y_test.to_numpy()"
   ]
  },
  {
   "cell_type": "code",
   "execution_count": 382,
   "id": "8a3fa412",
   "metadata": {},
   "outputs": [
    {
     "data": {
      "text/plain": [
       "array([1, 1, 1, 2, 2, 2, 2, 1, 1, 2, 2, 2, 1, 1, 2, 1, 1, 1, 2, 1, 2, 1,\n",
       "       2, 1, 2, 2, 1, 2, 2, 1, 2, 1, 2, 1, 1, 1, 1, 2, 1, 2, 1, 1, 1, 2,\n",
       "       2, 1, 2, 3, 1, 1, 2, 1, 2, 2, 1, 1, 2, 1, 1, 2, 2, 1, 1, 2, 2, 2,\n",
       "       1, 2, 1, 1, 1, 2, 2, 1, 2, 1, 2, 1, 1, 2, 1, 2, 1, 1, 2, 1, 2, 2,\n",
       "       1, 2, 2, 2, 1, 2, 2, 1, 1, 1, 2, 1, 2, 2, 2, 2, 2, 1, 2, 1, 2, 2,\n",
       "       1, 2, 1, 2, 1, 2, 2, 2, 1, 1, 1, 1, 2, 1, 1, 2, 2, 2, 2, 1, 2, 2,\n",
       "       1, 2, 2, 1, 2, 2, 1, 1, 1, 2, 2, 2, 1, 2, 2, 2, 2, 2, 2])"
      ]
     },
     "execution_count": 382,
     "metadata": {},
     "output_type": "execute_result"
    }
   ],
   "source": [
    "y_preds"
   ]
  },
  {
   "cell_type": "code",
   "execution_count": null,
   "id": "77dfe0c2",
   "metadata": {},
   "outputs": [],
   "source": []
  },
  {
   "cell_type": "code",
   "execution_count": null,
   "id": "c9d9740d",
   "metadata": {},
   "outputs": [],
   "source": []
  }
 ],
 "metadata": {
  "kernelspec": {
   "display_name": "Python 3 (ipykernel)",
   "language": "python",
   "name": "python3"
  },
  "language_info": {
   "codemirror_mode": {
    "name": "ipython",
    "version": 3
   },
   "file_extension": ".py",
   "mimetype": "text/x-python",
   "name": "python",
   "nbconvert_exporter": "python",
   "pygments_lexer": "ipython3",
   "version": "3.11.6"
  }
 },
 "nbformat": 4,
 "nbformat_minor": 5
}
