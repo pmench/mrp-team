{
 "cells": [
  {
   "cell_type": "code",
   "execution_count": 1,
   "id": "40942d88",
   "metadata": {},
   "outputs": [],
   "source": [
    "import os\n",
    "import regex as re\n",
    "import numpy as np\n",
    "import pandas as pd\n",
    "\n",
    "from tqdm import tqdm"
   ]
  },
  {
   "cell_type": "code",
   "execution_count": 2,
   "id": "cb643be2",
   "metadata": {},
   "outputs": [],
   "source": [
    "df = pd.read_csv(\"../data/census/raw/usa_00008.csv.gz\", compression = 'gzip')"
   ]
  },
  {
   "cell_type": "code",
   "execution_count": 3,
   "id": "eef0deed",
   "metadata": {},
   "outputs": [],
   "source": [
    "df = df[df['YEAR'] == 2020]\n",
    "df = df[df['SAMPLE'] == 202003]"
   ]
  },
  {
   "cell_type": "markdown",
   "id": "3fb0336a",
   "metadata": {},
   "source": [
    "<h2>Columns</h2>\n",
    "\n",
    "* Sex \n",
    "    * 1 = male\n",
    "    * 2 = female"
   ]
  },
  {
   "cell_type": "markdown",
   "id": "f54f3f1b",
   "metadata": {},
   "source": [
    "<h2>Recode Age</h2>"
   ]
  },
  {
   "cell_type": "code",
   "execution_count": 4,
   "id": "329dd834",
   "metadata": {},
   "outputs": [],
   "source": [
    "#drop under age\n",
    "df = df[df['AGE'] >= 18]"
   ]
  },
  {
   "cell_type": "code",
   "execution_count": 5,
   "id": "65a70e82",
   "metadata": {},
   "outputs": [],
   "source": [
    "def recode_age(s):\n",
    "    if s >= 18 and s <= 34:\n",
    "        return 1\n",
    "    elif s>=35 and s<=54:\n",
    "        return 2\n",
    "    elif s>=55:\n",
    "        return 3\n",
    "    elif pd.isnull(s):\n",
    "        return 9"
   ]
  },
  {
   "cell_type": "code",
   "execution_count": 6,
   "id": "2496adbb",
   "metadata": {},
   "outputs": [],
   "source": [
    "df['age_recoded'] = df['AGE'].apply(recode_age)"
   ]
  },
  {
   "cell_type": "markdown",
   "id": "8d548323",
   "metadata": {},
   "source": [
    "<h2>Recode Race</h2>"
   ]
  },
  {
   "cell_type": "code",
   "execution_count": 7,
   "id": "7aca2019",
   "metadata": {},
   "outputs": [],
   "source": [
    "def recode_race(s):\n",
    "    if s['HISPAN'] in [1, 2, 3, 4, 9]:\n",
    "        return 4\n",
    "    elif s['RACE'] == 4.0 or s['RACE'] == 5.0 or s['RACE'] == 6.0:\n",
    "        return 3\n",
    "    elif s['RACE'] == 1.0:\n",
    "        return 1\n",
    "    elif s['RACE'] == 2.0:\n",
    "        return 2\n",
    "    else:\n",
    "        return 9"
   ]
  },
  {
   "cell_type": "code",
   "execution_count": 8,
   "id": "1b7fd588",
   "metadata": {},
   "outputs": [],
   "source": [
    "df['race_recoded'] = df.apply(recode_race, axis = 1)"
   ]
  },
  {
   "cell_type": "markdown",
   "id": "9541c83e",
   "metadata": {},
   "source": [
    "<h2>Recode Gender</h2>"
   ]
  },
  {
   "cell_type": "code",
   "execution_count": 9,
   "id": "4c2c2792",
   "metadata": {},
   "outputs": [],
   "source": [
    "df['male'] = df['SEX'] == 1"
   ]
  },
  {
   "cell_type": "markdown",
   "id": "8a71cbcd",
   "metadata": {},
   "source": [
    "<h2>Recode Education</h2>"
   ]
  },
  {
   "cell_type": "code",
   "execution_count": 10,
   "id": "eb299816",
   "metadata": {},
   "outputs": [],
   "source": [
    "def recode_education(s):\n",
    "    if s >=2 and s <= 63:\n",
    "        return 1\n",
    "    elif s >=64 and s != 999:\n",
    "        return 2\n",
    "    else:\n",
    "        return 3"
   ]
  },
  {
   "cell_type": "code",
   "execution_count": 11,
   "id": "2758dfa9",
   "metadata": {},
   "outputs": [],
   "source": [
    "df['education_recoded'] = df['EDUC'].apply(recode_education)"
   ]
  },
  {
   "cell_type": "markdown",
   "id": "75c4a6f2",
   "metadata": {},
   "source": [
    "<h2>Recode Region</h2>"
   ]
  },
  {
   "cell_type": "code",
   "execution_count": 12,
   "id": "37eb7a87",
   "metadata": {},
   "outputs": [],
   "source": [
    "### https://www2.census.gov/geo/pdfs/maps-data/maps/reference/us_regdiv.pdf\n",
    "def recode_region(s):\n",
    "    new_england = [9.0, 23.0, 25.0, 33.0, 44.0, 50.0, 34.0, 36.0, 42.0]\n",
    "    midwest = [18.0, 17.0, 26.0, 39.0, 55.0, 19.0, 20.0, 27.0, 29.0, 31.0, 38.0, 46.0]\n",
    "    south = [10.0, 11.0, 12.0, 13.0, 24.0, 37.0, 45.0, 51.0, 54.0, 1.0, 21.0, 28.0, 47.0, 5.0, 22.0, 40.0, 48.0]\n",
    "    west = [4.0, 8.0, 16.0, 35.0, 30.0, 49.0, 32.0, 56.0, 2.0, 6.0, 15.0, 41.0, 53.0]\n",
    "    \n",
    "    if s in new_england:\n",
    "        return 1\n",
    "    elif s in midwest:\n",
    "        return 2 \n",
    "    elif s in south:\n",
    "        return 3\n",
    "    elif s in west:\n",
    "        return 4"
   ]
  },
  {
   "cell_type": "code",
   "execution_count": 13,
   "id": "6f1fbc9f",
   "metadata": {},
   "outputs": [],
   "source": [
    "df['region'] = df['STATEFIP'].apply(recode_region)"
   ]
  },
  {
   "cell_type": "markdown",
   "id": "e3f6d4d3",
   "metadata": {},
   "source": [
    "<h2>Prepare Stratification Tab;e</h2>"
   ]
  },
  {
   "cell_type": "code",
   "execution_count": 14,
   "id": "8461a94b",
   "metadata": {},
   "outputs": [],
   "source": [
    "targets = ['HHWT', 'STATEFIP', 'region', 'age_recoded', 'race_recoded', 'male', 'education_recoded']"
   ]
  },
  {
   "cell_type": "code",
   "execution_count": 15,
   "id": "57fd6f6e",
   "metadata": {},
   "outputs": [],
   "source": [
    "df = df[targets]"
   ]
  },
  {
   "cell_type": "code",
   "execution_count": 16,
   "id": "42f67c82",
   "metadata": {
    "scrolled": true
   },
   "outputs": [],
   "source": [
    "strats = df.groupby(['STATEFIP', 'region', 'age_recoded', 'race_recoded', 'male', 'education_recoded'])['HHWT'].sum().reset_index()"
   ]
  },
  {
   "cell_type": "code",
   "execution_count": 17,
   "id": "64ce64db",
   "metadata": {},
   "outputs": [
    {
     "data": {
      "text/html": [
       "<div>\n",
       "<style scoped>\n",
       "    .dataframe tbody tr th:only-of-type {\n",
       "        vertical-align: middle;\n",
       "    }\n",
       "\n",
       "    .dataframe tbody tr th {\n",
       "        vertical-align: top;\n",
       "    }\n",
       "\n",
       "    .dataframe thead th {\n",
       "        text-align: right;\n",
       "    }\n",
       "</style>\n",
       "<table border=\"1\" class=\"dataframe\">\n",
       "  <thead>\n",
       "    <tr style=\"text-align: right;\">\n",
       "      <th></th>\n",
       "      <th>STATEFIP</th>\n",
       "      <th>region</th>\n",
       "      <th>age_recoded</th>\n",
       "      <th>race_recoded</th>\n",
       "      <th>male</th>\n",
       "      <th>education_recoded</th>\n",
       "      <th>HHWT</th>\n",
       "    </tr>\n",
       "  </thead>\n",
       "  <tbody>\n",
       "    <tr>\n",
       "      <th>0</th>\n",
       "      <td>1</td>\n",
       "      <td>3</td>\n",
       "      <td>1</td>\n",
       "      <td>1</td>\n",
       "      <td>False</td>\n",
       "      <td>1</td>\n",
       "      <td>294318.0</td>\n",
       "    </tr>\n",
       "    <tr>\n",
       "      <th>1</th>\n",
       "      <td>1</td>\n",
       "      <td>3</td>\n",
       "      <td>1</td>\n",
       "      <td>1</td>\n",
       "      <td>False</td>\n",
       "      <td>3</td>\n",
       "      <td>1652.0</td>\n",
       "    </tr>\n",
       "    <tr>\n",
       "      <th>2</th>\n",
       "      <td>1</td>\n",
       "      <td>3</td>\n",
       "      <td>1</td>\n",
       "      <td>1</td>\n",
       "      <td>True</td>\n",
       "      <td>1</td>\n",
       "      <td>286414.0</td>\n",
       "    </tr>\n",
       "    <tr>\n",
       "      <th>3</th>\n",
       "      <td>1</td>\n",
       "      <td>3</td>\n",
       "      <td>1</td>\n",
       "      <td>1</td>\n",
       "      <td>True</td>\n",
       "      <td>3</td>\n",
       "      <td>1647.0</td>\n",
       "    </tr>\n",
       "    <tr>\n",
       "      <th>4</th>\n",
       "      <td>1</td>\n",
       "      <td>3</td>\n",
       "      <td>1</td>\n",
       "      <td>2</td>\n",
       "      <td>False</td>\n",
       "      <td>1</td>\n",
       "      <td>146984.0</td>\n",
       "    </tr>\n",
       "    <tr>\n",
       "      <th>...</th>\n",
       "      <td>...</td>\n",
       "      <td>...</td>\n",
       "      <td>...</td>\n",
       "      <td>...</td>\n",
       "      <td>...</td>\n",
       "      <td>...</td>\n",
       "      <td>...</td>\n",
       "    </tr>\n",
       "    <tr>\n",
       "      <th>2990</th>\n",
       "      <td>56</td>\n",
       "      <td>4</td>\n",
       "      <td>3</td>\n",
       "      <td>4</td>\n",
       "      <td>True</td>\n",
       "      <td>1</td>\n",
       "      <td>4049.0</td>\n",
       "    </tr>\n",
       "    <tr>\n",
       "      <th>2991</th>\n",
       "      <td>56</td>\n",
       "      <td>4</td>\n",
       "      <td>3</td>\n",
       "      <td>4</td>\n",
       "      <td>True</td>\n",
       "      <td>3</td>\n",
       "      <td>223.0</td>\n",
       "    </tr>\n",
       "    <tr>\n",
       "      <th>2992</th>\n",
       "      <td>56</td>\n",
       "      <td>4</td>\n",
       "      <td>3</td>\n",
       "      <td>9</td>\n",
       "      <td>False</td>\n",
       "      <td>1</td>\n",
       "      <td>2076.0</td>\n",
       "    </tr>\n",
       "    <tr>\n",
       "      <th>2993</th>\n",
       "      <td>56</td>\n",
       "      <td>4</td>\n",
       "      <td>3</td>\n",
       "      <td>9</td>\n",
       "      <td>False</td>\n",
       "      <td>3</td>\n",
       "      <td>47.0</td>\n",
       "    </tr>\n",
       "    <tr>\n",
       "      <th>2994</th>\n",
       "      <td>56</td>\n",
       "      <td>4</td>\n",
       "      <td>3</td>\n",
       "      <td>9</td>\n",
       "      <td>True</td>\n",
       "      <td>1</td>\n",
       "      <td>2016.0</td>\n",
       "    </tr>\n",
       "  </tbody>\n",
       "</table>\n",
       "<p>2995 rows × 7 columns</p>\n",
       "</div>"
      ],
      "text/plain": [
       "      STATEFIP  region  age_recoded  race_recoded   male  education_recoded  \\\n",
       "0            1       3            1             1  False                  1   \n",
       "1            1       3            1             1  False                  3   \n",
       "2            1       3            1             1   True                  1   \n",
       "3            1       3            1             1   True                  3   \n",
       "4            1       3            1             2  False                  1   \n",
       "...        ...     ...          ...           ...    ...                ...   \n",
       "2990        56       4            3             4   True                  1   \n",
       "2991        56       4            3             4   True                  3   \n",
       "2992        56       4            3             9  False                  1   \n",
       "2993        56       4            3             9  False                  3   \n",
       "2994        56       4            3             9   True                  1   \n",
       "\n",
       "          HHWT  \n",
       "0     294318.0  \n",
       "1       1652.0  \n",
       "2     286414.0  \n",
       "3       1647.0  \n",
       "4     146984.0  \n",
       "...        ...  \n",
       "2990    4049.0  \n",
       "2991     223.0  \n",
       "2992    2076.0  \n",
       "2993      47.0  \n",
       "2994    2016.0  \n",
       "\n",
       "[2995 rows x 7 columns]"
      ]
     },
     "execution_count": 17,
     "metadata": {},
     "output_type": "execute_result"
    }
   ],
   "source": [
    "strats"
   ]
  },
  {
   "cell_type": "code",
   "execution_count": 18,
   "id": "4b6f8d2f",
   "metadata": {},
   "outputs": [],
   "source": [
    "strats.to_csv(\"../data/census/cleaned/post_stratification_data.csv\", index = False)"
   ]
  },
  {
   "cell_type": "code",
   "execution_count": null,
   "id": "f0375831",
   "metadata": {},
   "outputs": [],
   "source": []
  }
 ],
 "metadata": {
  "kernelspec": {
   "display_name": "Python 3 (ipykernel)",
   "language": "python",
   "name": "python3"
  },
  "language_info": {
   "codemirror_mode": {
    "name": "ipython",
    "version": 3
   },
   "file_extension": ".py",
   "mimetype": "text/x-python",
   "name": "python",
   "nbconvert_exporter": "python",
   "pygments_lexer": "ipython3",
   "version": "3.11.5"
  }
 },
 "nbformat": 4,
 "nbformat_minor": 5
}
