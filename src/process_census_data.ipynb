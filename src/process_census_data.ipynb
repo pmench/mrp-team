{
 "cells": [
  {
   "cell_type": "code",
   "execution_count": 1,
   "id": "6a4cb4bd",
   "metadata": {},
   "outputs": [],
   "source": [
    "import os\n",
    "import regex as re\n",
    "import numpy as np\n",
    "import pandas as pd\n",
    "\n",
    "from tqdm import tqdm"
   ]
  },
  {
   "cell_type": "code",
   "execution_count": 2,
   "id": "60252164",
   "metadata": {},
   "outputs": [
    {
     "data": {
      "text/plain": [
       "['.DS_Store', 'cleaned', 'raw']"
      ]
     },
     "execution_count": 2,
     "metadata": {},
     "output_type": "execute_result"
    }
   ],
   "source": [
    "os.listdir(\"../data/census\")"
   ]
  },
  {
   "cell_type": "code",
   "execution_count": 3,
   "id": "c9b0e408",
   "metadata": {},
   "outputs": [],
   "source": [
    "df = pd.read_csv(\"../data/census/raw/usa_00008.csv.gz\", compression = 'gzip')"
   ]
  },
  {
   "cell_type": "code",
   "execution_count": 4,
   "id": "f91b3860",
   "metadata": {},
   "outputs": [],
   "source": [
    "df = df[df['YEAR'] == 2020]\n",
    "df = df[df['SAMPLE'] == 202003]"
   ]
  },
  {
   "cell_type": "markdown",
   "id": "73db2724",
   "metadata": {},
   "source": [
    "<h2>Columns</h2>\n",
    "\n",
    "* Sex \n",
    "    * 1 = male\n",
    "    * 2 = female"
   ]
  },
  {
   "cell_type": "markdown",
   "id": "8f5fae64",
   "metadata": {},
   "source": [
    "<h2>Recode Age</h2>"
   ]
  },
  {
   "cell_type": "code",
   "execution_count": 5,
   "id": "62259046",
   "metadata": {},
   "outputs": [],
   "source": [
    "#drop under age\n",
    "df = df[df['AGE'] >= 18]"
   ]
  },
  {
   "cell_type": "code",
   "execution_count": 6,
   "id": "d7ace59d",
   "metadata": {},
   "outputs": [],
   "source": [
    "def recode_age(s):\n",
    "    if s >= 18 and s <= 34:\n",
    "        return 1\n",
    "    elif s>=35 and s<=54:\n",
    "        return 2\n",
    "    elif s>=55:\n",
    "        return 3\n",
    "    elif pd.isnull(s):\n",
    "        return 9"
   ]
  },
  {
   "cell_type": "code",
   "execution_count": 7,
   "id": "62196c66",
   "metadata": {},
   "outputs": [],
   "source": [
    "df['age_recoded'] = df['AGE'].apply(recode_age)"
   ]
  },
  {
   "cell_type": "markdown",
   "id": "027fc471",
   "metadata": {},
   "source": [
    "<h2>Recode Race</h2>"
   ]
  },
  {
   "cell_type": "code",
   "execution_count": 8,
   "id": "33eeda9a",
   "metadata": {},
   "outputs": [],
   "source": [
    "def recode_race(s):\n",
    "    if s['HISPAN'] in [1, 2, 3, 4, 9]:\n",
    "        return 4\n",
    "    elif s['RACE'] == 4.0 or s['RACE'] == 5.0 or s['RACE'] == 6.0:\n",
    "        return 3\n",
    "    elif s['RACE'] == 1.0:\n",
    "        return 1\n",
    "    elif s['RACE'] == 2.0:\n",
    "        return 2\n",
    "    else:\n",
    "        return 9"
   ]
  },
  {
   "cell_type": "code",
   "execution_count": 9,
   "id": "285896cd",
   "metadata": {},
   "outputs": [],
   "source": [
    "df['race_recoded'] = df.apply(recode_race, axis = 1)"
   ]
  },
  {
   "cell_type": "markdown",
   "id": "61083fc8",
   "metadata": {},
   "source": [
    "<h2>Recode Gender</h2>"
   ]
  },
  {
   "cell_type": "code",
   "execution_count": 10,
   "id": "22716920",
   "metadata": {},
   "outputs": [],
   "source": [
    "df['male'] = df['SEX'] == 1"
   ]
  },
  {
   "cell_type": "markdown",
   "id": "e1132194",
   "metadata": {},
   "source": [
    "<h2>Recode Education</h2>"
   ]
  },
  {
   "cell_type": "code",
   "execution_count": 11,
   "id": "62a8a194",
   "metadata": {},
   "outputs": [],
   "source": [
    "def recode_education(s):\n",
    "    if s >=2 and s <= 63:\n",
    "        return 1\n",
    "    elif s >=64 and s != 999:\n",
    "        return 2\n",
    "    else:\n",
    "        return 3"
   ]
  },
  {
   "cell_type": "code",
   "execution_count": 12,
   "id": "cd860208",
   "metadata": {},
   "outputs": [],
   "source": [
    "df['education_recoded'] = df['EDUC'].apply(recode_education)"
   ]
  },
  {
   "cell_type": "markdown",
   "id": "44ace2ea",
   "metadata": {},
   "source": [
    "<h2>Recode Region</h2>"
   ]
  },
  {
   "cell_type": "code",
   "execution_count": 13,
   "id": "3b9a36ec",
   "metadata": {},
   "outputs": [],
   "source": [
    "### https://www2.census.gov/geo/pdfs/maps-data/maps/reference/us_regdiv.pdf\n",
    "def recode_region(s):\n",
    "    new_england = [9.0, 23.0, 25.0, 33.0, 44.0, 50.0, 34.0, 36.0, 42.0]\n",
    "    midwest = [18.0, 17.0, 26.0, 39.0, 55.0, 19.0, 20.0, 27.0, 29.0, 31.0, 38.0, 46.0]\n",
    "    south = [10.0, 11.0, 12.0, 13.0, 24.0, 37.0, 45.0, 51.0, 54.0, 1.0, 21.0, 28.0, 47.0, 5.0, 22.0, 40.0, 48.0]\n",
    "    west = [4.0, 8.0, 16.0, 35.0, 30.0, 49.0, 32.0, 56.0, 2.0, 6.0, 15.0, 41.0, 53.0]\n",
    "    \n",
    "    if s in new_england:\n",
    "        return 1\n",
    "    elif s in midwest:\n",
    "        return 2 \n",
    "    elif s in south:\n",
    "        return 3\n",
    "    elif s in west:\n",
    "        return 4"
   ]
  },
  {
   "cell_type": "code",
   "execution_count": 14,
   "id": "0440614a",
   "metadata": {},
   "outputs": [],
   "source": [
    "df['region'] = df['STATEFIP'].apply(recode_region)"
   ]
  },
  {
   "cell_type": "markdown",
   "id": "1d556203",
   "metadata": {},
   "source": [
    "<h2>Prepare Stratification Tab;e</h2>"
   ]
  },
  {
   "cell_type": "code",
   "execution_count": 17,
   "id": "df6874d3",
   "metadata": {},
   "outputs": [],
   "source": [
    "targets = ['STATEFIP', 'PERWT', 'age_recoded', 'race_recoded', 'male', 'education_recoded']"
   ]
  },
  {
   "cell_type": "code",
   "execution_count": 18,
   "id": "5b9eaba3",
   "metadata": {},
   "outputs": [],
   "source": [
    "df = df[targets]"
   ]
  },
  {
   "cell_type": "code",
   "execution_count": 23,
   "id": "fa9ad8f6",
   "metadata": {
    "scrolled": true
   },
   "outputs": [],
   "source": [
    "strats = df.groupby(['STATEFIP', 'age_recoded', 'race_recoded', 'male', 'education_recoded'])['PERWT'].sum().reset_index()"
   ]
  },
  {
   "cell_type": "code",
   "execution_count": 24,
   "id": "44a2fd9c",
   "metadata": {},
   "outputs": [],
   "source": [
    "tot = strats['PERWT'].sum()"
   ]
  },
  {
   "cell_type": "code",
   "execution_count": 25,
   "id": "4b794ffb",
   "metadata": {},
   "outputs": [],
   "source": [
    "strats['prop'] = strats['PERWT'] / tot"
   ]
  },
  {
   "cell_type": "code",
   "execution_count": 26,
   "id": "96f64970",
   "metadata": {},
   "outputs": [],
   "source": [
    "strats.to_csv(\"../data/census/cleaned/post_stratification_data_by_state.csv\", index = False)"
   ]
  },
  {
   "cell_type": "code",
   "execution_count": null,
   "id": "34e838ee",
   "metadata": {},
   "outputs": [],
   "source": []
  },
  {
   "cell_type": "code",
   "execution_count": null,
   "id": "ed81292e",
   "metadata": {},
   "outputs": [],
   "source": []
  }
 ],
 "metadata": {
  "kernelspec": {
   "display_name": "Python 3 (ipykernel)",
   "language": "python",
   "name": "python3"
  },
  "language_info": {
   "codemirror_mode": {
    "name": "ipython",
    "version": 3
   },
   "file_extension": ".py",
   "mimetype": "text/x-python",
   "name": "python",
   "nbconvert_exporter": "python",
   "pygments_lexer": "ipython3",
   "version": "3.11.5"
  }
 },
 "nbformat": 4,
 "nbformat_minor": 5
}
