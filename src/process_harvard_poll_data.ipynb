{
 "cells": [
  {
   "cell_type": "code",
   "execution_count": 1,
   "id": "423edef3",
   "metadata": {},
   "outputs": [],
   "source": [
    "import pandas as pd\n",
    "import numpy as np\n",
    "import os"
   ]
  },
  {
   "cell_type": "code",
   "execution_count": 2,
   "id": "2891076d",
   "metadata": {},
   "outputs": [
    {
     "name": "stderr",
     "output_type": "stream",
     "text": [
      "/var/folders/49/3f_15lzd6b57lnzlk4m_9k440000gn/T/ipykernel_3581/4195650295.py:1: DtypeWarning: Columns (331,332,333,334,335,340,341,342,343,344,608,609,610,611,612,613,614,615,616,617,618,619,620,621) have mixed types. Specify dtype option on import or set low_memory=False.\n",
      "  df = pd.read_csv(\"../data/CES20_Common_OUTPUT_vv.csv\")\n"
     ]
    }
   ],
   "source": [
    "df = pd.read_csv(\"../data/CES20_Common_OUTPUT_vv.csv\")"
   ]
  },
  {
   "cell_type": "code",
   "execution_count": 3,
   "id": "0be544f3",
   "metadata": {},
   "outputs": [],
   "source": [
    "df = df.dropna(subset = 'CC20_410a_nv')"
   ]
  },
  {
   "cell_type": "code",
   "execution_count": 4,
   "id": "2f447297",
   "metadata": {},
   "outputs": [],
   "source": [
    "df = df[(df['CC20_410a_nv'] == 1.0) | (df['CC20_410a_nv'] == 2.0)]"
   ]
  },
  {
   "cell_type": "markdown",
   "id": "de092c41",
   "metadata": {},
   "source": [
    "<h2>Recode</h2>"
   ]
  },
  {
   "cell_type": "code",
   "execution_count": 5,
   "id": "da3d6adf",
   "metadata": {},
   "outputs": [],
   "source": [
    "df['male'] = df['gender'] == 1"
   ]
  },
  {
   "cell_type": "code",
   "execution_count": 6,
   "id": "4755d26e",
   "metadata": {},
   "outputs": [],
   "source": [
    "df['education_recoded'] = df['educ'].apply(lambda s: np.where(s <= 2, 1, 3))"
   ]
  },
  {
   "cell_type": "code",
   "execution_count": 7,
   "id": "2e77305e",
   "metadata": {},
   "outputs": [],
   "source": [
    "df['race_recoded'] = df['race'].apply(lambda s: np.where(s >= 5, 9, s))"
   ]
  },
  {
   "cell_type": "code",
   "execution_count": 8,
   "id": "c55db757",
   "metadata": {},
   "outputs": [],
   "source": [
    "df['race_recoded'] = df['race_recoded'].map({3:4, 4:3}).fillna(df['race_recoded'])"
   ]
  },
  {
   "cell_type": "code",
   "execution_count": 9,
   "id": "5e477afa",
   "metadata": {},
   "outputs": [],
   "source": [
    "df['age_delta'] = 2020 - df['birthyr']"
   ]
  },
  {
   "cell_type": "code",
   "execution_count": 10,
   "id": "e2902569",
   "metadata": {},
   "outputs": [],
   "source": [
    "def recode_age(s):\n",
    "    if s >= 18 and s <= 34:\n",
    "        return 1 \n",
    "    elif s >= 35 and s <=54:\n",
    "        return 2 \n",
    "    elif s >= 55:\n",
    "        return 3"
   ]
  },
  {
   "cell_type": "code",
   "execution_count": 11,
   "id": "90b53347",
   "metadata": {},
   "outputs": [],
   "source": [
    "df['age_recoded'] = df['age_delta'].apply(recode_age)"
   ]
  },
  {
   "cell_type": "code",
   "execution_count": 12,
   "id": "c228a331",
   "metadata": {},
   "outputs": [],
   "source": [
    "df = df.rename(columns = {'inputstate': 'STATEFIP'})"
   ]
  },
  {
   "cell_type": "code",
   "execution_count": 13,
   "id": "b64aaaf7",
   "metadata": {},
   "outputs": [],
   "source": [
    "df['vote_choice_recoded'] = df['CC20_410a_nv'] == 2"
   ]
  },
  {
   "cell_type": "code",
   "execution_count": 14,
   "id": "7d790184",
   "metadata": {},
   "outputs": [],
   "source": [
    "df['vote_choice_recoded'] = df['vote_choice_recoded'].astype(int)"
   ]
  },
  {
   "cell_type": "code",
   "execution_count": 15,
   "id": "9c8e74c4",
   "metadata": {},
   "outputs": [],
   "source": [
    "df = df[['age_recoded', 'male', 'education_recoded', 'race_recoded', 'STATEFIP', 'vote_choice_recoded']]"
   ]
  },
  {
   "cell_type": "code",
   "execution_count": 16,
   "id": "674fba93",
   "metadata": {},
   "outputs": [],
   "source": [
    "df.to_csv(\"../data/harvard_poll.csv\", index = False)"
   ]
  }
 ],
 "metadata": {
  "kernelspec": {
   "display_name": "Python 3 (ipykernel)",
   "language": "python",
   "name": "python3"
  },
  "language_info": {
   "codemirror_mode": {
    "name": "ipython",
    "version": 3
   },
   "file_extension": ".py",
   "mimetype": "text/x-python",
   "name": "python",
   "nbconvert_exporter": "python",
   "pygments_lexer": "ipython3",
   "version": "3.11.5"
  }
 },
 "nbformat": 4,
 "nbformat_minor": 5
}
