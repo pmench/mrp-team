{
 "cells": [
  {
   "cell_type": "markdown",
   "id": "5599cc5a",
   "metadata": {},
   "source": [
    "<h1>Process Poll Data</h1>\n",
    "\n",
    "Process info from Monmouth University 2020 national poll"
   ]
  },
  {
   "cell_type": "code",
   "execution_count": 7,
   "id": "d578c7ee",
   "metadata": {},
   "outputs": [],
   "source": [
    "import os \n",
    "import numpy as np\n",
    "import pandas as pd \n",
    "\n",
    "from sklearn.model_selection import train_test_split"
   ]
  },
  {
   "cell_type": "markdown",
   "id": "3f2abcfd",
   "metadata": {},
   "source": [
    "<h2>Rename Columns</h2>"
   ]
  },
  {
   "cell_type": "code",
   "execution_count": 8,
   "id": "e434c511",
   "metadata": {},
   "outputs": [],
   "source": [
    "nat_2020 = pd.read_csv(\"../data/national_march_2020/MUP213_NATL_archive.tab\", sep = \"\\t\")"
   ]
  },
  {
   "cell_type": "code",
   "execution_count": 9,
   "id": "6a7e83c7",
   "metadata": {},
   "outputs": [],
   "source": [
    "nat_2020 = nat_2020.rename(columns = {\n",
    "        'Q3': 'top_household_concern',\n",
    "        'QD1': 'registered_vote',\n",
    "        'Q11': 'likely_to_vote', \n",
    "        'Q12': 'vote_choice', \n",
    "        'Q12B': 'vote_choice_undecided', \n",
    "        'Q13': 'approve_trump',\n",
    "        'Q14': 'approve_biden',\n",
    "        'Q15': 'optimistic',\n",
    "        'Q16': 'elec_enthusiasm',\n",
    "        'Q17': 'economic_situation',\n",
    "        'Q19': 'focused_imp_issues',\n",
    "        'QD2': 'party',\n",
    "        'QD2A': 'party_unaffiliated', \n",
    "        'QD3': 'political_leaning', \n",
    "        'QD4': 'education',\n",
    "        'QD5': 'age', \n",
    "        'QD5A': 'age_bin', \n",
    "        'QD7': 'latino', \n",
    "        'QD8': 'race', \n",
    "        'QD10': 'gender', \n",
    "        'QD11': 'state'\n",
    "})"
   ]
  },
  {
   "cell_type": "code",
   "execution_count": 10,
   "id": "0b15a08c",
   "metadata": {},
   "outputs": [],
   "source": [
    "nat_2020 = nat_2020.drop(columns = [c for c in nat_2020.columns if 'Q' in c])"
   ]
  },
  {
   "cell_type": "code",
   "execution_count": 11,
   "id": "82067a96",
   "metadata": {},
   "outputs": [
    {
     "data": {
      "text/plain": [
       "0      24.0\n",
       "1      34.0\n",
       "2      37.0\n",
       "3      37.0\n",
       "4      13.0\n",
       "       ... \n",
       "846    26.0\n",
       "847    24.0\n",
       "848    12.0\n",
       "849    22.0\n",
       "850    48.0\n",
       "Name: state, Length: 851, dtype: float64"
      ]
     },
     "execution_count": 11,
     "metadata": {},
     "output_type": "execute_result"
    }
   ],
   "source": [
    "nat_2020['state']"
   ]
  },
  {
   "cell_type": "markdown",
   "id": "0aaf7645",
   "metadata": {},
   "source": [
    "<h2>Recode Variables</h2>\n",
    "\n",
    "<h3>Vote Choice</h3>"
   ]
  },
  {
   "cell_type": "code",
   "execution_count": 12,
   "id": "7c394a55",
   "metadata": {},
   "outputs": [],
   "source": [
    "# if they didn't initially answer their vote choice fill in with the probe question\n",
    "# combine other categories\n",
    "nat_2020['vote_choice_recoded'] = nat_2020.apply(lambda s: np.where(s['vote_choice'] in [6.0, 7.0, 8.0, 9.0], s['vote_choice_undecided'], s['vote_choice']), axis = 1)\n",
    "nat_2020['vote_choice_recoded'] = nat_2020['vote_choice_recoded'].apply(lambda s: np.where(s in [3.0, 9.0], 3.0, s))"
   ]
  },
  {
   "cell_type": "markdown",
   "id": "e1765f1b",
   "metadata": {},
   "source": [
    "<h3>Party Leaning</h3>"
   ]
  },
  {
   "cell_type": "code",
   "execution_count": 13,
   "id": "5f512311",
   "metadata": {},
   "outputs": [],
   "source": [
    "# if they didn't answer their party leaning, fill in with probe question \n",
    "# combine other categories\n",
    "nat_2020['party_recoded'] = nat_2020.apply(lambda s: np.where(s['party'] in [4.0, 9.0], s['party_unaffiliated'], s['party']), axis = 1)\n",
    "nat_2020['party_recoded'] = nat_2020['party_recoded'].apply(lambda s: np.where(s in [3.0, 9.0], 3.0, s))"
   ]
  },
  {
   "cell_type": "markdown",
   "id": "615bb87d",
   "metadata": {},
   "source": [
    "<h3>Age</h3>\n",
    "\n",
    "Convert so they're all in bins"
   ]
  },
  {
   "cell_type": "code",
   "execution_count": 14,
   "id": "3a52d1ea",
   "metadata": {},
   "outputs": [],
   "source": [
    "nat_2020['age_recoded'] = nat_2020.apply(lambda s: np.where(not pd.isnull(s['age_bin']), s['age_bin'], s['age']), axis = 1)\n",
    "\n",
    "nat_2020['age_recoded'] = nat_2020['age_recoded'].apply(lambda s: np.where(s >= 18 and s <= 34 and not pd.isnull(s), 1.0, \n",
    "                                                        np.where(s >= 35 and s <= 54, 2.0, 3.0)))"
   ]
  },
  {
   "cell_type": "markdown",
   "id": "3836f219",
   "metadata": {},
   "source": [
    "<h3>Approval Ratings</h3>"
   ]
  },
  {
   "cell_type": "code",
   "execution_count": 15,
   "id": "c1f9a30b",
   "metadata": {},
   "outputs": [],
   "source": [
    "# True if they approve of Trump, False otherwise\n",
    "nat_2020['approve_trump'] = nat_2020['approve_trump'] == 1\n",
    "# True if they approve of Biden, False otherwise\n",
    "nat_2020['approve_biden'] = nat_2020['approve_biden'] == 1"
   ]
  },
  {
   "cell_type": "markdown",
   "id": "a9cedc1d",
   "metadata": {},
   "source": [
    "<h3>Race</h3>\n",
    "\n",
    "Overwrite if hispanic/latino"
   ]
  },
  {
   "cell_type": "code",
   "execution_count": 16,
   "id": "79fc03e5",
   "metadata": {},
   "outputs": [],
   "source": [
    "nat_2020['latino'] = nat_2020['latino'] == 1"
   ]
  },
  {
   "cell_type": "code",
   "execution_count": 17,
   "id": "7b18965c",
   "metadata": {},
   "outputs": [],
   "source": [
    "def recode_race(s):\n",
    "    if s['latino'] == 1 or s['race'] == 4: \n",
    "        return 4\n",
    "    elif s['race'] != 5 and s['race'] != 9:\n",
    "        return s['race']\n",
    "    else:\n",
    "        return 9"
   ]
  },
  {
   "cell_type": "code",
   "execution_count": 18,
   "id": "f07cfa7c",
   "metadata": {},
   "outputs": [],
   "source": [
    "# combine latino categories and other categories \n",
    "nat_2020['race_recoded'] = nat_2020.apply(recode_race, axis = 1)"
   ]
  },
  {
   "cell_type": "markdown",
   "id": "9571dfd4",
   "metadata": {},
   "source": [
    "<h3>Gender</h3>"
   ]
  },
  {
   "cell_type": "code",
   "execution_count": 19,
   "id": "ce9bf84e",
   "metadata": {},
   "outputs": [],
   "source": [
    "# True if they're a man, false otherwise\n",
    "nat_2020['male'] = nat_2020['gender'] == 1"
   ]
  },
  {
   "cell_type": "markdown",
   "id": "7b4040af",
   "metadata": {},
   "source": [
    "<h3>Registered to Vote</h3>"
   ]
  },
  {
   "cell_type": "code",
   "execution_count": 20,
   "id": "ca52bad0",
   "metadata": {},
   "outputs": [],
   "source": [
    "# True if they're registered to vote, false otherwise\n",
    "nat_2020['registered_vote'] = nat_2020['registered_vote'] == 1"
   ]
  },
  {
   "cell_type": "markdown",
   "id": "1fa563c7",
   "metadata": {},
   "source": [
    "<h3>Focused on Important Issues</h3>"
   ]
  },
  {
   "cell_type": "code",
   "execution_count": 21,
   "id": "8c8f2700",
   "metadata": {},
   "outputs": [],
   "source": [
    "# True if they think Trump is focused on important issues, False otherwise\n",
    "nat_2020['focused_imp_issues'] = nat_2020['focused_imp_issues'] == 1"
   ]
  },
  {
   "cell_type": "markdown",
   "id": "81ab328b",
   "metadata": {},
   "source": [
    "<h3>Combine Concerns</h3>"
   ]
  },
  {
   "cell_type": "code",
   "execution_count": 22,
   "id": "ebbfa750",
   "metadata": {},
   "outputs": [],
   "source": [
    "# combine some of the similar household concern categories \n",
    "nat_2020['top_household_concern'] = nat_2020['top_household_concern'].apply(lambda s: np.where(s in [6.0, 7.0], 6.0, s))\n",
    "nat_2020['top_household_concern'] = nat_2020['top_household_concern'].apply(lambda s: np.where(s in [10.0, 11.0], 10.0, s))"
   ]
  },
  {
   "cell_type": "markdown",
   "id": "5dd72e02",
   "metadata": {},
   "source": [
    "<h3>Education</h3>"
   ]
  },
  {
   "cell_type": "code",
   "execution_count": 23,
   "id": "c043e3f9",
   "metadata": {},
   "outputs": [],
   "source": [
    "# turn into no high school, some college or vocational, college or others \n",
    "def recode_education(s):\n",
    "    if s <= 3:\n",
    "        return 1\n",
    "    elif s > 4 and s <=6:\n",
    "        return 2\n",
    "    elif s >= 7:\n",
    "        return 3\n",
    "    else:\n",
    "        return 9"
   ]
  },
  {
   "cell_type": "code",
   "execution_count": 24,
   "id": "c226a722",
   "metadata": {},
   "outputs": [],
   "source": [
    "nat_2020['education_recoded'] = nat_2020['education'].apply(recode_education)"
   ]
  },
  {
   "cell_type": "markdown",
   "id": "3b31e705",
   "metadata": {},
   "source": [
    "<h3>Political Leaning</h3>"
   ]
  },
  {
   "cell_type": "code",
   "execution_count": 25,
   "id": "72a2617e",
   "metadata": {},
   "outputs": [],
   "source": [
    "# combine into liberal, conservative, moderate, or other\n",
    "def recode_political_leaning(s):\n",
    "    if s <= 2:\n",
    "        return 1\n",
    "    elif s == 4 or s == 9:\n",
    "        return 2\n",
    "    elif s == 3:\n",
    "        return 3\n",
    "    else:\n",
    "        return 4"
   ]
  },
  {
   "cell_type": "code",
   "execution_count": 26,
   "id": "846904a8",
   "metadata": {},
   "outputs": [],
   "source": [
    "nat_2020['political_leaning'] = nat_2020['political_leaning'].apply(recode_political_leaning)"
   ]
  },
  {
   "cell_type": "markdown",
   "id": "12f40090",
   "metadata": {},
   "source": [
    "<h3>Optimistic</h3>"
   ]
  },
  {
   "cell_type": "code",
   "execution_count": 27,
   "id": "f40bc0cc",
   "metadata": {},
   "outputs": [],
   "source": [
    "# true if optimistic about website, false otherwise\n",
    "nat_2020['optimistic'] = nat_2020['optimistic'] <= 2"
   ]
  },
  {
   "cell_type": "markdown",
   "id": "934ec72c",
   "metadata": {},
   "source": [
    "<h2>Add Dummy Variables</h2>"
   ]
  },
  {
   "cell_type": "code",
   "execution_count": 28,
   "id": "69ed090a",
   "metadata": {},
   "outputs": [],
   "source": [
    "categoricals = ['top_household_concern', 'registered_vote', \n",
    "                'likely_to_vote', 'vote_choice', 'vote_choice_undecided', \n",
    "                'elec_enthusiasm', 'focused_imp_issues', 'focused_imp_issues', \n",
    "                'political_leaning', 'race_recoded', 'party_recoded', 'age_recoded']"
   ]
  },
  {
   "cell_type": "code",
   "execution_count": 29,
   "id": "c3e6cdbf",
   "metadata": {},
   "outputs": [],
   "source": [
    "for category in categoricals:\n",
    "    nat_2020[category] = nat_2020[category].astype('category')\n",
    "\n",
    "\n",
    "dummies = pd.get_dummies(nat_2020[categoricals])"
   ]
  },
  {
   "cell_type": "code",
   "execution_count": 30,
   "id": "bb678cb9",
   "metadata": {},
   "outputs": [],
   "source": [
    "nat_2020 = nat_2020[[c for c in nat_2020.columns if c not in categoricals]]"
   ]
  },
  {
   "cell_type": "code",
   "execution_count": 31,
   "id": "07ed0459",
   "metadata": {},
   "outputs": [],
   "source": [
    "nat_2020 = pd.concat([nat_2020, dummies], axis = 1)"
   ]
  },
  {
   "cell_type": "code",
   "execution_count": 32,
   "id": "b6643c72",
   "metadata": {},
   "outputs": [],
   "source": [
    "# DROP OBSERVATIONS WHERE FALSE\n",
    "nat_2020 = nat_2020[(nat_2020['vote_choice_recoded'] != 3.0) & \n",
    "                    (nat_2020['vote_choice_recoded'] != 7.0) &\n",
    "                    (pd.isnull(nat_2020['vote_choice_recoded']) == False)]\n",
    "\n",
    "\n",
    "\n",
    "\n"
   ]
  },
  {
   "cell_type": "markdown",
   "id": "4819c1f6",
   "metadata": {},
   "source": [
    "<h2>Drop Extra Columns</h2>"
   ]
  },
  {
   "cell_type": "code",
   "execution_count": 33,
   "id": "62248502",
   "metadata": {},
   "outputs": [],
   "source": [
    "to_drop = ['latino', 'age', 'education', 'race', 'age_bin', 'gender']\n",
    "nat_2020 = nat_2020.drop(columns = to_drop)"
   ]
  },
  {
   "cell_type": "code",
   "execution_count": 34,
   "id": "86d4188b",
   "metadata": {},
   "outputs": [],
   "source": [
    "nat_2020.to_csv(\"../data/nat_2020_cleaned.csv\", index = False)"
   ]
  },
  {
   "cell_type": "markdown",
   "id": "eb772f6f",
   "metadata": {},
   "source": [
    "<h2>Train Test Split</h2>"
   ]
  },
  {
   "cell_type": "code",
   "execution_count": 35,
   "id": "4b5b8606",
   "metadata": {},
   "outputs": [],
   "source": [
    "X_train, X_test = train_test_split(nat_2020, test_size = 0.2, random_state = 42)"
   ]
  },
  {
   "cell_type": "code",
   "execution_count": 36,
   "id": "49d4090b",
   "metadata": {},
   "outputs": [],
   "source": [
    "X_train.to_csv('../data/nat_2020_train.csv', index = False)\n",
    "X_test.to_csv('../data/nat_2020_test.csv', index = False)"
   ]
  },
  {
   "cell_type": "code",
   "execution_count": null,
   "id": "8765b40b",
   "metadata": {},
   "outputs": [],
   "source": []
  }
 ],
 "metadata": {
  "kernelspec": {
   "display_name": "Python 3 (ipykernel)",
   "language": "python",
   "name": "python3"
  },
  "language_info": {
   "codemirror_mode": {
    "name": "ipython",
    "version": 3
   },
   "file_extension": ".py",
   "mimetype": "text/x-python",
   "name": "python",
   "nbconvert_exporter": "python",
   "pygments_lexer": "ipython3",
   "version": "3.11.5"
  }
 },
 "nbformat": 4,
 "nbformat_minor": 5
}
