{
 "cells": [
  {
   "cell_type": "markdown",
   "id": "5599cc5a",
   "metadata": {},
   "source": [
    "<h1>Process Poll Data</h1>\n",
    "\n",
    "Process info from Monmouth University 2020 national poll"
   ]
  },
  {
   "cell_type": "code",
   "execution_count": 22,
   "id": "d578c7ee",
   "metadata": {},
   "outputs": [],
   "source": [
    "import os \n",
    "import numpy as np\n",
    "import pandas as pd \n",
    "\n",
    "from sklearn.model_selection import train_test_split"
   ]
  },
  {
   "cell_type": "markdown",
   "id": "3f2abcfd",
   "metadata": {},
   "source": [
    "<h2>Rename Columns</h2>"
   ]
  },
  {
   "cell_type": "code",
   "execution_count": 2,
   "id": "e434c511",
   "metadata": {},
   "outputs": [],
   "source": [
    "nat_2020 = pd.read_csv(\"../data/national_march_2020/MUP213_NATL_archive.tab\", sep = \"\\t\")"
   ]
  },
  {
   "cell_type": "code",
   "execution_count": 3,
   "id": "6a7e83c7",
   "metadata": {},
   "outputs": [],
   "source": [
    "nat_2020 = nat_2020.rename(columns = {\n",
    "        'Q3': 'top_household_concern',\n",
    "        'QD1': 'registered_vote',\n",
    "        'Q11': 'likely_to_vote', \n",
    "        'Q12': 'vote_choice', \n",
    "        'Q12B': 'vote_choice_undecided', \n",
    "        'Q13': 'approve_trump',\n",
    "        'Q14': 'approve_biden',\n",
    "        'Q16': 'elec_enthusiasm',\n",
    "        'Q19': 'focused_imp_issues',\n",
    "        'QD2': 'party',\n",
    "        'QD2A': 'party_unaffiliated', \n",
    "        'QD3': 'political_leaning', \n",
    "        'QD5': 'age', \n",
    "        'QD5A': 'age_bin', \n",
    "        'QD7': 'latino', \n",
    "        'QD8': 'race', \n",
    "        'QD10': 'gender'\n",
    "})"
   ]
  },
  {
   "cell_type": "code",
   "execution_count": 4,
   "id": "0b15a08c",
   "metadata": {},
   "outputs": [],
   "source": [
    "nat_2020 = nat_2020.drop(columns = [c for c in nat_2020.columns if 'Q' in c])"
   ]
  },
  {
   "cell_type": "markdown",
   "id": "0aaf7645",
   "metadata": {},
   "source": [
    "<h2>Recode Variables</h2>\n",
    "\n",
    "<h3>Vote Choice</h3>"
   ]
  },
  {
   "cell_type": "code",
   "execution_count": 5,
   "id": "7c394a55",
   "metadata": {},
   "outputs": [],
   "source": [
    "nat_2020['vote_choice_recoded'] = nat_2020.apply(lambda s: np.where(s['vote_choice'] in [6.0, 8.0, 9.0], s['vote_choice_undecided'], s['vote_choice']), axis = 1)\n",
    "nat_2020['vote_choice_recoded'] = nat_2020['vote_choice_recoded'].apply(lambda s: np.where(s in [3.0, 9.0], 3.0, s))"
   ]
  },
  {
   "cell_type": "markdown",
   "id": "e1765f1b",
   "metadata": {},
   "source": [
    "<h3>Party Leaning</h3>"
   ]
  },
  {
   "cell_type": "code",
   "execution_count": 6,
   "id": "5f512311",
   "metadata": {},
   "outputs": [],
   "source": [
    "nat_2020['party_recoded'] = nat_2020.apply(lambda s: np.where(s['party'] in [4.0, 9.0], s['party_unaffiliated'], s['party']), axis = 1)\n",
    "nat_2020['party_recoded'] = nat_2020['party_recoded'].apply(lambda s: np.where(s in [3.0, 9.0], 3.0, s))"
   ]
  },
  {
   "cell_type": "markdown",
   "id": "615bb87d",
   "metadata": {},
   "source": [
    "<h3>Age</h3>\n",
    "\n",
    "Convert so they're all in bins"
   ]
  },
  {
   "cell_type": "code",
   "execution_count": 7,
   "id": "3a52d1ea",
   "metadata": {},
   "outputs": [],
   "source": [
    "nat_2020['age_recoded'] = nat_2020.apply(lambda s: np.where(not pd.isnull(s['age_bin']), s['age_bin'], s['age']), axis = 1)\n",
    "\n",
    "nat_2020['age_recoded'] = nat_2020['age_recoded'].apply(lambda s: np.where(s >= 18 and s <= 34 and not pd.isnull(s), 1.0, \n",
    "                                                        np.where(s >= 35 and s <= 54, 2.0, 3.0)))"
   ]
  },
  {
   "cell_type": "markdown",
   "id": "3836f219",
   "metadata": {},
   "source": [
    "<h3>Approval Ratings</h3>"
   ]
  },
  {
   "cell_type": "code",
   "execution_count": 8,
   "id": "c1f9a30b",
   "metadata": {},
   "outputs": [],
   "source": [
    "nat_2020['approve_trump'] = nat_2020['approve_trump'] == 1\n",
    "nat_2020['approve_biden'] = nat_2020['approve_biden'] == 1"
   ]
  },
  {
   "cell_type": "code",
   "execution_count": 9,
   "id": "3bebfbf5",
   "metadata": {},
   "outputs": [
    {
     "data": {
      "text/plain": [
       "0      False\n",
       "1      False\n",
       "2      False\n",
       "3       True\n",
       "4       True\n",
       "       ...  \n",
       "846    False\n",
       "847    False\n",
       "848     True\n",
       "849     True\n",
       "850    False\n",
       "Name: approve_biden, Length: 851, dtype: bool"
      ]
     },
     "execution_count": 9,
     "metadata": {},
     "output_type": "execute_result"
    }
   ],
   "source": [
    "nat_2020['approve_biden']"
   ]
  },
  {
   "cell_type": "markdown",
   "id": "a9cedc1d",
   "metadata": {},
   "source": [
    "<h3>Race</h3>\n",
    "\n",
    "Overwrite if hispanic/latino"
   ]
  },
  {
   "cell_type": "code",
   "execution_count": 10,
   "id": "79fc03e5",
   "metadata": {},
   "outputs": [],
   "source": [
    "nat_2020['latino'] = nat_2020['latino'] == 1"
   ]
  },
  {
   "cell_type": "code",
   "execution_count": 11,
   "id": "7b18965c",
   "metadata": {},
   "outputs": [],
   "source": [
    "def recode_race(s):\n",
    "    if s['latino'] == 1 or s['race'] == 4: \n",
    "        return 4\n",
    "    elif s['race'] != 5 and s['race'] != 9:\n",
    "        return s['race']\n",
    "    else:\n",
    "        return 9"
   ]
  },
  {
   "cell_type": "code",
   "execution_count": 12,
   "id": "f07cfa7c",
   "metadata": {},
   "outputs": [],
   "source": [
    "nat_2020['race_recoded'] = nat_2020.apply(recode_race, axis = 1)"
   ]
  },
  {
   "cell_type": "markdown",
   "id": "9571dfd4",
   "metadata": {},
   "source": [
    "<h3>Gender</h3>"
   ]
  },
  {
   "cell_type": "code",
   "execution_count": 13,
   "id": "ce9bf84e",
   "metadata": {},
   "outputs": [],
   "source": [
    "nat_2020['male'] = nat_2020['gender'] == 1"
   ]
  },
  {
   "cell_type": "markdown",
   "id": "934ec72c",
   "metadata": {},
   "source": [
    "<h2>Add Dummy Variables</h2>"
   ]
  },
  {
   "cell_type": "code",
   "execution_count": 15,
   "id": "69ed090a",
   "metadata": {},
   "outputs": [],
   "source": [
    "categoricals = ['approve_trump', 'top_household_concern', 'registered_vote',\n",
    "                'likely_to_vote', 'vote_choice', 'vote_choice_undecided', 'approve_biden', \n",
    "                'elec_enthusiasm', 'focused_imp_issues', 'focused_imp_issues', \n",
    "                'political_leaning', 'race_recoded', 'party_recoded', 'age_recoded']"
   ]
  },
  {
   "cell_type": "code",
   "execution_count": 16,
   "id": "c3e6cdbf",
   "metadata": {},
   "outputs": [],
   "source": [
    "for category in categoricals:\n",
    "    nat_2020[category] = nat_2020[category].astype('category')\n",
    "\n",
    "\n",
    "dummies = pd.get_dummies(nat_2020[categoricals])"
   ]
  },
  {
   "cell_type": "code",
   "execution_count": 17,
   "id": "bb678cb9",
   "metadata": {},
   "outputs": [],
   "source": [
    "nat_2020 = nat_2020[[c for c in nat_2020.columns if c not in categoricals]]"
   ]
  },
  {
   "cell_type": "code",
   "execution_count": 18,
   "id": "07ed0459",
   "metadata": {},
   "outputs": [],
   "source": [
    "nat_2020 = pd.concat([nat_2020, dummies], axis = 1)"
   ]
  },
  {
   "cell_type": "code",
   "execution_count": 19,
   "id": "b6643c72",
   "metadata": {},
   "outputs": [],
   "source": [
    "nat_2020 = nat_2020[(nat_2020['vote_choice_recoded'] != 3.0) | \n",
    "                    (nat_2020['vote_choice_recoded'] != 7.0) |\n",
    "                    (pd.isnull(nat_2020['vote_choice_recoded']) == False)]\n",
    "\n",
    "\n",
    "\n",
    "\n"
   ]
  },
  {
   "cell_type": "markdown",
   "id": "eb772f6f",
   "metadata": {},
   "source": [
    "<h2>Train Test Split</h2>"
   ]
  },
  {
   "cell_type": "code",
   "execution_count": 33,
   "id": "4b5b8606",
   "metadata": {},
   "outputs": [],
   "source": [
    "X_train, X_test = train_test_split(nat_2020, test_size = 0.2, random_state = 42)"
   ]
  },
  {
   "cell_type": "code",
   "execution_count": 41,
   "id": "49d4090b",
   "metadata": {},
   "outputs": [],
   "source": [
    "X_train.to_csv('../data/nat_2020_train.csv', index = False)\n",
    "X_test.to_csv('../data/nat_2020_test.csv', index = False)"
   ]
  },
  {
   "cell_type": "code",
   "execution_count": 42,
   "id": "df8ea0bb",
   "metadata": {},
   "outputs": [
    {
     "data": {
      "text/plain": [
       "Index(['RESPID', 'PHTYPE', 'party', 'party_unaffiliated', 'age', 'age_bin',\n",
       "       'latino', 'race', 'gender', 'FINALWGT', 'vote_choice_recoded', 'male',\n",
       "       'approve_trump_False', 'approve_trump_True', 'top_household_concern_1',\n",
       "       'top_household_concern_2', 'top_household_concern_3',\n",
       "       'top_household_concern_4', 'top_household_concern_5',\n",
       "       'top_household_concern_6', 'top_household_concern_7',\n",
       "       'top_household_concern_8', 'top_household_concern_9',\n",
       "       'top_household_concern_10', 'top_household_concern_11',\n",
       "       'top_household_concern_12', 'top_household_concern_13',\n",
       "       'top_household_concern_14', 'top_household_concern_15',\n",
       "       'top_household_concern_16', 'top_household_concern_17',\n",
       "       'top_household_concern_18', 'top_household_concern_19',\n",
       "       'top_household_concern_20', 'top_household_concern_28',\n",
       "       'top_household_concern_29', 'top_household_concern_30',\n",
       "       'registered_vote_1', 'registered_vote_2', 'registered_vote_9',\n",
       "       'likely_to_vote_1.0', 'likely_to_vote_2.0', 'likely_to_vote_3.0',\n",
       "       'likely_to_vote_4.0', 'likely_to_vote_5.0', 'vote_choice_1.0',\n",
       "       'vote_choice_2.0', 'vote_choice_6.0', 'vote_choice_7.0',\n",
       "       'vote_choice_8.0', 'vote_choice_9.0', 'vote_choice_undecided_1.0',\n",
       "       'vote_choice_undecided_2.0', 'vote_choice_undecided_3.0',\n",
       "       'vote_choice_undecided_9.0', 'approve_biden_False',\n",
       "       'approve_biden_True', 'elec_enthusiasm_1', 'elec_enthusiasm_2',\n",
       "       'elec_enthusiasm_3', 'elec_enthusiasm_9', 'focused_imp_issues_1',\n",
       "       'focused_imp_issues_2', 'focused_imp_issues_9', 'focused_imp_issues_1',\n",
       "       'focused_imp_issues_2', 'focused_imp_issues_9', 'political_leaning_1',\n",
       "       'political_leaning_2', 'political_leaning_3', 'political_leaning_4',\n",
       "       'political_leaning_5', 'political_leaning_9', 'race_recoded_1',\n",
       "       'race_recoded_2', 'race_recoded_3', 'race_recoded_4', 'race_recoded_9',\n",
       "       'party_recoded_1.0', 'party_recoded_2.0', 'party_recoded_3.0',\n",
       "       'age_recoded_1.0', 'age_recoded_2.0', 'age_recoded_3.0'],\n",
       "      dtype='object')"
      ]
     },
     "execution_count": 42,
     "metadata": {},
     "output_type": "execute_result"
    }
   ],
   "source": [
    "X_train.columns"
   ]
  },
  {
   "cell_type": "code",
   "execution_count": null,
   "id": "c9bb8c01",
   "metadata": {},
   "outputs": [],
   "source": []
  }
 ],
 "metadata": {
  "kernelspec": {
   "display_name": "Python 3 (ipykernel)",
   "language": "python",
   "name": "python3"
  },
  "language_info": {
   "codemirror_mode": {
    "name": "ipython",
    "version": 3
   },
   "file_extension": ".py",
   "mimetype": "text/x-python",
   "name": "python",
   "nbconvert_exporter": "python",
   "pygments_lexer": "ipython3",
   "version": "3.11.5"
  }
 },
 "nbformat": 4,
 "nbformat_minor": 5
}
