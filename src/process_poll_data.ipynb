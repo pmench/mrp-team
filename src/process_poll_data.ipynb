{
 "cells": [
  {
   "cell_type": "markdown",
   "id": "5599cc5a",
   "metadata": {},
   "source": [
    "<h1>Process Poll Data</h1>\n",
    "\n",
    "Process info from Monmouth University 2020 national poll"
   ]
  },
  {
   "cell_type": "code",
   "execution_count": 1,
   "id": "d578c7ee",
   "metadata": {},
   "outputs": [],
   "source": [
    "import os \n",
    "import numpy as np\n",
    "import pandas as pd \n",
    "\n",
    "from sklearn.model_selection import train_test_split"
   ]
  },
  {
   "cell_type": "markdown",
   "id": "3f2abcfd",
   "metadata": {},
   "source": [
    "<h2>Rename Columns</h2>"
   ]
  },
  {
   "cell_type": "code",
   "execution_count": 2,
   "id": "e434c511",
   "metadata": {},
   "outputs": [],
   "source": [
    "nat_2020 = pd.read_csv(\"../data/national_march_2020/MUP213_NATL_archive.tab\", sep = \"\\t\")"
   ]
  },
  {
   "cell_type": "code",
   "execution_count": 3,
   "id": "6a7e83c7",
   "metadata": {},
   "outputs": [],
   "source": [
    "nat_2020 = nat_2020.rename(columns = {\n",
    "        'Q3': 'top_household_concern',\n",
    "        'QD1': 'registered_vote',\n",
    "        'Q11': 'likely_to_vote', \n",
    "        'Q12': 'vote_choice', \n",
    "        'Q12B': 'vote_choice_undecided', \n",
    "        'Q13': 'approve_trump',\n",
    "        'Q14': 'approve_biden',\n",
    "        'Q15': 'optimistic',\n",
    "        'Q16': 'elec_enthusiasm',\n",
    "        'Q17': 'economic_situation',\n",
    "        'Q19': 'focused_imp_issues',\n",
    "        'QD2': 'party',\n",
    "        'QD2A': 'party_unaffiliated', \n",
    "        'QD3': 'political_leaning', \n",
    "        'QD4': 'education',\n",
    "        'QD5': 'age', \n",
    "        'QD5A': 'age_bin', \n",
    "        'QD7': 'latino', \n",
    "        'QD8': 'race', \n",
    "        'QD10': 'gender', \n",
    "        'QD11': 'state'\n",
    "})"
   ]
  },
  {
   "cell_type": "code",
   "execution_count": 4,
   "id": "0b15a08c",
   "metadata": {},
   "outputs": [],
   "source": [
    "nat_2020 = nat_2020.drop(columns = [c for c in nat_2020.columns if 'Q' in c])"
   ]
  },
  {
   "cell_type": "markdown",
   "id": "0aaf7645",
   "metadata": {},
   "source": [
    "<h2>Recode Variables</h2>\n",
    "\n",
    "<h3>Vote Choice</h3>"
   ]
  },
  {
   "cell_type": "code",
   "execution_count": 5,
   "id": "7c394a55",
   "metadata": {},
   "outputs": [],
   "source": [
    "# if they didn't initially answer their vote choice fill in with the probe question\n",
    "# combine other categories\n",
    "nat_2020['vote_choice_recoded'] = nat_2020.apply(lambda s: np.where(s['vote_choice'] in [6.0, 7.0, 8.0, 9.0], s['vote_choice_undecided'], s['vote_choice']), axis = 1)\n",
    "nat_2020['vote_choice_recoded'] = nat_2020['vote_choice_recoded'].apply(lambda s: np.where(s in [3.0, 9.0], 3.0, s))"
   ]
  },
  {
   "cell_type": "markdown",
   "id": "e1765f1b",
   "metadata": {},
   "source": [
    "<h3>Party Leaning</h3>"
   ]
  },
  {
   "cell_type": "code",
   "execution_count": 6,
   "id": "5f512311",
   "metadata": {},
   "outputs": [],
   "source": [
    "# if they didn't answer their party leaning, fill in with probe question \n",
    "# combine other categories\n",
    "nat_2020['party_recoded'] = nat_2020.apply(lambda s: np.where(s['party'] in [4.0, 9.0], s['party_unaffiliated'], s['party']), axis = 1)\n",
    "nat_2020['party_recoded'] = nat_2020['party_recoded'].apply(lambda s: np.where(s in [3.0, 9.0], 3.0, s))"
   ]
  },
  {
   "cell_type": "markdown",
   "id": "615bb87d",
   "metadata": {},
   "source": [
    "<h3>Age</h3>\n",
    "\n",
    "Convert so they're all in bins"
   ]
  },
  {
   "cell_type": "code",
   "execution_count": 7,
   "id": "3a52d1ea",
   "metadata": {},
   "outputs": [],
   "source": [
    "nat_2020['age_recoded'] = nat_2020.apply(lambda s: np.where(not pd.isnull(s['age_bin']), s['age_bin'], s['age']), axis = 1)\n",
    "\n",
    "nat_2020['age_recoded'] = nat_2020['age_recoded'].apply(lambda s: np.where(s >= 18 and s <= 34 and not pd.isnull(s), 1.0, \n",
    "                                                        np.where(s >= 35 and s <= 54, 2.0, 3.0)))"
   ]
  },
  {
   "cell_type": "markdown",
   "id": "3836f219",
   "metadata": {},
   "source": [
    "<h3>Approval Ratings</h3>"
   ]
  },
  {
   "cell_type": "code",
   "execution_count": 8,
   "id": "c1f9a30b",
   "metadata": {},
   "outputs": [],
   "source": [
    "# True if they approve of Trump, False otherwise\n",
    "nat_2020['approve_trump'] = nat_2020['approve_trump'] == 1\n",
    "# True if they approve of Biden, False otherwise\n",
    "nat_2020['approve_biden'] = nat_2020['approve_biden'] == 1"
   ]
  },
  {
   "cell_type": "markdown",
   "id": "a9cedc1d",
   "metadata": {},
   "source": [
    "<h3>Race</h3>\n",
    "\n",
    "Overwrite if hispanic/latino"
   ]
  },
  {
   "cell_type": "code",
   "execution_count": 9,
   "id": "79fc03e5",
   "metadata": {},
   "outputs": [],
   "source": [
    "nat_2020['latino'] = nat_2020['latino'] == 1"
   ]
  },
  {
   "cell_type": "code",
   "execution_count": 10,
   "id": "7b18965c",
   "metadata": {},
   "outputs": [],
   "source": [
    "def recode_race(s):\n",
    "    if s['latino'] == 1 or s['race'] == 4: \n",
    "        return 4\n",
    "    elif s['race'] != 5 and s['race'] != 9:\n",
    "        return s['race']\n",
    "    else:\n",
    "        return 9"
   ]
  },
  {
   "cell_type": "code",
   "execution_count": 11,
   "id": "f07cfa7c",
   "metadata": {},
   "outputs": [],
   "source": [
    "# combine latino categories and other categories \n",
    "nat_2020['race_recoded'] = nat_2020.apply(recode_race, axis = 1)"
   ]
  },
  {
   "cell_type": "code",
   "execution_count": 12,
   "id": "30a9b9fd",
   "metadata": {},
   "outputs": [
    {
     "data": {
      "text/html": [
       "<div>\n",
       "<style scoped>\n",
       "    .dataframe tbody tr th:only-of-type {\n",
       "        vertical-align: middle;\n",
       "    }\n",
       "\n",
       "    .dataframe tbody tr th {\n",
       "        vertical-align: top;\n",
       "    }\n",
       "\n",
       "    .dataframe thead th {\n",
       "        text-align: right;\n",
       "    }\n",
       "</style>\n",
       "<table border=\"1\" class=\"dataframe\">\n",
       "  <thead>\n",
       "    <tr style=\"text-align: right;\">\n",
       "      <th></th>\n",
       "      <th>race</th>\n",
       "      <th>latino</th>\n",
       "      <th>race_recoded</th>\n",
       "    </tr>\n",
       "  </thead>\n",
       "  <tbody>\n",
       "    <tr>\n",
       "      <th>0</th>\n",
       "      <td>1</td>\n",
       "      <td>False</td>\n",
       "      <td>1</td>\n",
       "    </tr>\n",
       "    <tr>\n",
       "      <th>1</th>\n",
       "      <td>1</td>\n",
       "      <td>False</td>\n",
       "      <td>1</td>\n",
       "    </tr>\n",
       "    <tr>\n",
       "      <th>2</th>\n",
       "      <td>1</td>\n",
       "      <td>False</td>\n",
       "      <td>1</td>\n",
       "    </tr>\n",
       "    <tr>\n",
       "      <th>3</th>\n",
       "      <td>1</td>\n",
       "      <td>False</td>\n",
       "      <td>1</td>\n",
       "    </tr>\n",
       "    <tr>\n",
       "      <th>4</th>\n",
       "      <td>5</td>\n",
       "      <td>False</td>\n",
       "      <td>9</td>\n",
       "    </tr>\n",
       "    <tr>\n",
       "      <th>...</th>\n",
       "      <td>...</td>\n",
       "      <td>...</td>\n",
       "      <td>...</td>\n",
       "    </tr>\n",
       "    <tr>\n",
       "      <th>846</th>\n",
       "      <td>1</td>\n",
       "      <td>False</td>\n",
       "      <td>1</td>\n",
       "    </tr>\n",
       "    <tr>\n",
       "      <th>847</th>\n",
       "      <td>1</td>\n",
       "      <td>False</td>\n",
       "      <td>1</td>\n",
       "    </tr>\n",
       "    <tr>\n",
       "      <th>848</th>\n",
       "      <td>1</td>\n",
       "      <td>False</td>\n",
       "      <td>1</td>\n",
       "    </tr>\n",
       "    <tr>\n",
       "      <th>849</th>\n",
       "      <td>2</td>\n",
       "      <td>False</td>\n",
       "      <td>2</td>\n",
       "    </tr>\n",
       "    <tr>\n",
       "      <th>850</th>\n",
       "      <td>1</td>\n",
       "      <td>True</td>\n",
       "      <td>4</td>\n",
       "    </tr>\n",
       "  </tbody>\n",
       "</table>\n",
       "<p>851 rows × 3 columns</p>\n",
       "</div>"
      ],
      "text/plain": [
       "     race  latino  race_recoded\n",
       "0       1   False             1\n",
       "1       1   False             1\n",
       "2       1   False             1\n",
       "3       1   False             1\n",
       "4       5   False             9\n",
       "..    ...     ...           ...\n",
       "846     1   False             1\n",
       "847     1   False             1\n",
       "848     1   False             1\n",
       "849     2   False             2\n",
       "850     1    True             4\n",
       "\n",
       "[851 rows x 3 columns]"
      ]
     },
     "execution_count": 12,
     "metadata": {},
     "output_type": "execute_result"
    }
   ],
   "source": [
    "nat_2020[['race', 'latino', 'race_recoded']]"
   ]
  },
  {
   "cell_type": "code",
   "execution_count": 13,
   "id": "ceaeeba9",
   "metadata": {},
   "outputs": [
    {
     "data": {
      "text/plain": [
       "race_recoded\n",
       "1    610\n",
       "2     93\n",
       "4     83\n",
       "9     35\n",
       "3     30\n",
       "Name: count, dtype: int64"
      ]
     },
     "execution_count": 13,
     "metadata": {},
     "output_type": "execute_result"
    }
   ],
   "source": [
    "nat_2020['race_recoded'].value_counts()"
   ]
  },
  {
   "cell_type": "markdown",
   "id": "9571dfd4",
   "metadata": {},
   "source": [
    "<h3>Gender</h3>"
   ]
  },
  {
   "cell_type": "code",
   "execution_count": 14,
   "id": "ce9bf84e",
   "metadata": {},
   "outputs": [],
   "source": [
    "# True if they're a man, false otherwise\n",
    "nat_2020['male'] = nat_2020['gender'] == 1"
   ]
  },
  {
   "cell_type": "markdown",
   "id": "a31d2005",
   "metadata": {},
   "source": [
    "<h3>Registered to Vote</h3>"
   ]
  },
  {
   "cell_type": "code",
   "execution_count": 15,
   "id": "ca52bad0",
   "metadata": {},
   "outputs": [],
   "source": [
    "# True if they're registered to vote, false otherwise\n",
    "nat_2020['registered_vote'] = nat_2020['registered_vote'] == 1"
   ]
  },
  {
   "cell_type": "markdown",
   "id": "c517e0db",
   "metadata": {},
   "source": [
    "<h3>Focused on Important Issues</h3>"
   ]
  },
  {
   "cell_type": "code",
   "execution_count": 16,
   "id": "635d005c",
   "metadata": {},
   "outputs": [],
   "source": [
    "# True if they think Trump is focused on important issues, False otherwise\n",
    "nat_2020['focused_imp_issues'] = nat_2020['focused_imp_issues'] == 1"
   ]
  },
  {
   "cell_type": "markdown",
   "id": "ef4ab8ef",
   "metadata": {},
   "source": [
    "<h3>Combine Concerns</h3>"
   ]
  },
  {
   "cell_type": "code",
   "execution_count": 17,
   "id": "29ed55dd",
   "metadata": {},
   "outputs": [],
   "source": [
    "# combine some of the similar household concern categories \n",
    "nat_2020['top_household_concern'] = nat_2020['top_household_concern'].apply(lambda s: np.where(s in [6.0, 7.0], 6.0, s))\n",
    "nat_2020['top_household_concern'] = nat_2020['top_household_concern'].apply(lambda s: np.where(s in [10.0, 11.0], 10.0, s))"
   ]
  },
  {
   "cell_type": "markdown",
   "id": "ce7bda58",
   "metadata": {},
   "source": [
    "<h3>Education</h3>"
   ]
  },
  {
   "cell_type": "code",
   "execution_count": 18,
   "id": "262197db",
   "metadata": {},
   "outputs": [],
   "source": [
    "# turn into no high school, some college or vocational, college or others \n",
    "def recode_education(s):\n",
    "    if s <= 3:\n",
    "        return 1\n",
    "    elif s >= 4 and s < 9:\n",
    "        return 2\n",
    "    else:\n",
    "        return 3"
   ]
  },
  {
   "cell_type": "code",
   "execution_count": 19,
   "id": "0b69de57",
   "metadata": {},
   "outputs": [],
   "source": [
    "nat_2020['education_recoded'] = nat_2020['education'].apply(recode_education)"
   ]
  },
  {
   "cell_type": "markdown",
   "id": "f6c6e7cb",
   "metadata": {},
   "source": [
    "<h3>Political Leaning</h3>"
   ]
  },
  {
   "cell_type": "code",
   "execution_count": 20,
   "id": "b8eb0aef",
   "metadata": {},
   "outputs": [],
   "source": [
    "# combine into liberal, conservative, moderate, or other\n",
    "def recode_political_leaning(s):\n",
    "    if s <= 2:\n",
    "        return 1\n",
    "    elif s == 4 or s == 9:\n",
    "        return 2\n",
    "    elif s == 3:\n",
    "        return 3\n",
    "    else:\n",
    "        return 4"
   ]
  },
  {
   "cell_type": "code",
   "execution_count": 21,
   "id": "c58d008f",
   "metadata": {},
   "outputs": [],
   "source": [
    "nat_2020['political_leaning'] = nat_2020['political_leaning'].apply(recode_political_leaning)"
   ]
  },
  {
   "cell_type": "markdown",
   "id": "2a61d7fe",
   "metadata": {},
   "source": [
    "<h3>Optimistic</h3>"
   ]
  },
  {
   "cell_type": "code",
   "execution_count": 22,
   "id": "06d26b61",
   "metadata": {},
   "outputs": [],
   "source": [
    "# true if optimistic about website, false otherwise\n",
    "nat_2020['optimistic'] = nat_2020['optimistic'] <= 2"
   ]
  },
  {
   "cell_type": "markdown",
   "id": "26b0b626",
   "metadata": {},
   "source": [
    "<h3>Region</h3>"
   ]
  },
  {
   "cell_type": "code",
   "execution_count": 23,
   "id": "8defad2f",
   "metadata": {},
   "outputs": [],
   "source": [
    "### https://www2.census.gov/geo/pdfs/maps-data/maps/reference/us_regdiv.pdf\n",
    "def recode_region(s):\n",
    "    new_england = [9.0, 23.0, 25.0, 33.0, 44.0, 50.0, 34.0, 36.0, 42.0]\n",
    "    midwest = [18.0, 17.0, 26.0, 39.0, 55.0, 19.0, 20.0, 27.0, 29.0, 31.0, 38.0, 46.0]\n",
    "    south = [10.0, 11.0, 12.0, 13.0, 24.0, 37.0, 45.0, 51.0, 54.0, 1.0, 21.0, 28.0, 47.0, 5.0, 22.0, 40.0, 48.0]\n",
    "    west = [4.0, 8.0, 16.0, 35.0, 30.0, 49.0, 32.0, 56.0, 2.0, 6.0, 15.0, 41.0, 53.0]\n",
    "    \n",
    "    if s in new_england:\n",
    "        return 1\n",
    "    elif s in midwest:\n",
    "        return 2 \n",
    "    elif s in south:\n",
    "        return 3\n",
    "    elif s in west:\n",
    "        return 4\n",
    "    \n",
    "    "
   ]
  },
  {
   "cell_type": "code",
   "execution_count": 24,
   "id": "07731d08",
   "metadata": {},
   "outputs": [],
   "source": [
    "nat_2020['region'] = nat_2020['state'].apply(recode_region)"
   ]
  },
  {
   "cell_type": "code",
   "execution_count": 25,
   "id": "9ec84c32",
   "metadata": {},
   "outputs": [],
   "source": [
    "nat_2020.to_csv(\"../data/nat_2020_cleaned_no_dummies.csv\", index = False)"
   ]
  },
  {
   "cell_type": "markdown",
   "id": "934ec72c",
   "metadata": {},
   "source": [
    "<h2>Add Dummy Variables</h2>"
   ]
  },
  {
   "cell_type": "code",
   "execution_count": 26,
   "id": "69ed090a",
   "metadata": {},
   "outputs": [],
   "source": [
    "categoricals = ['top_household_concern', 'registered_vote', 'region', 'economic_situation',\n",
    "                'likely_to_vote', 'education_recoded', 'elec_enthusiasm', 'political_leaning', \n",
    "                'race_recoded', 'party_recoded', 'age_recoded']"
   ]
  },
  {
   "cell_type": "code",
   "execution_count": 27,
   "id": "c3e6cdbf",
   "metadata": {},
   "outputs": [],
   "source": [
    "for category in categoricals:\n",
    "    nat_2020[category] = nat_2020[category].astype('category')\n",
    "\n",
    "\n",
    "dummies = pd.get_dummies(nat_2020[categoricals], drop_first = True)"
   ]
  },
  {
   "cell_type": "code",
   "execution_count": 28,
   "id": "bb678cb9",
   "metadata": {},
   "outputs": [],
   "source": [
    "nat_2020 = nat_2020[[c for c in nat_2020.columns if c not in categoricals]]"
   ]
  },
  {
   "cell_type": "code",
   "execution_count": 29,
   "id": "07ed0459",
   "metadata": {},
   "outputs": [],
   "source": [
    "nat_2020 = pd.concat([nat_2020, dummies], axis = 1)"
   ]
  },
  {
   "cell_type": "code",
   "execution_count": 30,
   "id": "b6643c72",
   "metadata": {},
   "outputs": [],
   "source": [
    "# DROP OBSERVATIONS WHERE FALSE\n",
    "nat_2020 = nat_2020[(nat_2020['vote_choice_recoded'] != 3.0) |\n",
    "                    (nat_2020['vote_choice_recoded'] != 7.0) |\n",
    "                    (pd.isnull(nat_2020['vote_choice_recoded']) == False)]\n",
    "\n",
    "\n",
    "\n",
    "\n"
   ]
  },
  {
   "cell_type": "markdown",
   "id": "7f3d284c",
   "metadata": {},
   "source": [
    "<h2>Drop Extra Columns</h2>"
   ]
  },
  {
   "cell_type": "code",
   "execution_count": 31,
   "id": "135f8dcf",
   "metadata": {},
   "outputs": [],
   "source": [
    "to_drop = ['latino', 'age', 'education', 'race', 'age_bin', 'gender', 'vote_choice', 'vote_choice_undecided']\n",
    "nat_2020 = nat_2020.drop(columns = to_drop)"
   ]
  },
  {
   "cell_type": "code",
   "execution_count": 32,
   "id": "c19d06f3",
   "metadata": {},
   "outputs": [],
   "source": [
    "nat_2020.to_csv(\"../data/nat_2020_cleaned.csv\", index = False)"
   ]
  },
  {
   "cell_type": "markdown",
   "id": "eb772f6f",
   "metadata": {},
   "source": [
    "<h2>Train Test Split</h2>"
   ]
  },
  {
   "cell_type": "code",
   "execution_count": 33,
   "id": "4b5b8606",
   "metadata": {},
   "outputs": [],
   "source": [
    "X_train, X_test = train_test_split(nat_2020, test_size = 0.2, random_state = 42)"
   ]
  },
  {
   "cell_type": "code",
   "execution_count": 34,
   "id": "49d4090b",
   "metadata": {},
   "outputs": [],
   "source": [
    "X_train.to_csv('../data/nat_2020_train.csv', index = False)\n",
    "X_test.to_csv('../data/nat_2020_test.csv', index = False)"
   ]
  },
  {
   "cell_type": "code",
   "execution_count": null,
   "id": "01a002d7",
   "metadata": {},
   "outputs": [],
   "source": []
  }
 ],
 "metadata": {
  "kernelspec": {
   "display_name": "Python 3 (ipykernel)",
   "language": "python",
   "name": "python3"
  },
  "language_info": {
   "codemirror_mode": {
    "name": "ipython",
    "version": 3
   },
   "file_extension": ".py",
   "mimetype": "text/x-python",
   "name": "python",
   "nbconvert_exporter": "python",
   "pygments_lexer": "ipython3",
   "version": "3.11.5"
  }
 },
 "nbformat": 4,
 "nbformat_minor": 5
}
