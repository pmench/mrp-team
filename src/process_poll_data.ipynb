{
 "cells": [
  {
   "cell_type": "markdown",
   "id": "f5f51e3b",
   "metadata": {},
   "source": [
    "<h1>Process Poll Data</h1>\n",
    "\n",
    "Process info from Monmouth University 2020 national poll"
   ]
  },
  {
   "cell_type": "code",
   "execution_count": 1,
   "id": "d578c7ee",
   "metadata": {},
   "outputs": [],
   "source": [
    "import os \n",
    "import numpy as np\n",
    "import pandas as pd "
   ]
  },
  {
   "cell_type": "markdown",
   "id": "47aef9d1",
   "metadata": {},
   "source": [
    "<h2>Rename Columns</h2>"
   ]
  },
  {
   "cell_type": "code",
   "execution_count": 2,
   "id": "e434c511",
   "metadata": {},
   "outputs": [],
   "source": [
    "nat_2020 = pd.read_csv(\"../data/national_march_2020/MUP213_NATL_archive.tab\", sep = \"\\t\")"
   ]
  },
  {
   "cell_type": "code",
   "execution_count": 3,
   "id": "6a7e83c7",
   "metadata": {},
   "outputs": [],
   "source": [
    "nat_2020 = nat_2020.rename(columns = {\n",
    "        'Q2': 'approve_trump',\n",
    "        'Q3': 'top_household_concern',\n",
    "        'QD1': 'registered_vote',\n",
    "        'Q11': 'likely_to_vote', \n",
    "        'Q12': 'vote_choice', \n",
    "        'Q12B': 'vote_choice_undecided', \n",
    "        'Q14': 'approve_biden',\n",
    "        'Q16': 'elec_enthusiasm',\n",
    "        'Q19': 'focused_imp_issues',\n",
    "        'QD2': 'party',\n",
    "        'QD2A': 'party_unaffiliated', \n",
    "        'QD3': 'political_leaning', \n",
    "        'QD5': 'age', \n",
    "        'QD5A': 'age_bin', \n",
    "        'QD7': 'latino', \n",
    "        'QD8': 'race', \n",
    "        'QD10': 'gender'\n",
    "})"
   ]
  },
  {
   "cell_type": "code",
   "execution_count": 4,
   "id": "0b15a08c",
   "metadata": {},
   "outputs": [],
   "source": [
    "nat_2020 = nat_2020.drop(columns = [c for c in nat_2020.columns if 'Q' in c])"
   ]
  },
  {
   "cell_type": "markdown",
   "id": "0f531109",
   "metadata": {},
   "source": [
    "<h2>Recode Variables</h2>\n",
    "\n",
    "<h3>Vote Choice</h3>"
   ]
  },
  {
   "cell_type": "code",
   "execution_count": 5,
   "id": "4d2431a6",
   "metadata": {},
   "outputs": [],
   "source": [
    "nat_2020['vote_choice_recoded'] = nat_2020.apply(lambda s: np.where(s['vote_choice'] in [6.0, 8.0, 9.0], s['vote_choice_undecided'], s['vote_choice']), axis = 1)\n",
    "nat_2020['vote_choice_recoded'] = nat_2020['vote_choice_recoded'].apply(lambda s: np.where(s in [3.0, 9.0], 3.0, s))"
   ]
  },
  {
   "cell_type": "markdown",
   "id": "4b675edf",
   "metadata": {},
   "source": [
    "<h3>Party Leaning</h3>"
   ]
  },
  {
   "cell_type": "code",
   "execution_count": 6,
   "id": "d9c5244b",
   "metadata": {},
   "outputs": [],
   "source": [
    "nat_2020['party_recoded'] = nat_2020.apply(lambda s: np.where(s['party'] in [4.0, 9.0], s['party_unaffiliated'], s['party']), axis = 1)\n",
    "nat_2020['party_recoded'] = nat_2020['party_recoded'].apply(lambda s: np.where(s in [3.0, 9.0], 3.0, s))"
   ]
  },
  {
   "cell_type": "markdown",
   "id": "a835522b",
   "metadata": {},
   "source": [
    "<h3>Age</h3>\n",
    "\n",
    "Convert so they're all in bins"
   ]
  },
  {
   "cell_type": "code",
   "execution_count": 7,
   "id": "c8cd1333",
   "metadata": {},
   "outputs": [],
   "source": [
    "nat_2020['age_recoded'] = nat_2020.apply(lambda s: np.where(not pd.isnull(s['age_bin']), s['age_bin'], s['age']), axis = 1)\n",
    "\n",
    "nat_2020['age_recoded'] = nat_2020['age_recoded'].apply(lambda s: np.where(s >= 18 and s <= 34 and not pd.isnull(s), 1.0, \n",
    "                                                np.where(s >= 35 and s <= 54, 2.0, 3.0)))"
   ]
  },
  {
   "cell_type": "markdown",
   "id": "8255c9e4",
   "metadata": {},
   "source": [
    "<h3>Save</h3>"
   ]
  },
  {
   "cell_type": "code",
   "execution_count": 8,
   "id": "b6501dd6",
   "metadata": {},
   "outputs": [],
   "source": [
    "nat_2020.to_csv(\"../data/nat_2020_cleaned.csv\", index = False)"
   ]
  },
  {
   "cell_type": "markdown",
   "id": "292e2dbe",
   "metadata": {},
   "source": [
    "<h2>Add Dummy Variables</h2>"
   ]
  },
  {
   "cell_type": "code",
   "execution_count": 9,
   "id": "57146910",
   "metadata": {},
   "outputs": [],
   "source": [
    "categoricals = ['approve_trump', 'top_household_concern', 'registered_vote',\n",
    "                'likely_to_vote', 'vote_choice', 'vote_choice_undecided', 'approve_biden', \n",
    "                'elec_enthusiasm', 'focused_imp_issues', 'focused_imp_issues', \n",
    "                'political_leaning', 'latino', 'race', 'gender', \n",
    "                'party_recoded', 'age_recoded']"
   ]
  },
  {
   "cell_type": "code",
   "execution_count": 10,
   "id": "3cea37d4",
   "metadata": {},
   "outputs": [],
   "source": [
    "for category in categoricals:\n",
    "    nat_2020[category] = nat_2020[category].astype('category')\n",
    "\n",
    "\n",
    "dummies = pd.get_dummies(nat_2020[categoricals])"
   ]
  },
  {
   "cell_type": "code",
   "execution_count": 11,
   "id": "fc494cab",
   "metadata": {},
   "outputs": [],
   "source": [
    "nat_2020 = nat_2020[[c for c in nat_2020.columns if c not in categoricals]]"
   ]
  },
  {
   "cell_type": "code",
   "execution_count": 12,
   "id": "4e9f82b8",
   "metadata": {},
   "outputs": [],
   "source": [
    "nat_2020 = pd.concat([nat_2020, dummies], axis = 1)"
   ]
  },
  {
   "cell_type": "code",
   "execution_count": 18,
   "id": "2ef96e08",
   "metadata": {},
   "outputs": [
    {
     "ename": "SyntaxError",
     "evalue": "invalid syntax (2615455176.py, line 2)",
     "output_type": "error",
     "traceback": [
      "\u001b[0;36m  Cell \u001b[0;32mIn[18], line 2\u001b[0;36m\u001b[0m\n\u001b[0;31m    (!pd.isnull(nat_2020['vote_choice_recoded']))]\u001b[0m\n\u001b[0m     ^\u001b[0m\n\u001b[0;31mSyntaxError\u001b[0m\u001b[0;31m:\u001b[0m invalid syntax\n"
     ]
    }
   ],
   "source": [
    "nat_2020[(nat_2020['vote_choice_recoded'] != 3.0) | (nat_2020['vote_choice_recoded'] != 7.0) |\n",
    "          (!pd.isnull(nat_2020['vote_choice_recoded']))]"
   ]
  },
  {
   "cell_type": "markdown",
   "id": "43aca113",
   "metadata": {},
   "source": [
    "<h3>Save</h3>"
   ]
  },
  {
   "cell_type": "code",
   "execution_count": null,
   "id": "aa3d5d7e",
   "metadata": {},
   "outputs": [],
   "source": [
    "nat_2020.to_csv(\"../data/nat_2020_cleaned_with_dummies.csv\", index = False)"
   ]
  },
  {
   "cell_type": "code",
   "execution_count": null,
   "id": "c3f8cd8c",
   "metadata": {},
   "outputs": [],
   "source": []
  }
 ],
 "metadata": {
  "kernelspec": {
   "display_name": "Python 3 (ipykernel)",
   "language": "python",
   "name": "python3"
  },
  "language_info": {
   "codemirror_mode": {
    "name": "ipython",
    "version": 3
   },
   "file_extension": ".py",
   "mimetype": "text/x-python",
   "name": "python",
   "nbconvert_exporter": "python",
   "pygments_lexer": "ipython3",
   "version": "3.11.5"
  }
 },
 "nbformat": 4,
 "nbformat_minor": 5
}
